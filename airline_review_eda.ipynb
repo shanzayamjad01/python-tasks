{
  "cells": [
    {
      "cell_type": "markdown",
      "metadata": {
        "id": "view-in-github",
        "colab_type": "text"
      },
      "source": [
        "<a href=\"https://colab.research.google.com/github/shanzayamjad01/python-tasks/blob/main/airline_review_eda.ipynb\" target=\"_parent\"><img src=\"https://colab.research.google.com/assets/colab-badge.svg\" alt=\"Open In Colab\"/></a>"
      ]
    },
    {
      "cell_type": "markdown",
      "id": "6e16075b",
      "metadata": {
        "papermill": {
          "duration": 0.026488,
          "end_time": "2024-01-02T13:02:54.310231",
          "exception": false,
          "start_time": "2024-01-02T13:02:54.283743",
          "status": "completed"
        },
        "tags": [],
        "id": "6e16075b"
      },
      "source": [
        "# Airline Review Exploratory Data Analysis\n",
        "\n",
        "Customer perception is a critical component of any business operating in our world today. For a business to remain successful, it must be able to understand and adapt to the changing needs of its customer base. This project is based on the Airline Customer Holiday Booking dataset found on Kaggle. For my analysis, I chose to work with the 'AirlineScrappedReview' file found within this dataset because it offered me the chance to solve this complex challenge.\n",
        "\n",
        "## About the Data\n",
        "\n",
        "The file contains approximately 3,500 records of customer reviews. With each review, customers also provided a 1-10 rating for their experience. Each customer is broken down into classifications based on the type of travelling they did and their seating class. Reviews are marked as verified or not verified and there is additional raw information provided such as the route of the flight and the month of travel.\n",
        "\n",
        "[Click here to view the dataset](https://www.kaggle.com/code/manishkumar7432698/airline-passanger-choice-eda)\n",
        "\n",
        "## Project Goals\n",
        "\n",
        "The main goal for this project is to explore the customer review data provided in this dataset to understand how customers perceive British Airways and to identify areas of focus that British Airways could work to improve customer relations.\n",
        "\n",
        "\n",
        "## Loading the Data"
      ]
    },
    {
      "cell_type": "code",
      "execution_count": null,
      "id": "dd71c1ea",
      "metadata": {
        "execution": {
          "iopub.execute_input": "2024-01-02T13:02:54.363911Z",
          "iopub.status.busy": "2024-01-02T13:02:54.363492Z",
          "iopub.status.idle": "2024-01-02T13:02:58.008659Z",
          "shell.execute_reply": "2024-01-02T13:02:58.007422Z"
        },
        "papermill": {
          "duration": 3.676069,
          "end_time": "2024-01-02T13:02:58.012213",
          "exception": false,
          "start_time": "2024-01-02T13:02:54.336144",
          "status": "completed"
        },
        "tags": [],
        "id": "dd71c1ea",
        "outputId": "9eda9301-1302-4fa9-bf7c-78a936148e56"
      },
      "outputs": [
        {
          "name": "stderr",
          "output_type": "stream",
          "text": [
            "/opt/conda/lib/python3.10/site-packages/nltk/twitter/__init__.py:20: UserWarning: The twython library has not been installed. Some functionality from the twitter package will not be available.\n",
            "  warnings.warn(\"The twython library has not been installed. \"\n"
          ]
        }
      ],
      "source": [
        "# Importing Libraries\n",
        "import pandas as pd\n",
        "import numpy as np\n",
        "import seaborn as sns\n",
        "import matplotlib as mpl\n",
        "import matplotlib.pyplot as plt\n",
        "import nltk\n",
        "from nltk.sentiment import SentimentIntensityAnalyzer\n",
        "\n",
        "plt.style.use('ggplot')\n",
        "\n",
        "# Loading dataset\n",
        "df = pd.read_csv('/kaggle/input/airline-passangers-booking-data/AirlineScrappedReview.csv')"
      ]
    },
    {
      "cell_type": "markdown",
      "id": "e622d870",
      "metadata": {
        "papermill": {
          "duration": 0.025862,
          "end_time": "2024-01-02T13:02:58.065714",
          "exception": false,
          "start_time": "2024-01-02T13:02:58.039852",
          "status": "completed"
        },
        "tags": [],
        "id": "e622d870"
      },
      "source": [
        "## Data Discovery\n",
        "\n",
        "Once the data was loaded from the source dataset, I began my analysis by reviewing the structure of the dataset and the summary statistics. Below are some of the insights I gained from this stage of the analysis.\n",
        "\n",
        "1. A small portion of records have a null Rating.\n",
        "3. A large number of Review Verifications are null.\n",
        "4. There are a lot of records appearing in wrong columns."
      ]
    },
    {
      "cell_type": "code",
      "execution_count": null,
      "id": "56fbb602",
      "metadata": {
        "execution": {
          "iopub.execute_input": "2024-01-02T13:02:58.120864Z",
          "iopub.status.busy": "2024-01-02T13:02:58.120476Z",
          "iopub.status.idle": "2024-01-02T13:02:58.157036Z",
          "shell.execute_reply": "2024-01-02T13:02:58.155782Z"
        },
        "papermill": {
          "duration": 0.067402,
          "end_time": "2024-01-02T13:02:58.160135",
          "exception": false,
          "start_time": "2024-01-02T13:02:58.092733",
          "status": "completed"
        },
        "scrolled": true,
        "tags": [],
        "id": "56fbb602",
        "outputId": "fd1b5765-d189-4ff4-b106-e7177aab8662"
      },
      "outputs": [
        {
          "name": "stdout",
          "output_type": "stream",
          "text": [
            "<class 'pandas.core.frame.DataFrame'>\n",
            "RangeIndex: 3580 entries, 0 to 3579\n",
            "Data columns (total 9 columns):\n",
            " #   Column          Non-Null Count  Dtype  \n",
            "---  ------          --------------  -----  \n",
            " 0   Passanger_Name  3580 non-null   object \n",
            " 1   Flying_month    2815 non-null   object \n",
            " 2   Route           2816 non-null   object \n",
            " 3   Rating          3575 non-null   float64\n",
            " 4   Verified        1270 non-null   object \n",
            " 5   Review_title    3580 non-null   object \n",
            " 6   Review_content  3580 non-null   object \n",
            " 7   Traveller_type  3580 non-null   object \n",
            " 8   Class           3579 non-null   object \n",
            "dtypes: float64(1), object(8)\n",
            "memory usage: 251.8+ KB\n"
          ]
        }
      ],
      "source": [
        "# Reviewing information about dataset\n",
        "df.info()"
      ]
    },
    {
      "cell_type": "code",
      "execution_count": null,
      "id": "da5f5d57",
      "metadata": {
        "execution": {
          "iopub.execute_input": "2024-01-02T13:02:58.216300Z",
          "iopub.status.busy": "2024-01-02T13:02:58.215840Z",
          "iopub.status.idle": "2024-01-02T13:02:58.249174Z",
          "shell.execute_reply": "2024-01-02T13:02:58.247986Z"
        },
        "papermill": {
          "duration": 0.065327,
          "end_time": "2024-01-02T13:02:58.251672",
          "exception": false,
          "start_time": "2024-01-02T13:02:58.186345",
          "status": "completed"
        },
        "tags": [],
        "id": "da5f5d57",
        "outputId": "655956a5-1a05-4a37-d149-41488fe89d23"
      },
      "outputs": [
        {
          "data": {
            "text/html": [
              "<div>\n",
              "<style scoped>\n",
              "    .dataframe tbody tr th:only-of-type {\n",
              "        vertical-align: middle;\n",
              "    }\n",
              "\n",
              "    .dataframe tbody tr th {\n",
              "        vertical-align: top;\n",
              "    }\n",
              "\n",
              "    .dataframe thead th {\n",
              "        text-align: right;\n",
              "    }\n",
              "</style>\n",
              "<table border=\"1\" class=\"dataframe\">\n",
              "  <thead>\n",
              "    <tr style=\"text-align: right;\">\n",
              "      <th></th>\n",
              "      <th>Passanger_Name</th>\n",
              "      <th>Flying_month</th>\n",
              "      <th>Route</th>\n",
              "      <th>Rating</th>\n",
              "      <th>Verified</th>\n",
              "      <th>Review_title</th>\n",
              "      <th>Review_content</th>\n",
              "      <th>Traveller_type</th>\n",
              "      <th>Class</th>\n",
              "    </tr>\n",
              "  </thead>\n",
              "  <tbody>\n",
              "    <tr>\n",
              "      <th>0</th>\n",
              "      <td>Paige Boet</td>\n",
              "      <td>June 2023</td>\n",
              "      <td>New Orleans to London</td>\n",
              "      <td>1.0</td>\n",
              "      <td>Trip Verified</td>\n",
              "      <td>The airline lost my luggage</td>\n",
              "      <td>The airline lost my luggage and was absolutely...</td>\n",
              "      <td>Solo Leisure</td>\n",
              "      <td>Economy Class</td>\n",
              "    </tr>\n",
              "    <tr>\n",
              "      <th>1</th>\n",
              "      <td>S Layne</td>\n",
              "      <td>March 2023</td>\n",
              "      <td>London to Amman</td>\n",
              "      <td>1.0</td>\n",
              "      <td>Trip Verified</td>\n",
              "      <td>fully refunded by our travel insurance</td>\n",
              "      <td>We booked on the BA website, round trip flight...</td>\n",
              "      <td>Couple Leisure</td>\n",
              "      <td>Business Class</td>\n",
              "    </tr>\n",
              "    <tr>\n",
              "      <th>2</th>\n",
              "      <td>E Lanewoski</td>\n",
              "      <td>Heathrow to Bodrum</td>\n",
              "      <td>Business Class</td>\n",
              "      <td>2.0</td>\n",
              "      <td>Trip Verified</td>\n",
              "      <td>no boarding drinks provided</td>\n",
              "      <td>First time flying with BA business class, neve...</td>\n",
              "      <td>A321 neo</td>\n",
              "      <td>Solo Leisure</td>\n",
              "    </tr>\n",
              "    <tr>\n",
              "      <th>3</th>\n",
              "      <td>Joel Burman</td>\n",
              "      <td>June 2023</td>\n",
              "      <td>Amman to London</td>\n",
              "      <td>4.0</td>\n",
              "      <td>Not Verified</td>\n",
              "      <td>WiFi didn't work</td>\n",
              "      <td>You can buy sandwiches and crisps but don't ex...</td>\n",
              "      <td>Solo Leisure</td>\n",
              "      <td>Economy Class</td>\n",
              "    </tr>\n",
              "    <tr>\n",
              "      <th>4</th>\n",
              "      <td>R Vines</td>\n",
              "      <td>London City to Ibiza</td>\n",
              "      <td>Business Class</td>\n",
              "      <td>7.0</td>\n",
              "      <td>Trip Verified</td>\n",
              "      <td>stick with economy</td>\n",
              "      <td>This is a two-for-one review covering economy ...</td>\n",
              "      <td>Embraer 190</td>\n",
              "      <td>Family Leisure</td>\n",
              "    </tr>\n",
              "    <tr>\n",
              "      <th>5</th>\n",
              "      <td>M King</td>\n",
              "      <td>June 2023</td>\n",
              "      <td>London to Washington</td>\n",
              "      <td>1.0</td>\n",
              "      <td>Trip Verified</td>\n",
              "      <td>Communication is terrible</td>\n",
              "      <td>Absolutely horrible airline. Communication is ...</td>\n",
              "      <td>Couple Leisure</td>\n",
              "      <td>Economy Class</td>\n",
              "    </tr>\n",
              "    <tr>\n",
              "      <th>6</th>\n",
              "      <td>C Dean</td>\n",
              "      <td>Amsterdam to London</td>\n",
              "      <td>Business Class</td>\n",
              "      <td>1.0</td>\n",
              "      <td>Trip Verified</td>\n",
              "      <td>delays and cancellations</td>\n",
              "      <td>Having experienced delays and cancellations de...</td>\n",
              "      <td>A350</td>\n",
              "      <td>Business</td>\n",
              "    </tr>\n",
              "    <tr>\n",
              "      <th>7</th>\n",
              "      <td>Richard Hodges</td>\n",
              "      <td>London Heathrow to Kalamata</td>\n",
              "      <td>Economy Class</td>\n",
              "      <td>7.0</td>\n",
              "      <td>Trip Verified</td>\n",
              "      <td>Economy class seating was truly dreadful</td>\n",
              "      <td>Travelled to Heathrow to Kalamata and return j...</td>\n",
              "      <td>Boeing 737</td>\n",
              "      <td>Couple Leisure</td>\n",
              "    </tr>\n",
              "    <tr>\n",
              "      <th>8</th>\n",
              "      <td>Carol Willmore</td>\n",
              "      <td>June 2023</td>\n",
              "      <td>London to Funchal</td>\n",
              "      <td>1.0</td>\n",
              "      <td>Not Verified</td>\n",
              "      <td>flight failed at every level</td>\n",
              "      <td>This flight failed at every level. We were del...</td>\n",
              "      <td>Couple Leisure</td>\n",
              "      <td>Economy Class</td>\n",
              "    </tr>\n",
              "    <tr>\n",
              "      <th>9</th>\n",
              "      <td>Nadine Kohler</td>\n",
              "      <td>June 2023</td>\n",
              "      <td>Marseille to Seattle via London Heathrow</td>\n",
              "      <td>1.0</td>\n",
              "      <td>Not Verified</td>\n",
              "      <td>BA refuses to make it right</td>\n",
              "      <td>Beware of British Airways and their marketing ...</td>\n",
              "      <td>Family Leisure</td>\n",
              "      <td>Economy Class</td>\n",
              "    </tr>\n",
              "    <tr>\n",
              "      <th>10</th>\n",
              "      <td>A. Adel</td>\n",
              "      <td>June 2023</td>\n",
              "      <td>Cairo to London</td>\n",
              "      <td>2.0</td>\n",
              "      <td>Trip Verified</td>\n",
              "      <td>shame for such well known airline</td>\n",
              "      <td>I flew from Cairo to Heathrow on what they cal...</td>\n",
              "      <td>Solo Leisure</td>\n",
              "      <td>Business Class</td>\n",
              "    </tr>\n",
              "    <tr>\n",
              "      <th>11</th>\n",
              "      <td>Cosmin Stefanescu</td>\n",
              "      <td>June 2023</td>\n",
              "      <td>Bucharest to Dallas via London</td>\n",
              "      <td>1.0</td>\n",
              "      <td>Not Verified</td>\n",
              "      <td>Total garbage</td>\n",
              "      <td>I flew with numerous airlines, but I gotta adm...</td>\n",
              "      <td>Solo Leisure</td>\n",
              "      <td>Economy Class</td>\n",
              "    </tr>\n",
              "    <tr>\n",
              "      <th>12</th>\n",
              "      <td>Emmeline Reichert</td>\n",
              "      <td>June 2023</td>\n",
              "      <td>Gatwick to Venice</td>\n",
              "      <td>3.0</td>\n",
              "      <td>Trip Verified</td>\n",
              "      <td>arrived at the airport only 1 hour before</td>\n",
              "      <td>We were traveling as a family (5 people). Beca...</td>\n",
              "      <td>Family Leisure</td>\n",
              "      <td>Economy Class</td>\n",
              "    </tr>\n",
              "    <tr>\n",
              "      <th>13</th>\n",
              "      <td>Jamie Gooding</td>\n",
              "      <td>June 2023</td>\n",
              "      <td>Dublin to London City</td>\n",
              "      <td>1.0</td>\n",
              "      <td>Trip Verified</td>\n",
              "      <td>so callous and uncaring</td>\n",
              "      <td>Flight at 8.40am from DUB to LCY cancelled 115...</td>\n",
              "      <td>Solo Leisure</td>\n",
              "      <td>Economy Class</td>\n",
              "    </tr>\n",
              "    <tr>\n",
              "      <th>14</th>\n",
              "      <td>Michael Hayward</td>\n",
              "      <td>June 2023</td>\n",
              "      <td>Tokyo to Manchester via Heathrow</td>\n",
              "      <td>1.0</td>\n",
              "      <td>Trip Verified</td>\n",
              "      <td>uncomfy old planes</td>\n",
              "      <td>Terrible. I have traveled twice with them this...</td>\n",
              "      <td>Business</td>\n",
              "      <td>Business Class</td>\n",
              "    </tr>\n",
              "    <tr>\n",
              "      <th>15</th>\n",
              "      <td>George W Edmonds</td>\n",
              "      <td>June 2023</td>\n",
              "      <td>San Francisco to London</td>\n",
              "      <td>1.0</td>\n",
              "      <td>Trip Verified</td>\n",
              "      <td>never fly British Airway ever again</td>\n",
              "      <td>The customer service is ugly. Tried calling tw...</td>\n",
              "      <td>Solo Leisure</td>\n",
              "      <td>Economy Class</td>\n",
              "    </tr>\n",
              "    <tr>\n",
              "      <th>16</th>\n",
              "      <td>A Garlen</td>\n",
              "      <td>Santiago to London</td>\n",
              "      <td>Economy Class</td>\n",
              "      <td>3.0</td>\n",
              "      <td>Trip Verified</td>\n",
              "      <td>Most uncomfortable flight</td>\n",
              "      <td>Most uncomfortable flight I have ever experien...</td>\n",
              "      <td>Boeing 787</td>\n",
              "      <td>Family Leisure</td>\n",
              "    </tr>\n",
              "    <tr>\n",
              "      <th>17</th>\n",
              "      <td>K Pickering</td>\n",
              "      <td>June 2023</td>\n",
              "      <td>Seattle to Nice via London</td>\n",
              "      <td>1.0</td>\n",
              "      <td>Trip Verified</td>\n",
              "      <td>I will never fly British Airways again</td>\n",
              "      <td>I booked our first out of country trip to take...</td>\n",
              "      <td>Couple Leisure</td>\n",
              "      <td>Economy Class</td>\n",
              "    </tr>\n",
              "    <tr>\n",
              "      <th>18</th>\n",
              "      <td>M Johnson</td>\n",
              "      <td>March 2023</td>\n",
              "      <td>Sydney via Singapore to London Heathrow</td>\n",
              "      <td>4.0</td>\n",
              "      <td>Trip Verified</td>\n",
              "      <td>All in all very disappointing</td>\n",
              "      <td>My husband and I booked seats within our premi...</td>\n",
              "      <td>Couple Leisure</td>\n",
              "      <td>Premium Economy</td>\n",
              "    </tr>\n",
              "    <tr>\n",
              "      <th>19</th>\n",
              "      <td>Benjamin Stevens</td>\n",
              "      <td>Seattle to Edinburgh via Heathrow</td>\n",
              "      <td>Economy Class</td>\n",
              "      <td>1.0</td>\n",
              "      <td>Not Verified</td>\n",
              "      <td>customer service was horrendous</td>\n",
              "      <td>May 3, flew from Seattle to Heathrow then to E...</td>\n",
              "      <td>Boeing 777</td>\n",
              "      <td>Business</td>\n",
              "    </tr>\n",
              "    <tr>\n",
              "      <th>20</th>\n",
              "      <td>V Samaras</td>\n",
              "      <td>April 2023</td>\n",
              "      <td>Athens to Durban via London Heathrow</td>\n",
              "      <td>2.0</td>\n",
              "      <td>Trip Verified</td>\n",
              "      <td>All flights without exception were delayed</td>\n",
              "      <td>I went through three flights to reach my desti...</td>\n",
              "      <td>Solo Leisure</td>\n",
              "      <td>Economy Class</td>\n",
              "    </tr>\n",
              "    <tr>\n",
              "      <th>21</th>\n",
              "      <td>Christopher Neep</td>\n",
              "      <td>Vancouver to London Heathrow</td>\n",
              "      <td>Business Class</td>\n",
              "      <td>9.0</td>\n",
              "      <td>Trip Verified</td>\n",
              "      <td>An excellent flight</td>\n",
              "      <td>An excellent flight in Club World on British A...</td>\n",
              "      <td>A350</td>\n",
              "      <td>Solo Leisure</td>\n",
              "    </tr>\n",
              "    <tr>\n",
              "      <th>22</th>\n",
              "      <td>Ali Balandy</td>\n",
              "      <td>May 2023</td>\n",
              "      <td>Vancouver to Barcelona via London</td>\n",
              "      <td>3.0</td>\n",
              "      <td>Trip Verified</td>\n",
              "      <td>luggage was still in London</td>\n",
              "      <td>The flight schedule was delayed for one hour. ...</td>\n",
              "      <td>Family Leisure</td>\n",
              "      <td>Economy Class</td>\n",
              "    </tr>\n",
              "    <tr>\n",
              "      <th>23</th>\n",
              "      <td>A Robinson</td>\n",
              "      <td>June 2023</td>\n",
              "      <td>Boston to Cairo via London</td>\n",
              "      <td>1.0</td>\n",
              "      <td>Trip Verified</td>\n",
              "      <td>worst experience in all my years of travel</td>\n",
              "      <td>The worst experience in all my years of travel...</td>\n",
              "      <td>Family Leisure</td>\n",
              "      <td>Economy Class</td>\n",
              "    </tr>\n",
              "    <tr>\n",
              "      <th>24</th>\n",
              "      <td>K Parker</td>\n",
              "      <td>May 2023</td>\n",
              "      <td>London to Santorini</td>\n",
              "      <td>1.0</td>\n",
              "      <td>Trip Verified</td>\n",
              "      <td>The worst experience</td>\n",
              "      <td>The worst experience in all my years of travel...</td>\n",
              "      <td>Couple Leisure</td>\n",
              "      <td>Economy Class</td>\n",
              "    </tr>\n",
              "    <tr>\n",
              "      <th>25</th>\n",
              "      <td>Tanya Tracy</td>\n",
              "      <td>February 2023</td>\n",
              "      <td>Heathrow to Mumbai</td>\n",
              "      <td>2.0</td>\n",
              "      <td>Trip Verified</td>\n",
              "      <td>haven’t received any reimbursement</td>\n",
              "      <td>Terrible delays. Had to rebook our domestic tr...</td>\n",
              "      <td>Family Leisure</td>\n",
              "      <td>Economy Class</td>\n",
              "    </tr>\n",
              "    <tr>\n",
              "      <th>26</th>\n",
              "      <td>Christos Hadjipanayi</td>\n",
              "      <td>March 2023</td>\n",
              "      <td>London to Larnaca</td>\n",
              "      <td>10.0</td>\n",
              "      <td>Trip Verified</td>\n",
              "      <td>the crew has helped me</td>\n",
              "      <td>A serious medical problem appeared while I was...</td>\n",
              "      <td>Solo Leisure</td>\n",
              "      <td>Economy Class</td>\n",
              "    </tr>\n",
              "    <tr>\n",
              "      <th>27</th>\n",
              "      <td>N Stane</td>\n",
              "      <td>May 2023</td>\n",
              "      <td>Nice to London Heathrow</td>\n",
              "      <td>1.0</td>\n",
              "      <td>Trip Verified</td>\n",
              "      <td>check-in process was terrible</td>\n",
              "      <td>I haven't flown British Airways before and wil...</td>\n",
              "      <td>Family Leisure</td>\n",
              "      <td>Economy Class</td>\n",
              "    </tr>\n",
              "    <tr>\n",
              "      <th>28</th>\n",
              "      <td>Alex Martinez</td>\n",
              "      <td>May 2023</td>\n",
              "      <td>Las Vegas to Venice</td>\n",
              "      <td>1.0</td>\n",
              "      <td>Not Verified</td>\n",
              "      <td>the worst airline experience I've ever had to ...</td>\n",
              "      <td>My itinerary was supposed to be Las Vegas-Chic...</td>\n",
              "      <td>Solo Leisure</td>\n",
              "      <td>Economy Class</td>\n",
              "    </tr>\n",
              "    <tr>\n",
              "      <th>29</th>\n",
              "      <td>E Smyth</td>\n",
              "      <td>London to New York</td>\n",
              "      <td>Premium Economy</td>\n",
              "      <td>9.0</td>\n",
              "      <td>Trip Verified</td>\n",
              "      <td>Service was good</td>\n",
              "      <td>Busy day at LHR and flight full. Lounge crowde...</td>\n",
              "      <td>Boeing 777-300</td>\n",
              "      <td>Family Leisure</td>\n",
              "    </tr>\n",
              "  </tbody>\n",
              "</table>\n",
              "</div>"
            ],
            "text/plain": [
              "          Passanger_Name                       Flying_month  \\\n",
              "0             Paige Boet                          June 2023   \n",
              "1                S Layne                         March 2023   \n",
              "2            E Lanewoski                 Heathrow to Bodrum   \n",
              "3            Joel Burman                          June 2023   \n",
              "4                R Vines               London City to Ibiza   \n",
              "5                 M King                          June 2023   \n",
              "6                 C Dean                Amsterdam to London   \n",
              "7         Richard Hodges        London Heathrow to Kalamata   \n",
              "8         Carol Willmore                          June 2023   \n",
              "9          Nadine Kohler                          June 2023   \n",
              "10               A. Adel                          June 2023   \n",
              "11     Cosmin Stefanescu                          June 2023   \n",
              "12     Emmeline Reichert                          June 2023   \n",
              "13         Jamie Gooding                          June 2023   \n",
              "14       Michael Hayward                          June 2023   \n",
              "15      George W Edmonds                          June 2023   \n",
              "16              A Garlen                 Santiago to London   \n",
              "17           K Pickering                          June 2023   \n",
              "18             M Johnson                         March 2023   \n",
              "19      Benjamin Stevens  Seattle to Edinburgh via Heathrow   \n",
              "20             V Samaras                         April 2023   \n",
              "21      Christopher Neep       Vancouver to London Heathrow   \n",
              "22           Ali Balandy                           May 2023   \n",
              "23            A Robinson                          June 2023   \n",
              "24              K Parker                           May 2023   \n",
              "25           Tanya Tracy                      February 2023   \n",
              "26  Christos Hadjipanayi                         March 2023   \n",
              "27               N Stane                           May 2023   \n",
              "28         Alex Martinez                           May 2023   \n",
              "29               E Smyth                 London to New York   \n",
              "\n",
              "                                       Route  Rating       Verified  \\\n",
              "0                      New Orleans to London     1.0  Trip Verified   \n",
              "1                            London to Amman     1.0  Trip Verified   \n",
              "2                             Business Class     2.0  Trip Verified   \n",
              "3                            Amman to London     4.0   Not Verified   \n",
              "4                             Business Class     7.0  Trip Verified   \n",
              "5                       London to Washington     1.0  Trip Verified   \n",
              "6                             Business Class     1.0  Trip Verified   \n",
              "7                              Economy Class     7.0  Trip Verified   \n",
              "8                         London to Funchal      1.0   Not Verified   \n",
              "9   Marseille to Seattle via London Heathrow     1.0   Not Verified   \n",
              "10                          Cairo to London      2.0  Trip Verified   \n",
              "11            Bucharest to Dallas via London     1.0   Not Verified   \n",
              "12                         Gatwick to Venice     3.0  Trip Verified   \n",
              "13                     Dublin to London City     1.0  Trip Verified   \n",
              "14          Tokyo to Manchester via Heathrow     1.0  Trip Verified   \n",
              "15                   San Francisco to London     1.0  Trip Verified   \n",
              "16                             Economy Class     3.0  Trip Verified   \n",
              "17                Seattle to Nice via London     1.0  Trip Verified   \n",
              "18  Sydney via Singapore to London Heathrow      4.0  Trip Verified   \n",
              "19                             Economy Class     1.0   Not Verified   \n",
              "20      Athens to Durban via London Heathrow     2.0  Trip Verified   \n",
              "21                            Business Class     9.0  Trip Verified   \n",
              "22         Vancouver to Barcelona via London     3.0  Trip Verified   \n",
              "23                Boston to Cairo via London     1.0  Trip Verified   \n",
              "24                       London to Santorini     1.0  Trip Verified   \n",
              "25                        Heathrow to Mumbai     2.0  Trip Verified   \n",
              "26                         London to Larnaca    10.0  Trip Verified   \n",
              "27                   Nice to London Heathrow     1.0  Trip Verified   \n",
              "28                       Las Vegas to Venice     1.0   Not Verified   \n",
              "29                           Premium Economy     9.0  Trip Verified   \n",
              "\n",
              "                                         Review_title  \\\n",
              "0                         The airline lost my luggage   \n",
              "1              fully refunded by our travel insurance   \n",
              "2                         no boarding drinks provided   \n",
              "3                                   WiFi didn't work    \n",
              "4                                  stick with economy   \n",
              "5                           Communication is terrible   \n",
              "6                            delays and cancellations   \n",
              "7            Economy class seating was truly dreadful   \n",
              "8                        flight failed at every level   \n",
              "9                         BA refuses to make it right   \n",
              "10                  shame for such well known airline   \n",
              "11                                      Total garbage   \n",
              "12          arrived at the airport only 1 hour before   \n",
              "13                            so callous and uncaring   \n",
              "14                                 uncomfy old planes   \n",
              "15                never fly British Airway ever again   \n",
              "16                          Most uncomfortable flight   \n",
              "17             I will never fly British Airways again   \n",
              "18                      All in all very disappointing   \n",
              "19                    customer service was horrendous   \n",
              "20         All flights without exception were delayed   \n",
              "21                                An excellent flight   \n",
              "22                       luggage was still in London    \n",
              "23         worst experience in all my years of travel   \n",
              "24                               The worst experience   \n",
              "25                 haven’t received any reimbursement   \n",
              "26                             the crew has helped me   \n",
              "27                      check-in process was terrible   \n",
              "28  the worst airline experience I've ever had to ...   \n",
              "29                                   Service was good   \n",
              "\n",
              "                                       Review_content  Traveller_type  \\\n",
              "0   The airline lost my luggage and was absolutely...    Solo Leisure   \n",
              "1   We booked on the BA website, round trip flight...  Couple Leisure   \n",
              "2   First time flying with BA business class, neve...        A321 neo   \n",
              "3   You can buy sandwiches and crisps but don't ex...    Solo Leisure   \n",
              "4   This is a two-for-one review covering economy ...     Embraer 190   \n",
              "5   Absolutely horrible airline. Communication is ...  Couple Leisure   \n",
              "6   Having experienced delays and cancellations de...            A350   \n",
              "7   Travelled to Heathrow to Kalamata and return j...      Boeing 737   \n",
              "8   This flight failed at every level. We were del...  Couple Leisure   \n",
              "9   Beware of British Airways and their marketing ...  Family Leisure   \n",
              "10  I flew from Cairo to Heathrow on what they cal...    Solo Leisure   \n",
              "11  I flew with numerous airlines, but I gotta adm...    Solo Leisure   \n",
              "12  We were traveling as a family (5 people). Beca...  Family Leisure   \n",
              "13  Flight at 8.40am from DUB to LCY cancelled 115...    Solo Leisure   \n",
              "14  Terrible. I have traveled twice with them this...        Business   \n",
              "15  The customer service is ugly. Tried calling tw...    Solo Leisure   \n",
              "16  Most uncomfortable flight I have ever experien...      Boeing 787   \n",
              "17  I booked our first out of country trip to take...  Couple Leisure   \n",
              "18  My husband and I booked seats within our premi...  Couple Leisure   \n",
              "19  May 3, flew from Seattle to Heathrow then to E...      Boeing 777   \n",
              "20  I went through three flights to reach my desti...    Solo Leisure   \n",
              "21  An excellent flight in Club World on British A...            A350   \n",
              "22  The flight schedule was delayed for one hour. ...  Family Leisure   \n",
              "23  The worst experience in all my years of travel...  Family Leisure   \n",
              "24  The worst experience in all my years of travel...  Couple Leisure   \n",
              "25  Terrible delays. Had to rebook our domestic tr...  Family Leisure   \n",
              "26  A serious medical problem appeared while I was...    Solo Leisure   \n",
              "27  I haven't flown British Airways before and wil...  Family Leisure   \n",
              "28  My itinerary was supposed to be Las Vegas-Chic...    Solo Leisure   \n",
              "29  Busy day at LHR and flight full. Lounge crowde...  Boeing 777-300   \n",
              "\n",
              "              Class  \n",
              "0     Economy Class  \n",
              "1    Business Class  \n",
              "2      Solo Leisure  \n",
              "3     Economy Class  \n",
              "4    Family Leisure  \n",
              "5     Economy Class  \n",
              "6          Business  \n",
              "7    Couple Leisure  \n",
              "8     Economy Class  \n",
              "9     Economy Class  \n",
              "10   Business Class  \n",
              "11    Economy Class  \n",
              "12    Economy Class  \n",
              "13    Economy Class  \n",
              "14   Business Class  \n",
              "15    Economy Class  \n",
              "16   Family Leisure  \n",
              "17    Economy Class  \n",
              "18  Premium Economy  \n",
              "19         Business  \n",
              "20    Economy Class  \n",
              "21     Solo Leisure  \n",
              "22    Economy Class  \n",
              "23    Economy Class  \n",
              "24    Economy Class  \n",
              "25    Economy Class  \n",
              "26    Economy Class  \n",
              "27    Economy Class  \n",
              "28    Economy Class  \n",
              "29   Family Leisure  "
            ]
          },
          "execution_count": 3,
          "metadata": {},
          "output_type": "execute_result"
        }
      ],
      "source": [
        "# Viewing first 30 rows of data\n",
        "df.head(30)"
      ]
    },
    {
      "cell_type": "code",
      "execution_count": null,
      "id": "9caf495d",
      "metadata": {
        "execution": {
          "iopub.execute_input": "2024-01-02T13:02:58.376754Z",
          "iopub.status.busy": "2024-01-02T13:02:58.376333Z",
          "iopub.status.idle": "2024-01-02T13:02:58.393089Z",
          "shell.execute_reply": "2024-01-02T13:02:58.392030Z"
        },
        "papermill": {
          "duration": 0.050138,
          "end_time": "2024-01-02T13:02:58.395613",
          "exception": false,
          "start_time": "2024-01-02T13:02:58.345475",
          "status": "completed"
        },
        "tags": [],
        "id": "9caf495d",
        "outputId": "000b5fbf-b30c-4e72-94bd-54d9b24fa634"
      },
      "outputs": [
        {
          "data": {
            "text/html": [
              "<div>\n",
              "<style scoped>\n",
              "    .dataframe tbody tr th:only-of-type {\n",
              "        vertical-align: middle;\n",
              "    }\n",
              "\n",
              "    .dataframe tbody tr th {\n",
              "        vertical-align: top;\n",
              "    }\n",
              "\n",
              "    .dataframe thead th {\n",
              "        text-align: right;\n",
              "    }\n",
              "</style>\n",
              "<table border=\"1\" class=\"dataframe\">\n",
              "  <thead>\n",
              "    <tr style=\"text-align: right;\">\n",
              "      <th></th>\n",
              "      <th>Rating</th>\n",
              "    </tr>\n",
              "  </thead>\n",
              "  <tbody>\n",
              "    <tr>\n",
              "      <th>count</th>\n",
              "      <td>3575.000000</td>\n",
              "    </tr>\n",
              "    <tr>\n",
              "      <th>mean</th>\n",
              "      <td>4.790490</td>\n",
              "    </tr>\n",
              "    <tr>\n",
              "      <th>std</th>\n",
              "      <td>3.170323</td>\n",
              "    </tr>\n",
              "    <tr>\n",
              "      <th>min</th>\n",
              "      <td>1.000000</td>\n",
              "    </tr>\n",
              "    <tr>\n",
              "      <th>25%</th>\n",
              "      <td>2.000000</td>\n",
              "    </tr>\n",
              "    <tr>\n",
              "      <th>50%</th>\n",
              "      <td>4.000000</td>\n",
              "    </tr>\n",
              "    <tr>\n",
              "      <th>75%</th>\n",
              "      <td>8.000000</td>\n",
              "    </tr>\n",
              "    <tr>\n",
              "      <th>max</th>\n",
              "      <td>10.000000</td>\n",
              "    </tr>\n",
              "  </tbody>\n",
              "</table>\n",
              "</div>"
            ],
            "text/plain": [
              "            Rating\n",
              "count  3575.000000\n",
              "mean      4.790490\n",
              "std       3.170323\n",
              "min       1.000000\n",
              "25%       2.000000\n",
              "50%       4.000000\n",
              "75%       8.000000\n",
              "max      10.000000"
            ]
          },
          "execution_count": 4,
          "metadata": {},
          "output_type": "execute_result"
        }
      ],
      "source": [
        "# Checking summary statistics\n",
        "df.describe()"
      ]
    },
    {
      "cell_type": "markdown",
      "id": "cdc60552",
      "metadata": {
        "papermill": {
          "duration": 0.027717,
          "end_time": "2024-01-02T13:02:58.451920",
          "exception": false,
          "start_time": "2024-01-02T13:02:58.424203",
          "status": "completed"
        },
        "tags": [],
        "id": "cdc60552"
      },
      "source": [
        "## Data Cleaning\n",
        "\n",
        "With a firm understanding of the types of data within my dataset, I began the cleaning process by identifying a list of issues within the data structure. To resolve these issues, I made a plan to clean the data and broke the process down into a checklist of steps listed below.\n",
        "\n",
        "1. Remove duplicate rows from the dataset.\n",
        "2. Omit any records with a null Ratings.\n",
        "    - I only want to analyze reviews with a Rating score provided.\n",
        "3. Set any null Review Verifications to 'Not Verified'.\n",
        "    - This will allow me to still consider these reviews under the assumption they have not been verified.\n",
        "4. Identify proper categories for the Traveller_type and Class columns in order to clean each column.\n",
        "5. Clean Flying_month and Route columns.\n",
        "\n",
        "### Key Challenges Faced in this Process\n",
        "\n",
        "During the data cleaning process, I faced numerous challenges. The biggest challenge was the sheer amount of data that appeared in the wrong columns with no clear pattern or reason for incorrect values to appear where they did. I had to deploy a diverse array of cleaning techniques to clean each column with constant checks as I performed each step. This process took longer than any other step in the project.\n",
        "\n",
        "The next major challenge I faced was with interpreting the route data. I knew there was valuable data that could be useful for analysis within this column but since the column was an aggregation of starting city, ending city, and layover routes I had to craft a process for identifying these aggregated values and breaking them into separate columns. I was able to overcome this challenge by recognizing a common pattern for each listing and parsing the data appropriately.\n",
        "\n",
        "#### 1. Removing Duplicates"
      ]
    },
    {
      "cell_type": "code",
      "execution_count": null,
      "id": "c0d1cdf6",
      "metadata": {
        "execution": {
          "iopub.execute_input": "2024-01-02T13:02:58.510612Z",
          "iopub.status.busy": "2024-01-02T13:02:58.509925Z",
          "iopub.status.idle": "2024-01-02T13:02:58.552737Z",
          "shell.execute_reply": "2024-01-02T13:02:58.551822Z"
        },
        "papermill": {
          "duration": 0.074584,
          "end_time": "2024-01-02T13:02:58.554943",
          "exception": false,
          "start_time": "2024-01-02T13:02:58.480359",
          "status": "completed"
        },
        "tags": [],
        "id": "c0d1cdf6",
        "outputId": "b69f42e3-eab2-4327-e619-591284af62d9"
      },
      "outputs": [
        {
          "data": {
            "text/html": [
              "<div>\n",
              "<style scoped>\n",
              "    .dataframe tbody tr th:only-of-type {\n",
              "        vertical-align: middle;\n",
              "    }\n",
              "\n",
              "    .dataframe tbody tr th {\n",
              "        vertical-align: top;\n",
              "    }\n",
              "\n",
              "    .dataframe thead th {\n",
              "        text-align: right;\n",
              "    }\n",
              "</style>\n",
              "<table border=\"1\" class=\"dataframe\">\n",
              "  <thead>\n",
              "    <tr style=\"text-align: right;\">\n",
              "      <th></th>\n",
              "      <th>Passanger_Name</th>\n",
              "      <th>Flying_month</th>\n",
              "      <th>Route</th>\n",
              "      <th>Rating</th>\n",
              "      <th>Verified</th>\n",
              "      <th>Review_title</th>\n",
              "      <th>Review_content</th>\n",
              "      <th>Traveller_type</th>\n",
              "      <th>Class</th>\n",
              "    </tr>\n",
              "  </thead>\n",
              "  <tbody>\n",
              "    <tr>\n",
              "      <th>0</th>\n",
              "      <td>Paige Boet</td>\n",
              "      <td>June 2023</td>\n",
              "      <td>New Orleans to London</td>\n",
              "      <td>1.0</td>\n",
              "      <td>Trip Verified</td>\n",
              "      <td>The airline lost my luggage</td>\n",
              "      <td>The airline lost my luggage and was absolutely...</td>\n",
              "      <td>Solo Leisure</td>\n",
              "      <td>Economy Class</td>\n",
              "    </tr>\n",
              "    <tr>\n",
              "      <th>1</th>\n",
              "      <td>S Layne</td>\n",
              "      <td>March 2023</td>\n",
              "      <td>London to Amman</td>\n",
              "      <td>1.0</td>\n",
              "      <td>Trip Verified</td>\n",
              "      <td>fully refunded by our travel insurance</td>\n",
              "      <td>We booked on the BA website, round trip flight...</td>\n",
              "      <td>Couple Leisure</td>\n",
              "      <td>Business Class</td>\n",
              "    </tr>\n",
              "    <tr>\n",
              "      <th>2</th>\n",
              "      <td>E Lanewoski</td>\n",
              "      <td>Heathrow to Bodrum</td>\n",
              "      <td>Business Class</td>\n",
              "      <td>2.0</td>\n",
              "      <td>Trip Verified</td>\n",
              "      <td>no boarding drinks provided</td>\n",
              "      <td>First time flying with BA business class, neve...</td>\n",
              "      <td>A321 neo</td>\n",
              "      <td>Solo Leisure</td>\n",
              "    </tr>\n",
              "    <tr>\n",
              "      <th>3</th>\n",
              "      <td>Joel Burman</td>\n",
              "      <td>June 2023</td>\n",
              "      <td>Amman to London</td>\n",
              "      <td>4.0</td>\n",
              "      <td>Not Verified</td>\n",
              "      <td>WiFi didn't work</td>\n",
              "      <td>You can buy sandwiches and crisps but don't ex...</td>\n",
              "      <td>Solo Leisure</td>\n",
              "      <td>Economy Class</td>\n",
              "    </tr>\n",
              "    <tr>\n",
              "      <th>4</th>\n",
              "      <td>R Vines</td>\n",
              "      <td>London City to Ibiza</td>\n",
              "      <td>Business Class</td>\n",
              "      <td>7.0</td>\n",
              "      <td>Trip Verified</td>\n",
              "      <td>stick with economy</td>\n",
              "      <td>This is a two-for-one review covering economy ...</td>\n",
              "      <td>Embraer 190</td>\n",
              "      <td>Family Leisure</td>\n",
              "    </tr>\n",
              "    <tr>\n",
              "      <th>...</th>\n",
              "      <td>...</td>\n",
              "      <td>...</td>\n",
              "      <td>...</td>\n",
              "      <td>...</td>\n",
              "      <td>...</td>\n",
              "      <td>...</td>\n",
              "      <td>...</td>\n",
              "      <td>...</td>\n",
              "      <td>...</td>\n",
              "    </tr>\n",
              "    <tr>\n",
              "      <th>3575</th>\n",
              "      <td>W Benson</td>\n",
              "      <td>NaN</td>\n",
              "      <td>NaN</td>\n",
              "      <td>4.0</td>\n",
              "      <td>NaN</td>\n",
              "      <td>British Airways customer review</td>\n",
              "      <td>LHR-HKG on Boeing 747 - 23/08/12. Much has bee...</td>\n",
              "      <td>Economy Class</td>\n",
              "      <td>no</td>\n",
              "    </tr>\n",
              "    <tr>\n",
              "      <th>3576</th>\n",
              "      <td>S Luqman</td>\n",
              "      <td>NaN</td>\n",
              "      <td>NaN</td>\n",
              "      <td>4.0</td>\n",
              "      <td>NaN</td>\n",
              "      <td>British Airways customer review</td>\n",
              "      <td>Just got back from Bridgetown Barbados flying ...</td>\n",
              "      <td>Economy Class</td>\n",
              "      <td>no</td>\n",
              "    </tr>\n",
              "    <tr>\n",
              "      <th>3577</th>\n",
              "      <td>D Smith</td>\n",
              "      <td>NaN</td>\n",
              "      <td>NaN</td>\n",
              "      <td>4.0</td>\n",
              "      <td>NaN</td>\n",
              "      <td>British Airways customer review</td>\n",
              "      <td>LHR-JFK-LAX-LHR. Check in was ok apart from be...</td>\n",
              "      <td>Economy Class</td>\n",
              "      <td>no</td>\n",
              "    </tr>\n",
              "    <tr>\n",
              "      <th>3578</th>\n",
              "      <td>W Benson</td>\n",
              "      <td>NaN</td>\n",
              "      <td>NaN</td>\n",
              "      <td>6.0</td>\n",
              "      <td>NaN</td>\n",
              "      <td>British Airways customer review</td>\n",
              "      <td>HKG-LHR in New Club World on Boeing 777-300 - ...</td>\n",
              "      <td>Business Class</td>\n",
              "      <td>yes</td>\n",
              "    </tr>\n",
              "    <tr>\n",
              "      <th>3579</th>\n",
              "      <td>Michael Dielissen</td>\n",
              "      <td>NaN</td>\n",
              "      <td>NaN</td>\n",
              "      <td>8.0</td>\n",
              "      <td>NaN</td>\n",
              "      <td>British Airways customer review</td>\n",
              "      <td>YYZ to LHR - July 2012 - I flew overnight in p...</td>\n",
              "      <td>Premium Economy</td>\n",
              "      <td>yes</td>\n",
              "    </tr>\n",
              "  </tbody>\n",
              "</table>\n",
              "<p>3506 rows × 9 columns</p>\n",
              "</div>"
            ],
            "text/plain": [
              "         Passanger_Name          Flying_month                  Route  Rating  \\\n",
              "0            Paige Boet             June 2023  New Orleans to London     1.0   \n",
              "1               S Layne            March 2023        London to Amman     1.0   \n",
              "2           E Lanewoski    Heathrow to Bodrum         Business Class     2.0   \n",
              "3           Joel Burman             June 2023        Amman to London     4.0   \n",
              "4               R Vines  London City to Ibiza         Business Class     7.0   \n",
              "...                 ...                   ...                    ...     ...   \n",
              "3575           W Benson                   NaN                    NaN     4.0   \n",
              "3576           S Luqman                   NaN                    NaN     4.0   \n",
              "3577            D Smith                   NaN                    NaN     4.0   \n",
              "3578           W Benson                   NaN                    NaN     6.0   \n",
              "3579  Michael Dielissen                   NaN                    NaN     8.0   \n",
              "\n",
              "           Verified                            Review_title  \\\n",
              "0     Trip Verified             The airline lost my luggage   \n",
              "1     Trip Verified  fully refunded by our travel insurance   \n",
              "2     Trip Verified             no boarding drinks provided   \n",
              "3      Not Verified                       WiFi didn't work    \n",
              "4     Trip Verified                      stick with economy   \n",
              "...             ...                                     ...   \n",
              "3575            NaN         British Airways customer review   \n",
              "3576            NaN         British Airways customer review   \n",
              "3577            NaN         British Airways customer review   \n",
              "3578            NaN         British Airways customer review   \n",
              "3579            NaN         British Airways customer review   \n",
              "\n",
              "                                         Review_content   Traveller_type  \\\n",
              "0     The airline lost my luggage and was absolutely...     Solo Leisure   \n",
              "1     We booked on the BA website, round trip flight...   Couple Leisure   \n",
              "2     First time flying with BA business class, neve...         A321 neo   \n",
              "3     You can buy sandwiches and crisps but don't ex...     Solo Leisure   \n",
              "4     This is a two-for-one review covering economy ...      Embraer 190   \n",
              "...                                                 ...              ...   \n",
              "3575  LHR-HKG on Boeing 747 - 23/08/12. Much has bee...    Economy Class   \n",
              "3576  Just got back from Bridgetown Barbados flying ...    Economy Class   \n",
              "3577  LHR-JFK-LAX-LHR. Check in was ok apart from be...    Economy Class   \n",
              "3578  HKG-LHR in New Club World on Boeing 777-300 - ...   Business Class   \n",
              "3579  YYZ to LHR - July 2012 - I flew overnight in p...  Premium Economy   \n",
              "\n",
              "               Class  \n",
              "0      Economy Class  \n",
              "1     Business Class  \n",
              "2       Solo Leisure  \n",
              "3      Economy Class  \n",
              "4     Family Leisure  \n",
              "...              ...  \n",
              "3575              no  \n",
              "3576              no  \n",
              "3577              no  \n",
              "3578             yes  \n",
              "3579             yes  \n",
              "\n",
              "[3506 rows x 9 columns]"
            ]
          },
          "execution_count": 5,
          "metadata": {},
          "output_type": "execute_result"
        }
      ],
      "source": [
        "# Removing duplicate records\n",
        "df.drop_duplicates()"
      ]
    },
    {
      "cell_type": "markdown",
      "id": "ba107690",
      "metadata": {
        "papermill": {
          "duration": 0.028275,
          "end_time": "2024-01-02T13:02:58.612555",
          "exception": false,
          "start_time": "2024-01-02T13:02:58.584280",
          "status": "completed"
        },
        "tags": [],
        "id": "ba107690"
      },
      "source": [
        "#### 2. Omitting null Ratings"
      ]
    },
    {
      "cell_type": "code",
      "execution_count": null,
      "id": "6e86b6be",
      "metadata": {
        "execution": {
          "iopub.execute_input": "2024-01-02T13:02:58.672957Z",
          "iopub.status.busy": "2024-01-02T13:02:58.672516Z",
          "iopub.status.idle": "2024-01-02T13:02:58.690023Z",
          "shell.execute_reply": "2024-01-02T13:02:58.688873Z"
        },
        "papermill": {
          "duration": 0.049741,
          "end_time": "2024-01-02T13:02:58.692293",
          "exception": false,
          "start_time": "2024-01-02T13:02:58.642552",
          "status": "completed"
        },
        "scrolled": true,
        "tags": [],
        "id": "6e86b6be",
        "outputId": "5bd57340-ca63-49e7-f17a-d5f6ac39fc9e"
      },
      "outputs": [
        {
          "data": {
            "text/html": [
              "<div>\n",
              "<style scoped>\n",
              "    .dataframe tbody tr th:only-of-type {\n",
              "        vertical-align: middle;\n",
              "    }\n",
              "\n",
              "    .dataframe tbody tr th {\n",
              "        vertical-align: top;\n",
              "    }\n",
              "\n",
              "    .dataframe thead th {\n",
              "        text-align: right;\n",
              "    }\n",
              "</style>\n",
              "<table border=\"1\" class=\"dataframe\">\n",
              "  <thead>\n",
              "    <tr style=\"text-align: right;\">\n",
              "      <th></th>\n",
              "      <th>Passanger_Name</th>\n",
              "      <th>Flying_month</th>\n",
              "      <th>Route</th>\n",
              "      <th>Rating</th>\n",
              "      <th>Verified</th>\n",
              "      <th>Review_title</th>\n",
              "      <th>Review_content</th>\n",
              "      <th>Traveller_type</th>\n",
              "      <th>Class</th>\n",
              "    </tr>\n",
              "  </thead>\n",
              "  <tbody>\n",
              "    <tr>\n",
              "      <th>3012</th>\n",
              "      <td>Ray Desjardins</td>\n",
              "      <td>NaN</td>\n",
              "      <td>NaN</td>\n",
              "      <td>NaN</td>\n",
              "      <td>NaN</td>\n",
              "      <td>British Airways customer review</td>\n",
              "      <td>Cabin crew polite unfortunately BA ran out of ...</td>\n",
              "      <td>Economy Class</td>\n",
              "      <td>no</td>\n",
              "    </tr>\n",
              "    <tr>\n",
              "      <th>3134</th>\n",
              "      <td>Neil Balter</td>\n",
              "      <td>NaN</td>\n",
              "      <td>NaN</td>\n",
              "      <td>NaN</td>\n",
              "      <td>NaN</td>\n",
              "      <td>British Airways customer review</td>\n",
              "      <td>Phoenix to London - outbound a wonderful and e...</td>\n",
              "      <td>First Class</td>\n",
              "      <td>no</td>\n",
              "    </tr>\n",
              "    <tr>\n",
              "      <th>3152</th>\n",
              "      <td>D Thomas</td>\n",
              "      <td>NaN</td>\n",
              "      <td>NaN</td>\n",
              "      <td>NaN</td>\n",
              "      <td>NaN</td>\n",
              "      <td>British Airways customer review</td>\n",
              "      <td>On past experience I chose BA for our long hau...</td>\n",
              "      <td>Economy Class</td>\n",
              "      <td>no</td>\n",
              "    </tr>\n",
              "    <tr>\n",
              "      <th>3391</th>\n",
              "      <td>J Whittle</td>\n",
              "      <td>NaN</td>\n",
              "      <td>NaN</td>\n",
              "      <td>NaN</td>\n",
              "      <td>NaN</td>\n",
              "      <td>British Airways customer review</td>\n",
              "      <td>LHR-CPH-LHR Business Class. This is a joke. Sc...</td>\n",
              "      <td>Business Class</td>\n",
              "      <td>no</td>\n",
              "    </tr>\n",
              "    <tr>\n",
              "      <th>3424</th>\n",
              "      <td>Jackie Craig</td>\n",
              "      <td>NaN</td>\n",
              "      <td>NaN</td>\n",
              "      <td>NaN</td>\n",
              "      <td>NaN</td>\n",
              "      <td>British Airways customer review</td>\n",
              "      <td>I flew with British Airways with my mother fro...</td>\n",
              "      <td>Economy Class</td>\n",
              "      <td>no</td>\n",
              "    </tr>\n",
              "  </tbody>\n",
              "</table>\n",
              "</div>"
            ],
            "text/plain": [
              "      Passanger_Name Flying_month Route  Rating Verified  \\\n",
              "3012  Ray Desjardins          NaN   NaN     NaN      NaN   \n",
              "3134     Neil Balter          NaN   NaN     NaN      NaN   \n",
              "3152        D Thomas          NaN   NaN     NaN      NaN   \n",
              "3391       J Whittle          NaN   NaN     NaN      NaN   \n",
              "3424    Jackie Craig          NaN   NaN     NaN      NaN   \n",
              "\n",
              "                         Review_title  \\\n",
              "3012  British Airways customer review   \n",
              "3134  British Airways customer review   \n",
              "3152  British Airways customer review   \n",
              "3391  British Airways customer review   \n",
              "3424  British Airways customer review   \n",
              "\n",
              "                                         Review_content  Traveller_type Class  \n",
              "3012  Cabin crew polite unfortunately BA ran out of ...   Economy Class    no  \n",
              "3134  Phoenix to London - outbound a wonderful and e...     First Class    no  \n",
              "3152  On past experience I chose BA for our long hau...   Economy Class    no  \n",
              "3391  LHR-CPH-LHR Business Class. This is a joke. Sc...  Business Class    no  \n",
              "3424  I flew with British Airways with my mother fro...   Economy Class    no  "
            ]
          },
          "execution_count": 6,
          "metadata": {},
          "output_type": "execute_result"
        }
      ],
      "source": [
        "# Creating a function to perform quicker checks for null values within a column\n",
        "def null_check(value):\n",
        "    return df[df[value].isnull()]\n",
        "\n",
        "# Reviewing all rows with a null Rating for review before removal\n",
        "null_check('Rating')"
      ]
    },
    {
      "cell_type": "code",
      "execution_count": null,
      "id": "3344e522",
      "metadata": {
        "execution": {
          "iopub.execute_input": "2024-01-02T13:02:58.752822Z",
          "iopub.status.busy": "2024-01-02T13:02:58.752382Z",
          "iopub.status.idle": "2024-01-02T13:02:58.769432Z",
          "shell.execute_reply": "2024-01-02T13:02:58.768178Z"
        },
        "papermill": {
          "duration": 0.050789,
          "end_time": "2024-01-02T13:02:58.772220",
          "exception": false,
          "start_time": "2024-01-02T13:02:58.721431",
          "status": "completed"
        },
        "tags": [],
        "id": "3344e522",
        "outputId": "8a422dd4-039a-402f-f636-4b355c140cfd"
      },
      "outputs": [
        {
          "data": {
            "text/html": [
              "<div>\n",
              "<style scoped>\n",
              "    .dataframe tbody tr th:only-of-type {\n",
              "        vertical-align: middle;\n",
              "    }\n",
              "\n",
              "    .dataframe tbody tr th {\n",
              "        vertical-align: top;\n",
              "    }\n",
              "\n",
              "    .dataframe thead th {\n",
              "        text-align: right;\n",
              "    }\n",
              "</style>\n",
              "<table border=\"1\" class=\"dataframe\">\n",
              "  <thead>\n",
              "    <tr style=\"text-align: right;\">\n",
              "      <th></th>\n",
              "      <th>Passanger_Name</th>\n",
              "      <th>Flying_month</th>\n",
              "      <th>Route</th>\n",
              "      <th>Rating</th>\n",
              "      <th>Verified</th>\n",
              "      <th>Review_title</th>\n",
              "      <th>Review_content</th>\n",
              "      <th>Traveller_type</th>\n",
              "      <th>Class</th>\n",
              "    </tr>\n",
              "  </thead>\n",
              "  <tbody>\n",
              "  </tbody>\n",
              "</table>\n",
              "</div>"
            ],
            "text/plain": [
              "Empty DataFrame\n",
              "Columns: [Passanger_Name, Flying_month, Route, Rating, Verified, Review_title, Review_content, Traveller_type, Class]\n",
              "Index: []"
            ]
          },
          "execution_count": 7,
          "metadata": {},
          "output_type": "execute_result"
        }
      ],
      "source": [
        "# Dropping any rows with a null Rating\n",
        "df.dropna(subset=['Rating'], inplace=True)\n",
        "\n",
        "# Checking to confirm null ratings were removed\n",
        "null_check('Rating')"
      ]
    },
    {
      "cell_type": "code",
      "execution_count": null,
      "id": "e3e8ad45",
      "metadata": {
        "execution": {
          "iopub.execute_input": "2024-01-02T13:02:58.832789Z",
          "iopub.status.busy": "2024-01-02T13:02:58.832385Z",
          "iopub.status.idle": "2024-01-02T13:02:58.841430Z",
          "shell.execute_reply": "2024-01-02T13:02:58.840236Z"
        },
        "papermill": {
          "duration": 0.041811,
          "end_time": "2024-01-02T13:02:58.843956",
          "exception": false,
          "start_time": "2024-01-02T13:02:58.802145",
          "status": "completed"
        },
        "tags": [],
        "id": "e3e8ad45",
        "outputId": "1cbacccc-e93c-40aa-a280-77e78651fe63"
      },
      "outputs": [
        {
          "data": {
            "text/plain": [
              "dtype('int64')"
            ]
          },
          "execution_count": 8,
          "metadata": {},
          "output_type": "execute_result"
        }
      ],
      "source": [
        "# Converting Rating from Float to Int type\n",
        "df['Rating'] = df['Rating'].astype(int)\n",
        "\n",
        "# Confirming data type has been updated to Int\n",
        "df['Rating'].dtype"
      ]
    },
    {
      "cell_type": "markdown",
      "id": "bdd0ac51",
      "metadata": {
        "papermill": {
          "duration": 0.029884,
          "end_time": "2024-01-02T13:02:58.903526",
          "exception": false,
          "start_time": "2024-01-02T13:02:58.873642",
          "status": "completed"
        },
        "tags": [],
        "id": "bdd0ac51"
      },
      "source": [
        "#### 3. Updating null Review Verifications"
      ]
    },
    {
      "cell_type": "code",
      "execution_count": null,
      "id": "8a061e94",
      "metadata": {
        "execution": {
          "iopub.execute_input": "2024-01-02T13:02:58.965220Z",
          "iopub.status.busy": "2024-01-02T13:02:58.964828Z",
          "iopub.status.idle": "2024-01-02T13:02:58.969661Z",
          "shell.execute_reply": "2024-01-02T13:02:58.968527Z"
        },
        "papermill": {
          "duration": 0.039474,
          "end_time": "2024-01-02T13:02:58.972246",
          "exception": false,
          "start_time": "2024-01-02T13:02:58.932772",
          "status": "completed"
        },
        "tags": [],
        "id": "8a061e94"
      },
      "outputs": [],
      "source": [
        "# Creating a function to check unique values in a column\n",
        "def unique(value):\n",
        "    return df[value].unique()"
      ]
    },
    {
      "cell_type": "code",
      "execution_count": null,
      "id": "93df0947",
      "metadata": {
        "execution": {
          "iopub.execute_input": "2024-01-02T13:02:59.033829Z",
          "iopub.status.busy": "2024-01-02T13:02:59.033407Z",
          "iopub.status.idle": "2024-01-02T13:02:59.043989Z",
          "shell.execute_reply": "2024-01-02T13:02:59.042983Z"
        },
        "papermill": {
          "duration": 0.045022,
          "end_time": "2024-01-02T13:02:59.047201",
          "exception": false,
          "start_time": "2024-01-02T13:02:59.002179",
          "status": "completed"
        },
        "tags": [],
        "id": "93df0947",
        "outputId": "4a9d7bbe-e90e-43c7-99cf-45c278bd79c3"
      },
      "outputs": [
        {
          "data": {
            "text/plain": [
              "array(['Trip Verified', 'Not Verified'], dtype=object)"
            ]
          },
          "execution_count": 10,
          "metadata": {},
          "output_type": "execute_result"
        }
      ],
      "source": [
        "# Setting null values in the Verified column to 'Not Verified'\n",
        "df['Verified'].fillna(\"Not Verified\", inplace = True)\n",
        "\n",
        "# Checking to confirm the null values were removed\n",
        "unique('Verified')"
      ]
    },
    {
      "cell_type": "code",
      "execution_count": null,
      "id": "11590fa2",
      "metadata": {
        "execution": {
          "iopub.execute_input": "2024-01-02T13:02:59.109285Z",
          "iopub.status.busy": "2024-01-02T13:02:59.108057Z",
          "iopub.status.idle": "2024-01-02T13:02:59.117984Z",
          "shell.execute_reply": "2024-01-02T13:02:59.116890Z"
        },
        "papermill": {
          "duration": 0.043074,
          "end_time": "2024-01-02T13:02:59.120465",
          "exception": false,
          "start_time": "2024-01-02T13:02:59.077391",
          "status": "completed"
        },
        "tags": [],
        "id": "11590fa2",
        "outputId": "db820248-3e55-474a-872c-e4b8768c3bee"
      },
      "outputs": [
        {
          "data": {
            "text/plain": [
              "Verified\n",
              "Not Verified     2508\n",
              "Trip Verified    1067\n",
              "Name: count, dtype: int64"
            ]
          },
          "execution_count": 11,
          "metadata": {},
          "output_type": "execute_result"
        }
      ],
      "source": [
        "# Checking the counts of Verified and Not Verified reviews\n",
        "df['Verified'].value_counts()\n",
        "\n",
        "# Value Counts does not list null values, which is why I performed this step separately"
      ]
    },
    {
      "cell_type": "markdown",
      "id": "46da4208",
      "metadata": {
        "papermill": {
          "duration": 0.029141,
          "end_time": "2024-01-02T13:02:59.179940",
          "exception": false,
          "start_time": "2024-01-02T13:02:59.150799",
          "status": "completed"
        },
        "tags": [],
        "id": "46da4208"
      },
      "source": [
        "#### 4. Categorizing & Cleaning Class and Traveller Type Columns"
      ]
    },
    {
      "cell_type": "code",
      "execution_count": null,
      "id": "8b4f04a4",
      "metadata": {
        "execution": {
          "iopub.execute_input": "2024-01-02T13:02:59.240778Z",
          "iopub.status.busy": "2024-01-02T13:02:59.240385Z",
          "iopub.status.idle": "2024-01-02T13:02:59.249635Z",
          "shell.execute_reply": "2024-01-02T13:02:59.248343Z"
        },
        "papermill": {
          "duration": 0.042802,
          "end_time": "2024-01-02T13:02:59.252227",
          "exception": false,
          "start_time": "2024-01-02T13:02:59.209425",
          "status": "completed"
        },
        "tags": [],
        "id": "8b4f04a4",
        "outputId": "7fed5075-7556-4e39-a5df-e290983f2d2e"
      },
      "outputs": [
        {
          "data": {
            "text/plain": [
              "array(['Solo Leisure', 'Couple Leisure', 'A321 neo', 'Embraer 190',\n",
              "       'A350', 'Boeing 737', 'Family Leisure', 'Business', 'Boeing 787',\n",
              "       'Boeing 777', 'Boeing 777-300', 'A320', 'A320 Finnair', 'A319',\n",
              "       'Boeing 787-9', 'Dreamliner', 'Boeing 777-200',\n",
              "       'Boeing 787 / A320', 'A321', 'A321Neo', 'A380',\n",
              "       'Boeing 777 / A320', 'A321neo', 'Boeing 777-300ER', 'Boeing 787-8',\n",
              "       'A320, A380', 'A350-1000', 'Boeing 787-10', 'A320neo', 'A320-200',\n",
              "       'Business Class', 'A320, Boeing 787', 'A321 Neo', 'Boeing 737 800',\n",
              "       'A320 / Boeing 777', 'Embraer', 'Boeing 777-200ER',\n",
              "       'Boeing 787-900', 'A321-neo', 'A322', 'Boeing 737-800', 'A320 Neo',\n",
              "       'A320NEO', 'A330', 'A230', 'A321NEO', 'Boeing 747', 'Embraer 195',\n",
              "       'Boeing 747-400', 'A380-800', 'Boeing 777-200 / 747-400',\n",
              "       'Boeing 777 - 200', 'Boeing 787-9, A320-200', 'EMB190',\n",
              "       'A319 / Boeing777', 'A340-300, A320', 'A321-200', 'B777-200',\n",
              "       'A320 neo', 'A319 / Boeing 789', 'Boeing 777-200 and A319',\n",
              "       'A321 / Boeing 787-9', 'Boeing 777 / 747', 'A319 / Boeing 777',\n",
              "       'B747-400 in retro', 'A319/A320', 'B737-400 / A380 / A319',\n",
              "       'Boeing 744', 'A380 / Boeing 777', 'Boeing 747 400',\n",
              "       'Boeing 777-200/300', '777', 'A320/B788', 'Boeing 787-9 / A319',\n",
              "       'B777', 'B747-400', 'A380 / A319', 'Boeing 787 Dreamliner',\n",
              "       'Airbus A320', 'Boeing 787-9 / 777 ', 'A340-300',\n",
              "       'A319 / Boeing 747', 'A319 / Boeing 747-400', 'Boieng 777-200',\n",
              "       'Boeing 787-9, A380', 'A320 / Boeing 787-9', 'Boeing 767',\n",
              "       'Airbus A32', 'A319 / Boeing 787-9', 'Boeing 747-400 / A319',\n",
              "       'A318', 'A320 / Boeing 747-400', 'Boeing 777 / A380',\n",
              "       'Boeing 787-9 / A380-800', 'Boeing 747 / 777', 'Boeing 787(9)',\n",
              "       'Boeing 747 and Boeing 777', 'A380 and 747', 'Boeing 777-200 ER',\n",
              "       'Boeing 747 / A320', 'Boeing 777-300ER / A320',\n",
              "       'A320 / Boeing 787', 'A319 / Boeing 787-8', 'Boeing 757',\n",
              "       'A319/320', 'E170 / A319', 'E190', 'A320/319', 'E-190',\n",
              "       'Boeing 777-200 / 787-9 / A319/ 320', 'A320-233', 'Embraer 170',\n",
              "       'Boeing 747-400 / A380', 'A321 / Boeing 777',\n",
              "       'A319 / A380 / Boeing 737', 'A320 / Boeing 767',\n",
              "       'Boeing 747 & A319', 'A19', 'Boeing 747-400 / A320',\n",
              "       'A321 / Boeing 777-300', 'Boeing 777 200/300',\n",
              "       'A380 and Boeing 747', 'Boeing 777 200',\n",
              "       'B777-300ER / A320 / A380', 'A219', 'Boeing 747-400 / 777-200',\n",
              "       'A320 / Boeing 777-200', 'A380/A320', 'Boeing 747-400 & A320/321',\n",
              "       'Boeing 787-8 / 787-9', 'Boeing\\xa0777', 'Boeing 767, A319',\n",
              "       'Boeing 767-300 ', 'First Class', 'Boeing 747 / A380',\n",
              "       'A380 and Boeing 777', 'Boeing 777-300 / A380', 'A380 800',\n",
              "       'Boeing 787-800', 'Various', 'Boeing 787-800 / 777-200',\n",
              "       'Boeing 767-300', 'A380 and Boeing 737-800',\n",
              "       'Boeing 747-400,  A320, A319', 'Boeing 747, A380',\n",
              "       'Boeing 787-8 / A320', 'Boeing 747-400 / 777', 'E-170', '787',\n",
              "       'A321/A319', 'Boeing 777-236 ER', 'Boeing 777 and Boeing 787',\n",
              "       'A380 and Boeing 767', 'A320/A319', 'Saab 2000',\n",
              "       'A321 / Boeing 747-400', 'A319 / A320', 'A320 / A380', 'SAAB 2000',\n",
              "       'A380 / Boeing 747-400', 'Boeing 747-400 /A380',\n",
              "       'A320, Boeing 777', 'Boeing 777 ', 'A320, Boeing 767-300',\n",
              "       'Boeing 777, A320, A380', 'Boeing 787 / 777',\n",
              "       'A380, Boeing 747 and Boeing 777', 'A320, A380, Boeing 777-300',\n",
              "       'A320/A321', 'B767 / A380', 'Embraer170', 'Boeing 777 / A319',\n",
              "       'A320/321', 'Boeing 767 / A320', 'A319 / Boeing 777-300',\n",
              "       'Boeing 747- 400', 'B0eing 747-400', '767-300', 'A319/A321',\n",
              "       'A320 and A319', 'Embraer E190', 'Boeing 747 / 777 / A380',\n",
              "       'Boeing 737-400', 'Boeing 777-236', 'Boeing 747-300',\n",
              "       'Boeing 747-400 / A321', 'Boeing 747 and A320',\n",
              "       'Boeing 767/Airbus A320', 'E170', 'B777-300 / A319',\n",
              "       'A320 / Boeing 777-300', 'A321 and B767', 'Airbus A380',\n",
              "       'B747-400 / A319', 'B747 400', '777-200', 'boeing 787', 'B747',\n",
              "       '777-300', 'Airbus 319', 'Economy Class', 'Premium Economy', 'no'],\n",
              "      dtype=object)"
            ]
          },
          "execution_count": 12,
          "metadata": {},
          "output_type": "execute_result"
        }
      ],
      "source": [
        "# Checking unique values in Traveller_type column\n",
        "unique('Traveller_type')"
      ]
    },
    {
      "cell_type": "code",
      "execution_count": null,
      "id": "37ad58a9",
      "metadata": {
        "execution": {
          "iopub.execute_input": "2024-01-02T13:02:59.314523Z",
          "iopub.status.busy": "2024-01-02T13:02:59.313715Z",
          "iopub.status.idle": "2024-01-02T13:02:59.332880Z",
          "shell.execute_reply": "2024-01-02T13:02:59.331780Z"
        },
        "papermill": {
          "duration": 0.053041,
          "end_time": "2024-01-02T13:02:59.335211",
          "exception": false,
          "start_time": "2024-01-02T13:02:59.282170",
          "status": "completed"
        },
        "tags": [],
        "id": "37ad58a9",
        "outputId": "0f7f7edf-e98b-4b42-881e-7a2d8ca0b64a"
      },
      "outputs": [
        {
          "data": {
            "text/plain": [
              "array(['Solo Leisure', 'Couple Leisure', nan, 'Family Leisure',\n",
              "       'Business', 'Dreamliner', 'Business Class', 'Embraer',\n",
              "       'First Class', 'Various', 'Economy Class', 'Premium Economy', 'no'],\n",
              "      dtype=object)"
            ]
          },
          "execution_count": 13,
          "metadata": {},
          "output_type": "execute_result"
        }
      ],
      "source": [
        "'''\n",
        "There are a lot of unique values returned in the Traveller_type column. This is making it difficult to identify the\n",
        "correct categorical values for this column. At a glance, a lot of unique values appear to contain the word 'boeing'\n",
        "or contain a model number. To narrow down the unique values I will remove any record that meets either condition.\n",
        "'''\n",
        "\n",
        "# Using regular expressions to remove any record containing the word 'boeing' or a number.\n",
        "df.loc[df['Traveller_type'].str.lower().str.contains('boeing|\\d', na=False, case=False),\n",
        "       'Traveller_type'] = np.nan\n",
        "\n",
        "# Checking remaining unique values in Traveller_type column\n",
        "unique('Traveller_type')"
      ]
    },
    {
      "cell_type": "code",
      "execution_count": null,
      "id": "7621733e",
      "metadata": {
        "execution": {
          "iopub.execute_input": "2024-01-02T13:02:59.397518Z",
          "iopub.status.busy": "2024-01-02T13:02:59.397040Z",
          "iopub.status.idle": "2024-01-02T13:03:01.585807Z",
          "shell.execute_reply": "2024-01-02T13:03:01.584272Z"
        },
        "papermill": {
          "duration": 2.223772,
          "end_time": "2024-01-02T13:03:01.589356",
          "exception": false,
          "start_time": "2024-01-02T13:02:59.365584",
          "status": "completed"
        },
        "tags": [],
        "id": "7621733e",
        "outputId": "5b3ff911-6cba-42d9-9ea4-459c26135d82"
      },
      "outputs": [
        {
          "data": {
            "text/plain": [
              "array(['Solo Leisure', 'Couple Leisure', 'Family Leisure', 'Business',\n",
              "       nan, 'Various'], dtype=object)"
            ]
          },
          "execution_count": 14,
          "metadata": {},
          "output_type": "execute_result"
        }
      ],
      "source": [
        "# Based on the output above, I was able to identify the appropriate types of traveller.\n",
        "\n",
        "# Storing traveller types in a set\n",
        "traveller_type_set = {'Solo Leisure', 'Couple Leisure', 'Family Leisure', 'Business', 'Various'}\n",
        "\n",
        "'''\n",
        "Creating a function that will check all columns for records found in the traveller type set, return the value if found,\n",
        "    and set the record to null.\n",
        "I will use the apply method to create a new column based on returned values.\n",
        "'''\n",
        "\n",
        "def clean_column(row, categories_set):\n",
        "    for col in df.columns:\n",
        "        value = row[col]\n",
        "        if value in categories_set:\n",
        "            df[col] = df[col].replace(value, np.nan)\n",
        "            return value\n",
        "    return np.nan\n",
        "\n",
        "# Creating a new column called 'Traveller_Type_Cleaned' and using the apply method to populate the values\n",
        "df['Traveller_Type_Cleaned'] = df.apply(clean_column, axis=1, categories_set=traveller_type_set)\n",
        "\n",
        "# Checking unique values in the 'Traveller_Type_Cleaned' column\n",
        "unique('Traveller_Type_Cleaned')"
      ]
    },
    {
      "cell_type": "code",
      "execution_count": null,
      "id": "2cf1c873",
      "metadata": {
        "execution": {
          "iopub.execute_input": "2024-01-02T13:03:01.652536Z",
          "iopub.status.busy": "2024-01-02T13:03:01.652118Z",
          "iopub.status.idle": "2024-01-02T13:03:01.659185Z",
          "shell.execute_reply": "2024-01-02T13:03:01.658348Z"
        },
        "papermill": {
          "duration": 0.04114,
          "end_time": "2024-01-02T13:03:01.661317",
          "exception": false,
          "start_time": "2024-01-02T13:03:01.620177",
          "status": "completed"
        },
        "tags": [],
        "id": "2cf1c873",
        "outputId": "c0647df3-3ef8-4c63-e7e0-92812af457fd"
      },
      "outputs": [
        {
          "data": {
            "text/plain": [
              "array([nan, 'Dreamliner', 'Business Class', 'Embraer', 'First Class',\n",
              "       'Economy Class', 'Premium Economy', 'no'], dtype=object)"
            ]
          },
          "execution_count": 15,
          "metadata": {},
          "output_type": "execute_result"
        }
      ],
      "source": [
        "# Checking the remaining values in the original 'Traveller_type' column.\n",
        "unique('Traveller_type')"
      ]
    },
    {
      "cell_type": "code",
      "execution_count": null,
      "id": "e9d36c50",
      "metadata": {
        "execution": {
          "iopub.execute_input": "2024-01-02T13:03:01.724586Z",
          "iopub.status.busy": "2024-01-02T13:03:01.723310Z",
          "iopub.status.idle": "2024-01-02T13:03:01.732182Z",
          "shell.execute_reply": "2024-01-02T13:03:01.731001Z"
        },
        "papermill": {
          "duration": 0.043341,
          "end_time": "2024-01-02T13:03:01.734884",
          "exception": false,
          "start_time": "2024-01-02T13:03:01.691543",
          "status": "completed"
        },
        "tags": [],
        "id": "e9d36c50",
        "outputId": "4b7f4af5-d488-43c0-dbb5-0b8464e49692"
      },
      "outputs": [
        {
          "data": {
            "text/plain": [
              "array(['Economy Class', 'Business Class', nan, 'Premium Economy',\n",
              "       'London to Malaga', 'First Class', 'LHR to ORD',\n",
              "       'Los Angeles to London to Paris to Rome ', 'no', 'yes'],\n",
              "      dtype=object)"
            ]
          },
          "execution_count": 16,
          "metadata": {},
          "output_type": "execute_result"
        }
      ],
      "source": [
        "'''\n",
        "There are some values remaining in 'Traveller_type' that belong to the Class column so I will keep this column for now\n",
        "\n",
        "I will clean the Class column using a similar approach to above\n",
        "'''\n",
        "\n",
        "# Checking unique values in the Class column\n",
        "unique('Class')"
      ]
    },
    {
      "cell_type": "code",
      "execution_count": null,
      "id": "5585b7a2",
      "metadata": {
        "execution": {
          "iopub.execute_input": "2024-01-02T13:03:01.800022Z",
          "iopub.status.busy": "2024-01-02T13:03:01.799340Z",
          "iopub.status.idle": "2024-01-02T13:03:01.820697Z",
          "shell.execute_reply": "2024-01-02T13:03:01.819469Z"
        },
        "papermill": {
          "duration": 0.056026,
          "end_time": "2024-01-02T13:03:01.823234",
          "exception": false,
          "start_time": "2024-01-02T13:03:01.767208",
          "status": "completed"
        },
        "tags": [],
        "id": "5585b7a2",
        "outputId": "148a13e9-f84a-4962-a6ae-f87833e7b0f1"
      },
      "outputs": [
        {
          "data": {
            "text/html": [
              "<div>\n",
              "<style scoped>\n",
              "    .dataframe tbody tr th:only-of-type {\n",
              "        vertical-align: middle;\n",
              "    }\n",
              "\n",
              "    .dataframe tbody tr th {\n",
              "        vertical-align: top;\n",
              "    }\n",
              "\n",
              "    .dataframe thead th {\n",
              "        text-align: right;\n",
              "    }\n",
              "</style>\n",
              "<table border=\"1\" class=\"dataframe\">\n",
              "  <thead>\n",
              "    <tr style=\"text-align: right;\">\n",
              "      <th></th>\n",
              "      <th>Passanger_Name</th>\n",
              "      <th>Flying_month</th>\n",
              "      <th>Route</th>\n",
              "      <th>Rating</th>\n",
              "      <th>Verified</th>\n",
              "      <th>Review_title</th>\n",
              "      <th>Review_content</th>\n",
              "      <th>Traveller_type</th>\n",
              "      <th>Class</th>\n",
              "      <th>Traveller_Type_Cleaned</th>\n",
              "    </tr>\n",
              "  </thead>\n",
              "  <tbody>\n",
              "    <tr>\n",
              "      <th>224</th>\n",
              "      <td>Mark Robinson</td>\n",
              "      <td>no</td>\n",
              "      <td>July 2022</td>\n",
              "      <td>1</td>\n",
              "      <td>Trip Verified</td>\n",
              "      <td>become an absolute nightmare</td>\n",
              "      <td>Over 1 week ago I cancelled 2 Club Europe flig...</td>\n",
              "      <td>Business Class</td>\n",
              "      <td>London to Malaga</td>\n",
              "      <td>NaN</td>\n",
              "    </tr>\n",
              "    <tr>\n",
              "      <th>1748</th>\n",
              "      <td>Simon Warner</td>\n",
              "      <td>no</td>\n",
              "      <td>January 2017</td>\n",
              "      <td>5</td>\n",
              "      <td>Not Verified</td>\n",
              "      <td>cost saving is clearly evident</td>\n",
              "      <td>Verified Review   London Heathrow to Chicago i...</td>\n",
              "      <td>First Class</td>\n",
              "      <td>LHR to ORD</td>\n",
              "      <td>NaN</td>\n",
              "    </tr>\n",
              "    <tr>\n",
              "      <th>2794</th>\n",
              "      <td>Tom Moore</td>\n",
              "      <td>no</td>\n",
              "      <td>May 2015</td>\n",
              "      <td>1</td>\n",
              "      <td>Not Verified</td>\n",
              "      <td>British Airways customer review</td>\n",
              "      <td>Overall good experience. BA owns Vueling/Iberi...</td>\n",
              "      <td>NaN</td>\n",
              "      <td>Los Angeles to London to Paris to Rome</td>\n",
              "      <td>Solo Leisure</td>\n",
              "    </tr>\n",
              "  </tbody>\n",
              "</table>\n",
              "</div>"
            ],
            "text/plain": [
              "     Passanger_Name Flying_month         Route  Rating       Verified  \\\n",
              "224   Mark Robinson           no     July 2022       1  Trip Verified   \n",
              "1748   Simon Warner           no  January 2017       5   Not Verified   \n",
              "2794      Tom Moore           no      May 2015       1   Not Verified   \n",
              "\n",
              "                         Review_title  \\\n",
              "224      become an absolute nightmare   \n",
              "1748   cost saving is clearly evident   \n",
              "2794  British Airways customer review   \n",
              "\n",
              "                                         Review_content  Traveller_type  \\\n",
              "224   Over 1 week ago I cancelled 2 Club Europe flig...  Business Class   \n",
              "1748  Verified Review   London Heathrow to Chicago i...     First Class   \n",
              "2794  Overall good experience. BA owns Vueling/Iberi...             NaN   \n",
              "\n",
              "                                        Class Traveller_Type_Cleaned  \n",
              "224                          London to Malaga                    NaN  \n",
              "1748                               LHR to ORD                    NaN  \n",
              "2794  Los Angeles to London to Paris to Rome            Solo Leisure  "
            ]
          },
          "execution_count": 17,
          "metadata": {},
          "output_type": "execute_result"
        }
      ],
      "source": [
        "# I identified several records that belong to the 'Route' column in the above output.\n",
        "\n",
        "# Creating a mask to filter on the identified 'Route' values using regular expressions\n",
        "mask = df['Class'].str.contains('London|LHR', na=False)\n",
        "\n",
        "# Reviewing the rows before I modify the values\n",
        "df[mask]"
      ]
    },
    {
      "cell_type": "code",
      "execution_count": null,
      "id": "5aa8fa2b",
      "metadata": {
        "execution": {
          "iopub.execute_input": "2024-01-02T13:03:01.888125Z",
          "iopub.status.busy": "2024-01-02T13:03:01.887369Z",
          "iopub.status.idle": "2024-01-02T13:03:01.907371Z",
          "shell.execute_reply": "2024-01-02T13:03:01.906213Z"
        },
        "papermill": {
          "duration": 0.055241,
          "end_time": "2024-01-02T13:03:01.910273",
          "exception": false,
          "start_time": "2024-01-02T13:03:01.855032",
          "status": "completed"
        },
        "tags": [],
        "id": "5aa8fa2b",
        "outputId": "5570075b-65d4-439a-d306-3f39a0846781"
      },
      "outputs": [
        {
          "data": {
            "text/html": [
              "<div>\n",
              "<style scoped>\n",
              "    .dataframe tbody tr th:only-of-type {\n",
              "        vertical-align: middle;\n",
              "    }\n",
              "\n",
              "    .dataframe tbody tr th {\n",
              "        vertical-align: top;\n",
              "    }\n",
              "\n",
              "    .dataframe thead th {\n",
              "        text-align: right;\n",
              "    }\n",
              "</style>\n",
              "<table border=\"1\" class=\"dataframe\">\n",
              "  <thead>\n",
              "    <tr style=\"text-align: right;\">\n",
              "      <th></th>\n",
              "      <th>Passanger_Name</th>\n",
              "      <th>Flying_month</th>\n",
              "      <th>Route</th>\n",
              "      <th>Rating</th>\n",
              "      <th>Verified</th>\n",
              "      <th>Review_title</th>\n",
              "      <th>Review_content</th>\n",
              "      <th>Traveller_type</th>\n",
              "      <th>Class</th>\n",
              "      <th>Traveller_Type_Cleaned</th>\n",
              "    </tr>\n",
              "  </thead>\n",
              "  <tbody>\n",
              "    <tr>\n",
              "      <th>224</th>\n",
              "      <td>Mark Robinson</td>\n",
              "      <td>July 2022</td>\n",
              "      <td>London to Malaga</td>\n",
              "      <td>1</td>\n",
              "      <td>Trip Verified</td>\n",
              "      <td>become an absolute nightmare</td>\n",
              "      <td>Over 1 week ago I cancelled 2 Club Europe flig...</td>\n",
              "      <td>Business Class</td>\n",
              "      <td>NaN</td>\n",
              "      <td>NaN</td>\n",
              "    </tr>\n",
              "    <tr>\n",
              "      <th>1748</th>\n",
              "      <td>Simon Warner</td>\n",
              "      <td>January 2017</td>\n",
              "      <td>LHR to ORD</td>\n",
              "      <td>5</td>\n",
              "      <td>Not Verified</td>\n",
              "      <td>cost saving is clearly evident</td>\n",
              "      <td>Verified Review   London Heathrow to Chicago i...</td>\n",
              "      <td>First Class</td>\n",
              "      <td>NaN</td>\n",
              "      <td>NaN</td>\n",
              "    </tr>\n",
              "    <tr>\n",
              "      <th>2794</th>\n",
              "      <td>Tom Moore</td>\n",
              "      <td>May 2015</td>\n",
              "      <td>Los Angeles to London to Paris to Rome</td>\n",
              "      <td>1</td>\n",
              "      <td>Not Verified</td>\n",
              "      <td>British Airways customer review</td>\n",
              "      <td>Overall good experience. BA owns Vueling/Iberi...</td>\n",
              "      <td>NaN</td>\n",
              "      <td>NaN</td>\n",
              "      <td>Solo Leisure</td>\n",
              "    </tr>\n",
              "  </tbody>\n",
              "</table>\n",
              "</div>"
            ],
            "text/plain": [
              "     Passanger_Name  Flying_month                                    Route  \\\n",
              "224   Mark Robinson     July 2022                         London to Malaga   \n",
              "1748   Simon Warner  January 2017                               LHR to ORD   \n",
              "2794      Tom Moore      May 2015  Los Angeles to London to Paris to Rome    \n",
              "\n",
              "      Rating       Verified                     Review_title  \\\n",
              "224        1  Trip Verified     become an absolute nightmare   \n",
              "1748       5   Not Verified   cost saving is clearly evident   \n",
              "2794       1   Not Verified  British Airways customer review   \n",
              "\n",
              "                                         Review_content  Traveller_type Class  \\\n",
              "224   Over 1 week ago I cancelled 2 Club Europe flig...  Business Class   NaN   \n",
              "1748  Verified Review   London Heathrow to Chicago i...     First Class   NaN   \n",
              "2794  Overall good experience. BA owns Vueling/Iberi...             NaN   NaN   \n",
              "\n",
              "     Traveller_Type_Cleaned  \n",
              "224                     NaN  \n",
              "1748                    NaN  \n",
              "2794           Solo Leisure  "
            ]
          },
          "execution_count": 18,
          "metadata": {},
          "output_type": "execute_result"
        }
      ],
      "source": [
        "'''\n",
        "The above output shows date values that belong to the 'Flying_month' column are present in the Route column.\n",
        "    I will need to move the 'Flying_month' values to the correct column first\n",
        "\n",
        "Since the 'no' values don't appear to make sense for any column in this dataset, I will write over these values\n",
        "'''\n",
        "\n",
        "# Moving the date values to the Flying Month column based on the mask filter\n",
        "df.loc[mask, 'Flying_month'] = df.loc[mask, 'Route']\n",
        "\n",
        "# Moving the Class values to the Route column based on the mask filter\n",
        "df.loc[mask, 'Route'] = df.loc[mask, 'Class']\n",
        "\n",
        "# Setting the Class column to null based on the mask filter\n",
        "df.loc[mask, 'Class'] = np.nan\n",
        "\n",
        "# Checking to make sure all values updated correctly\n",
        "df[mask]"
      ]
    },
    {
      "cell_type": "code",
      "execution_count": null,
      "id": "c34b11d5",
      "metadata": {
        "execution": {
          "iopub.execute_input": "2024-01-02T13:03:01.975793Z",
          "iopub.status.busy": "2024-01-02T13:03:01.975353Z",
          "iopub.status.idle": "2024-01-02T13:03:01.982740Z",
          "shell.execute_reply": "2024-01-02T13:03:01.981888Z"
        },
        "papermill": {
          "duration": 0.04306,
          "end_time": "2024-01-02T13:03:01.984918",
          "exception": false,
          "start_time": "2024-01-02T13:03:01.941858",
          "status": "completed"
        },
        "tags": [],
        "id": "c34b11d5",
        "outputId": "3ed394ff-d970-4af1-ea72-31c82d6b0c5b"
      },
      "outputs": [
        {
          "data": {
            "text/plain": [
              "array(['Economy Class', 'Business Class', nan, 'Premium Economy',\n",
              "       'First Class', 'no', 'yes'], dtype=object)"
            ]
          },
          "execution_count": 19,
          "metadata": {},
          "output_type": "execute_result"
        }
      ],
      "source": [
        "# Checking the remaining unique values in the Class column\n",
        "unique('Class')"
      ]
    },
    {
      "cell_type": "code",
      "execution_count": null,
      "id": "322dbb44",
      "metadata": {
        "execution": {
          "iopub.execute_input": "2024-01-02T13:03:02.050739Z",
          "iopub.status.busy": "2024-01-02T13:03:02.049947Z",
          "iopub.status.idle": "2024-01-02T13:03:04.355746Z",
          "shell.execute_reply": "2024-01-02T13:03:04.354649Z"
        },
        "papermill": {
          "duration": 2.341408,
          "end_time": "2024-01-02T13:03:04.358216",
          "exception": false,
          "start_time": "2024-01-02T13:03:02.016808",
          "status": "completed"
        },
        "tags": [],
        "id": "322dbb44",
        "outputId": "675f0b46-ee92-4659-e304-757ac5ff5458"
      },
      "outputs": [
        {
          "data": {
            "text/plain": [
              "array(['Economy Class', 'Business Class', 'Premium Economy',\n",
              "       'First Class', nan], dtype=object)"
            ]
          },
          "execution_count": 20,
          "metadata": {},
          "output_type": "execute_result"
        }
      ],
      "source": [
        "# Based on the output above, I was able to identify the correct class categories\n",
        "\n",
        "# Storing the Class categories in a set\n",
        "class_categories_set = {'Economy Class', 'Business Class', 'Premium Economy', 'First Class'}\n",
        "\n",
        "# Applying my clean_column function to create a new column called 'Class_Cleaned'\n",
        "df['Class_Cleaned'] = df.apply(clean_column, axis=1, categories_set=class_categories_set)\n",
        "\n",
        "# Checking the unique values in the 'Class_Cleaned' column\n",
        "unique('Class_Cleaned')"
      ]
    },
    {
      "cell_type": "code",
      "execution_count": null,
      "id": "d99df42c",
      "metadata": {
        "execution": {
          "iopub.execute_input": "2024-01-02T13:03:04.426754Z",
          "iopub.status.busy": "2024-01-02T13:03:04.426318Z",
          "iopub.status.idle": "2024-01-02T13:03:04.433190Z",
          "shell.execute_reply": "2024-01-02T13:03:04.432334Z"
        },
        "papermill": {
          "duration": 0.044076,
          "end_time": "2024-01-02T13:03:04.435436",
          "exception": false,
          "start_time": "2024-01-02T13:03:04.391360",
          "status": "completed"
        },
        "tags": [],
        "id": "d99df42c",
        "outputId": "8accbeb9-c576-467a-9b00-283ec985c08f"
      },
      "outputs": [
        {
          "data": {
            "text/plain": [
              "array([nan, 'no', 'yes'], dtype=object)"
            ]
          },
          "execution_count": 21,
          "metadata": {},
          "output_type": "execute_result"
        }
      ],
      "source": [
        "# Double checking remaining values in 'Class' column\n",
        "unique('Class')"
      ]
    },
    {
      "cell_type": "code",
      "execution_count": null,
      "id": "e7b53cbd",
      "metadata": {
        "execution": {
          "iopub.execute_input": "2024-01-02T13:03:04.501727Z",
          "iopub.status.busy": "2024-01-02T13:03:04.500849Z",
          "iopub.status.idle": "2024-01-02T13:03:04.508410Z",
          "shell.execute_reply": "2024-01-02T13:03:04.507451Z"
        },
        "papermill": {
          "duration": 0.044153,
          "end_time": "2024-01-02T13:03:04.511109",
          "exception": false,
          "start_time": "2024-01-02T13:03:04.466956",
          "status": "completed"
        },
        "tags": [],
        "id": "e7b53cbd"
      },
      "outputs": [],
      "source": [
        "# Removing 'Class' column\n",
        "df = df.drop('Class', axis=1)"
      ]
    },
    {
      "cell_type": "code",
      "execution_count": null,
      "id": "393e8005",
      "metadata": {
        "execution": {
          "iopub.execute_input": "2024-01-02T13:03:04.578429Z",
          "iopub.status.busy": "2024-01-02T13:03:04.577997Z",
          "iopub.status.idle": "2024-01-02T13:03:04.585859Z",
          "shell.execute_reply": "2024-01-02T13:03:04.584636Z"
        },
        "papermill": {
          "duration": 0.045435,
          "end_time": "2024-01-02T13:03:04.588907",
          "exception": false,
          "start_time": "2024-01-02T13:03:04.543472",
          "status": "completed"
        },
        "tags": [],
        "id": "393e8005",
        "outputId": "87c9cac9-fb7e-496b-ab11-b7f287fc01e7"
      },
      "outputs": [
        {
          "data": {
            "text/plain": [
              "array([nan, 'Dreamliner', 'Embraer', 'no'], dtype=object)"
            ]
          },
          "execution_count": 23,
          "metadata": {},
          "output_type": "execute_result"
        }
      ],
      "source": [
        "# Now that the 'Class_Cleaned' column has been created, the 'Traveller_type' column shouldn't have any remaining useful data\n",
        "\n",
        "# Double checking remaining values in 'Traveller_type' column\n",
        "unique('Traveller_type')"
      ]
    },
    {
      "cell_type": "code",
      "execution_count": null,
      "id": "32b00977",
      "metadata": {
        "execution": {
          "iopub.execute_input": "2024-01-02T13:03:04.654579Z",
          "iopub.status.busy": "2024-01-02T13:03:04.654136Z",
          "iopub.status.idle": "2024-01-02T13:03:04.661143Z",
          "shell.execute_reply": "2024-01-02T13:03:04.659986Z"
        },
        "papermill": {
          "duration": 0.043251,
          "end_time": "2024-01-02T13:03:04.663614",
          "exception": false,
          "start_time": "2024-01-02T13:03:04.620363",
          "status": "completed"
        },
        "tags": [],
        "id": "32b00977"
      },
      "outputs": [],
      "source": [
        "# Removing Traveller Type column\n",
        "df = df.drop('Traveller_type', axis=1)"
      ]
    },
    {
      "cell_type": "code",
      "execution_count": null,
      "id": "9e8d74ae",
      "metadata": {
        "execution": {
          "iopub.execute_input": "2024-01-02T13:03:04.729427Z",
          "iopub.status.busy": "2024-01-02T13:03:04.728606Z",
          "iopub.status.idle": "2024-01-02T13:03:04.740028Z",
          "shell.execute_reply": "2024-01-02T13:03:04.738746Z"
        },
        "papermill": {
          "duration": 0.047881,
          "end_time": "2024-01-02T13:03:04.742821",
          "exception": false,
          "start_time": "2024-01-02T13:03:04.694940",
          "status": "completed"
        },
        "tags": [],
        "id": "9e8d74ae",
        "outputId": "0eaeacd9-6524-4577-fcfd-b8bb338cf064"
      },
      "outputs": [
        {
          "data": {
            "text/html": [
              "<div>\n",
              "<style scoped>\n",
              "    .dataframe tbody tr th:only-of-type {\n",
              "        vertical-align: middle;\n",
              "    }\n",
              "\n",
              "    .dataframe tbody tr th {\n",
              "        vertical-align: top;\n",
              "    }\n",
              "\n",
              "    .dataframe thead th {\n",
              "        text-align: right;\n",
              "    }\n",
              "</style>\n",
              "<table border=\"1\" class=\"dataframe\">\n",
              "  <thead>\n",
              "    <tr style=\"text-align: right;\">\n",
              "      <th></th>\n",
              "      <th>Passanger_Name</th>\n",
              "      <th>Flying_month</th>\n",
              "      <th>Route</th>\n",
              "      <th>Rating</th>\n",
              "      <th>Verified</th>\n",
              "      <th>Review_title</th>\n",
              "      <th>Review_content</th>\n",
              "      <th>Traveller_Type_Cleaned</th>\n",
              "      <th>Class_Cleaned</th>\n",
              "    </tr>\n",
              "  </thead>\n",
              "  <tbody>\n",
              "  </tbody>\n",
              "</table>\n",
              "</div>"
            ],
            "text/plain": [
              "Empty DataFrame\n",
              "Columns: [Passanger_Name, Flying_month, Route, Rating, Verified, Review_title, Review_content, Traveller_Type_Cleaned, Class_Cleaned]\n",
              "Index: []"
            ]
          },
          "execution_count": 25,
          "metadata": {},
          "output_type": "execute_result"
        }
      ],
      "source": [
        "# Checking to make sure Traveller Type and Class columns were removed\n",
        "df.head(0)"
      ]
    },
    {
      "cell_type": "code",
      "execution_count": null,
      "id": "283ca4c4",
      "metadata": {
        "execution": {
          "iopub.execute_input": "2024-01-02T13:03:04.810167Z",
          "iopub.status.busy": "2024-01-02T13:03:04.809656Z",
          "iopub.status.idle": "2024-01-02T13:03:04.823177Z",
          "shell.execute_reply": "2024-01-02T13:03:04.822310Z"
        },
        "papermill": {
          "duration": 0.050372,
          "end_time": "2024-01-02T13:03:04.825941",
          "exception": false,
          "start_time": "2024-01-02T13:03:04.775569",
          "status": "completed"
        },
        "tags": [],
        "id": "283ca4c4",
        "outputId": "53aebe72-b266-4cd1-99c8-c887d5e1afc6"
      },
      "outputs": [
        {
          "data": {
            "text/html": [
              "<div>\n",
              "<style scoped>\n",
              "    .dataframe tbody tr th:only-of-type {\n",
              "        vertical-align: middle;\n",
              "    }\n",
              "\n",
              "    .dataframe tbody tr th {\n",
              "        vertical-align: top;\n",
              "    }\n",
              "\n",
              "    .dataframe thead th {\n",
              "        text-align: right;\n",
              "    }\n",
              "</style>\n",
              "<table border=\"1\" class=\"dataframe\">\n",
              "  <thead>\n",
              "    <tr style=\"text-align: right;\">\n",
              "      <th></th>\n",
              "      <th>Passanger_Name</th>\n",
              "      <th>Flying_month</th>\n",
              "      <th>Route</th>\n",
              "      <th>Rating</th>\n",
              "      <th>Verified</th>\n",
              "      <th>Review_title</th>\n",
              "      <th>Review_content</th>\n",
              "      <th>Traveller_Type</th>\n",
              "      <th>Class</th>\n",
              "    </tr>\n",
              "  </thead>\n",
              "  <tbody>\n",
              "  </tbody>\n",
              "</table>\n",
              "</div>"
            ],
            "text/plain": [
              "Empty DataFrame\n",
              "Columns: [Passanger_Name, Flying_month, Route, Rating, Verified, Review_title, Review_content, Traveller_Type, Class]\n",
              "Index: []"
            ]
          },
          "execution_count": 26,
          "metadata": {},
          "output_type": "execute_result"
        }
      ],
      "source": [
        "# Renaming 'Traveller_Type_Cleaned' column to 'Traveller_Type' and 'Class_Cleaned' column to 'Class'\n",
        "df = df.rename(columns={'Traveller_Type_Cleaned': 'Traveller_Type', 'Class_Cleaned': 'Class'})\n",
        "\n",
        "# Verifying the change took effect\n",
        "df.head(0)"
      ]
    },
    {
      "cell_type": "code",
      "execution_count": null,
      "id": "8ca651e5",
      "metadata": {
        "execution": {
          "iopub.execute_input": "2024-01-02T13:03:04.893266Z",
          "iopub.status.busy": "2024-01-02T13:03:04.891924Z",
          "iopub.status.idle": "2024-01-02T13:03:04.909160Z",
          "shell.execute_reply": "2024-01-02T13:03:04.907840Z"
        },
        "papermill": {
          "duration": 0.054107,
          "end_time": "2024-01-02T13:03:04.912007",
          "exception": false,
          "start_time": "2024-01-02T13:03:04.857900",
          "status": "completed"
        },
        "tags": [],
        "id": "8ca651e5",
        "outputId": "19a7f7d1-fca7-4924-ed89-4e7f176665ef"
      },
      "outputs": [
        {
          "name": "stdout",
          "output_type": "stream",
          "text": [
            "<class 'pandas.core.frame.DataFrame'>\n",
            "Index: 3575 entries, 0 to 3579\n",
            "Data columns (total 9 columns):\n",
            " #   Column          Non-Null Count  Dtype \n",
            "---  ------          --------------  ----- \n",
            " 0   Passanger_Name  3574 non-null   object\n",
            " 1   Flying_month    2815 non-null   object\n",
            " 2   Route           958 non-null    object\n",
            " 3   Rating          3575 non-null   int64 \n",
            " 4   Verified        3575 non-null   object\n",
            " 5   Review_title    3575 non-null   object\n",
            " 6   Review_content  3575 non-null   object\n",
            " 7   Traveller_Type  2815 non-null   object\n",
            " 8   Class           3573 non-null   object\n",
            "dtypes: int64(1), object(8)\n",
            "memory usage: 279.3+ KB\n"
          ]
        }
      ],
      "source": [
        "# Checking table structure now that 'Class' and 'Traveller_Type' are cleaned\n",
        "df.info()"
      ]
    },
    {
      "cell_type": "markdown",
      "id": "d0967660",
      "metadata": {
        "papermill": {
          "duration": 0.033333,
          "end_time": "2024-01-02T13:03:04.977417",
          "exception": false,
          "start_time": "2024-01-02T13:03:04.944084",
          "status": "completed"
        },
        "tags": [],
        "id": "d0967660"
      },
      "source": [
        "#### 5. Cleaning Flying Month and Route Columns"
      ]
    },
    {
      "cell_type": "code",
      "execution_count": null,
      "id": "3e1f7fd0",
      "metadata": {
        "execution": {
          "iopub.execute_input": "2024-01-02T13:03:05.044583Z",
          "iopub.status.busy": "2024-01-02T13:03:05.044127Z",
          "iopub.status.idle": "2024-01-02T13:03:05.159738Z",
          "shell.execute_reply": "2024-01-02T13:03:05.158538Z"
        },
        "papermill": {
          "duration": 0.15281,
          "end_time": "2024-01-02T13:03:05.162673",
          "exception": false,
          "start_time": "2024-01-02T13:03:05.009863",
          "status": "completed"
        },
        "tags": [],
        "id": "3e1f7fd0",
        "outputId": "0cbef16b-36e0-4451-ba9e-af2cd7921999"
      },
      "outputs": [
        {
          "name": "stderr",
          "output_type": "stream",
          "text": [
            "/tmp/ipykernel_20/2700654331.py:2: UserWarning: Could not infer format, so each element will be parsed individually, falling back to `dateutil`. To ensure parsing is consistent and as-expected, please specify a format.\n",
            "  mask = pd.to_datetime(df['Flying_month'], errors='coerce').notna()\n"
          ]
        },
        {
          "data": {
            "text/plain": [
              "array(['Heathrow to Bodrum', 'London City to Ibiza',\n",
              "       'Amsterdam to London', ..., 'London-Vancouver return', 'LHR-ORD',\n",
              "       'yes'], dtype=object)"
            ]
          },
          "execution_count": 28,
          "metadata": {},
          "output_type": "execute_result"
        }
      ],
      "source": [
        "# Creating a mask to check 'Flying_month' column for records matching a datetime format\n",
        "mask = pd.to_datetime(df['Flying_month'], errors='coerce').notna()\n",
        "\n",
        "# Creating a dataframe with all records that do not match a datetime format\n",
        "df_not_date = df[~mask]\n",
        "\n",
        "# Filtering the non-date format dataframe where 'Route' is null\n",
        "df_null_route = df_not_date[df_not_date['Route'].isna()]\n",
        "\n",
        "# Updating the null 'Route's in the original dataframe to the non-date values from the 'Flying_month' column\n",
        "df.loc[df_null_route.index, 'Route'] = df_null_route['Flying_month']\n",
        "\n",
        "# Setting non-date 'Flying_month' values to null\n",
        "df.loc[df_null_route.index, 'Flying_month'] = np.nan\n",
        "\n",
        "# Checking remaining unique values in 'Flying_month' column in the 'df_not_date' dataframe\n",
        "df_not_date['Flying_month'].unique()"
      ]
    },
    {
      "cell_type": "code",
      "execution_count": null,
      "id": "69a3b912",
      "metadata": {
        "execution": {
          "iopub.execute_input": "2024-01-02T13:03:05.229722Z",
          "iopub.status.busy": "2024-01-02T13:03:05.229186Z",
          "iopub.status.idle": "2024-01-02T13:03:05.237951Z",
          "shell.execute_reply": "2024-01-02T13:03:05.236782Z"
        },
        "papermill": {
          "duration": 0.0451,
          "end_time": "2024-01-02T13:03:05.240380",
          "exception": false,
          "start_time": "2024-01-02T13:03:05.195280",
          "status": "completed"
        },
        "tags": [],
        "id": "69a3b912"
      },
      "outputs": [],
      "source": [
        "# Setting 'yes' and 'no' values to null in 'Flying_month' column. These values do not match any columns in the dataset\n",
        "df['Flying_month'] = df['Flying_month'].replace('yes', np.nan)\n",
        "df['Flying_month'] = df['Flying_month'].replace('no', np.nan)"
      ]
    },
    {
      "cell_type": "code",
      "execution_count": null,
      "id": "1c0c509f",
      "metadata": {
        "execution": {
          "iopub.execute_input": "2024-01-02T13:03:05.307609Z",
          "iopub.status.busy": "2024-01-02T13:03:05.306903Z",
          "iopub.status.idle": "2024-01-02T13:03:05.315194Z",
          "shell.execute_reply": "2024-01-02T13:03:05.314097Z"
        },
        "papermill": {
          "duration": 0.04474,
          "end_time": "2024-01-02T13:03:05.317968",
          "exception": false,
          "start_time": "2024-01-02T13:03:05.273228",
          "status": "completed"
        },
        "tags": [],
        "id": "1c0c509f"
      },
      "outputs": [],
      "source": [
        "# Setting 'yes' and 'no' values to null in 'Flying_month' column. These values do not match any columns in the dataset\n",
        "df['Route'] = df['Route'].replace('yes', np.nan)\n",
        "df['Route'] = df['Route'].replace('no', np.nan)"
      ]
    },
    {
      "cell_type": "code",
      "execution_count": null,
      "id": "dc5173dd",
      "metadata": {
        "execution": {
          "iopub.execute_input": "2024-01-02T13:03:05.386064Z",
          "iopub.status.busy": "2024-01-02T13:03:05.385403Z",
          "iopub.status.idle": "2024-01-02T13:03:05.391708Z",
          "shell.execute_reply": "2024-01-02T13:03:05.390352Z"
        },
        "papermill": {
          "duration": 0.043989,
          "end_time": "2024-01-02T13:03:05.394436",
          "exception": false,
          "start_time": "2024-01-02T13:03:05.350447",
          "status": "completed"
        },
        "tags": [],
        "id": "dc5173dd"
      },
      "outputs": [],
      "source": [
        "# Renaming 'Flying_month' column to 'Flying_Date' because year is also present in this column\n",
        "df.rename(columns={'Flying_month': 'Flying_Date'}, inplace=True)"
      ]
    },
    {
      "cell_type": "code",
      "execution_count": null,
      "id": "ef1fbc2e",
      "metadata": {
        "execution": {
          "iopub.execute_input": "2024-01-02T13:03:05.461130Z",
          "iopub.status.busy": "2024-01-02T13:03:05.460735Z",
          "iopub.status.idle": "2024-01-02T13:03:05.477407Z",
          "shell.execute_reply": "2024-01-02T13:03:05.476101Z"
        },
        "papermill": {
          "duration": 0.053102,
          "end_time": "2024-01-02T13:03:05.480182",
          "exception": false,
          "start_time": "2024-01-02T13:03:05.427080",
          "status": "completed"
        },
        "tags": [],
        "id": "ef1fbc2e",
        "outputId": "fab35b97-154a-4016-d2aa-3f922c9d61b6"
      },
      "outputs": [
        {
          "name": "stdout",
          "output_type": "stream",
          "text": [
            "<class 'pandas.core.frame.DataFrame'>\n",
            "Index: 3575 entries, 0 to 3579\n",
            "Data columns (total 9 columns):\n",
            " #   Column          Non-Null Count  Dtype \n",
            "---  ------          --------------  ----- \n",
            " 0   Passanger_Name  3574 non-null   object\n",
            " 1   Flying_Date     950 non-null    object\n",
            " 2   Route           2814 non-null   object\n",
            " 3   Rating          3575 non-null   int64 \n",
            " 4   Verified        3575 non-null   object\n",
            " 5   Review_title    3575 non-null   object\n",
            " 6   Review_content  3575 non-null   object\n",
            " 7   Traveller_Type  2815 non-null   object\n",
            " 8   Class           3573 non-null   object\n",
            "dtypes: int64(1), object(8)\n",
            "memory usage: 408.3+ KB\n"
          ]
        }
      ],
      "source": [
        "# Checking the amount of nulls in each column\n",
        "df.info()"
      ]
    },
    {
      "cell_type": "code",
      "execution_count": null,
      "id": "a03f431c",
      "metadata": {
        "execution": {
          "iopub.execute_input": "2024-01-02T13:03:05.547528Z",
          "iopub.status.busy": "2024-01-02T13:03:05.546855Z",
          "iopub.status.idle": "2024-01-02T13:03:05.774647Z",
          "shell.execute_reply": "2024-01-02T13:03:05.773220Z"
        },
        "papermill": {
          "duration": 0.264366,
          "end_time": "2024-01-02T13:03:05.777277",
          "exception": false,
          "start_time": "2024-01-02T13:03:05.512911",
          "status": "completed"
        },
        "tags": [],
        "id": "a03f431c",
        "outputId": "c2d9bb7f-ee0d-4744-96ca-33ad6f81c929"
      },
      "outputs": [
        {
          "name": "stderr",
          "output_type": "stream",
          "text": [
            "/tmp/ipykernel_20/1216180918.py:2: UserWarning: Could not infer format, so each element will be parsed individually, falling back to `dateutil`. To ensure parsing is consistent and as-expected, please specify a format.\n",
            "  mask = pd.to_datetime(df['Route'], errors='coerce').notna()\n"
          ]
        },
        {
          "data": {
            "text/html": [
              "<div>\n",
              "<style scoped>\n",
              "    .dataframe tbody tr th:only-of-type {\n",
              "        vertical-align: middle;\n",
              "    }\n",
              "\n",
              "    .dataframe tbody tr th {\n",
              "        vertical-align: top;\n",
              "    }\n",
              "\n",
              "    .dataframe thead th {\n",
              "        text-align: right;\n",
              "    }\n",
              "</style>\n",
              "<table border=\"1\" class=\"dataframe\">\n",
              "  <thead>\n",
              "    <tr style=\"text-align: right;\">\n",
              "      <th></th>\n",
              "      <th>Passanger_Name</th>\n",
              "      <th>Flying_Date</th>\n",
              "      <th>Route</th>\n",
              "      <th>Rating</th>\n",
              "      <th>Verified</th>\n",
              "      <th>Review_title</th>\n",
              "      <th>Review_content</th>\n",
              "      <th>Traveller_Type</th>\n",
              "      <th>Class</th>\n",
              "    </tr>\n",
              "  </thead>\n",
              "  <tbody>\n",
              "    <tr>\n",
              "      <th>42</th>\n",
              "      <td>Nicholas Felty</td>\n",
              "      <td>NaN</td>\n",
              "      <td>May 2023</td>\n",
              "      <td>1</td>\n",
              "      <td>Trip Verified</td>\n",
              "      <td>I had to reschedule my flight</td>\n",
              "      <td>I booked business class tickets for my fiancé ...</td>\n",
              "      <td>Couple Leisure</td>\n",
              "      <td>Business Class</td>\n",
              "    </tr>\n",
              "    <tr>\n",
              "      <th>234</th>\n",
              "      <td>Paul Mayer</td>\n",
              "      <td>NaN</td>\n",
              "      <td>June 2022</td>\n",
              "      <td>1</td>\n",
              "      <td>Not Verified</td>\n",
              "      <td>do not allow free seat selection</td>\n",
              "      <td>Second time getting poor service from BA. 1st,...</td>\n",
              "      <td>Family Leisure</td>\n",
              "      <td>Business Class</td>\n",
              "    </tr>\n",
              "    <tr>\n",
              "      <th>419</th>\n",
              "      <td>barbara ciereszko</td>\n",
              "      <td>NaN</td>\n",
              "      <td>July 2021</td>\n",
              "      <td>1</td>\n",
              "      <td>Not Verified</td>\n",
              "      <td>no refund issued yet</td>\n",
              "      <td>Booked flight six months before travel, then m...</td>\n",
              "      <td>Family Leisure</td>\n",
              "      <td>Economy Class</td>\n",
              "    </tr>\n",
              "    <tr>\n",
              "      <th>2552</th>\n",
              "      <td>Steve Purkis</td>\n",
              "      <td>NaN</td>\n",
              "      <td>February 2015</td>\n",
              "      <td>1</td>\n",
              "      <td>Not Verified</td>\n",
              "      <td>Fawlty Towers of customer service</td>\n",
              "      <td>My issue is the very poor British Airways cust...</td>\n",
              "      <td>Family Leisure</td>\n",
              "      <td>Economy Class</td>\n",
              "    </tr>\n",
              "    <tr>\n",
              "      <th>2567</th>\n",
              "      <td>Travis Rodgers</td>\n",
              "      <td>NaN</td>\n",
              "      <td>September 2015</td>\n",
              "      <td>5</td>\n",
              "      <td>Not Verified</td>\n",
              "      <td>seats were extremely small</td>\n",
              "      <td>The British Airways seats were extremely small...</td>\n",
              "      <td>Couple Leisure</td>\n",
              "      <td>Economy Class</td>\n",
              "    </tr>\n",
              "  </tbody>\n",
              "</table>\n",
              "</div>"
            ],
            "text/plain": [
              "         Passanger_Name Flying_Date           Route  Rating       Verified  \\\n",
              "42       Nicholas Felty         NaN        May 2023       1  Trip Verified   \n",
              "234          Paul Mayer         NaN       June 2022       1   Not Verified   \n",
              "419   barbara ciereszko         NaN       July 2021       1   Not Verified   \n",
              "2552       Steve Purkis         NaN   February 2015       1   Not Verified   \n",
              "2567     Travis Rodgers         NaN  September 2015       5   Not Verified   \n",
              "\n",
              "                           Review_title  \\\n",
              "42        I had to reschedule my flight   \n",
              "234    do not allow free seat selection   \n",
              "419                no refund issued yet   \n",
              "2552  Fawlty Towers of customer service   \n",
              "2567         seats were extremely small   \n",
              "\n",
              "                                         Review_content  Traveller_Type  \\\n",
              "42    I booked business class tickets for my fiancé ...  Couple Leisure   \n",
              "234   Second time getting poor service from BA. 1st,...  Family Leisure   \n",
              "419   Booked flight six months before travel, then m...  Family Leisure   \n",
              "2552  My issue is the very poor British Airways cust...  Family Leisure   \n",
              "2567  The British Airways seats were extremely small...  Couple Leisure   \n",
              "\n",
              "               Class  \n",
              "42    Business Class  \n",
              "234   Business Class  \n",
              "419    Economy Class  \n",
              "2552   Economy Class  \n",
              "2567   Economy Class  "
            ]
          },
          "execution_count": 33,
          "metadata": {},
          "output_type": "execute_result"
        }
      ],
      "source": [
        "# Using a mask to check if any date values are in the 'Route' column\n",
        "mask = pd.to_datetime(df['Route'], errors='coerce').notna()\n",
        "df[mask]"
      ]
    },
    {
      "cell_type": "code",
      "execution_count": null,
      "id": "c89b756b",
      "metadata": {
        "execution": {
          "iopub.execute_input": "2024-01-02T13:03:05.845038Z",
          "iopub.status.busy": "2024-01-02T13:03:05.844612Z",
          "iopub.status.idle": "2024-01-02T13:03:05.865025Z",
          "shell.execute_reply": "2024-01-02T13:03:05.863855Z"
        },
        "papermill": {
          "duration": 0.05736,
          "end_time": "2024-01-02T13:03:05.867465",
          "exception": false,
          "start_time": "2024-01-02T13:03:05.810105",
          "status": "completed"
        },
        "tags": [],
        "id": "c89b756b",
        "outputId": "4b4e6384-43b1-4594-8321-4b6fce5ffb80"
      },
      "outputs": [
        {
          "data": {
            "text/html": [
              "<div>\n",
              "<style scoped>\n",
              "    .dataframe tbody tr th:only-of-type {\n",
              "        vertical-align: middle;\n",
              "    }\n",
              "\n",
              "    .dataframe tbody tr th {\n",
              "        vertical-align: top;\n",
              "    }\n",
              "\n",
              "    .dataframe thead th {\n",
              "        text-align: right;\n",
              "    }\n",
              "</style>\n",
              "<table border=\"1\" class=\"dataframe\">\n",
              "  <thead>\n",
              "    <tr style=\"text-align: right;\">\n",
              "      <th></th>\n",
              "      <th>Passanger_Name</th>\n",
              "      <th>Flying_Date</th>\n",
              "      <th>Route</th>\n",
              "      <th>Rating</th>\n",
              "      <th>Verified</th>\n",
              "      <th>Review_title</th>\n",
              "      <th>Review_content</th>\n",
              "      <th>Traveller_Type</th>\n",
              "      <th>Class</th>\n",
              "    </tr>\n",
              "  </thead>\n",
              "  <tbody>\n",
              "    <tr>\n",
              "      <th>42</th>\n",
              "      <td>Nicholas Felty</td>\n",
              "      <td>May 2023</td>\n",
              "      <td>NaN</td>\n",
              "      <td>1</td>\n",
              "      <td>Trip Verified</td>\n",
              "      <td>I had to reschedule my flight</td>\n",
              "      <td>I booked business class tickets for my fiancé ...</td>\n",
              "      <td>Couple Leisure</td>\n",
              "      <td>Business Class</td>\n",
              "    </tr>\n",
              "    <tr>\n",
              "      <th>234</th>\n",
              "      <td>Paul Mayer</td>\n",
              "      <td>June 2022</td>\n",
              "      <td>NaN</td>\n",
              "      <td>1</td>\n",
              "      <td>Not Verified</td>\n",
              "      <td>do not allow free seat selection</td>\n",
              "      <td>Second time getting poor service from BA. 1st,...</td>\n",
              "      <td>Family Leisure</td>\n",
              "      <td>Business Class</td>\n",
              "    </tr>\n",
              "    <tr>\n",
              "      <th>419</th>\n",
              "      <td>barbara ciereszko</td>\n",
              "      <td>July 2021</td>\n",
              "      <td>NaN</td>\n",
              "      <td>1</td>\n",
              "      <td>Not Verified</td>\n",
              "      <td>no refund issued yet</td>\n",
              "      <td>Booked flight six months before travel, then m...</td>\n",
              "      <td>Family Leisure</td>\n",
              "      <td>Economy Class</td>\n",
              "    </tr>\n",
              "    <tr>\n",
              "      <th>2552</th>\n",
              "      <td>Steve Purkis</td>\n",
              "      <td>February 2015</td>\n",
              "      <td>NaN</td>\n",
              "      <td>1</td>\n",
              "      <td>Not Verified</td>\n",
              "      <td>Fawlty Towers of customer service</td>\n",
              "      <td>My issue is the very poor British Airways cust...</td>\n",
              "      <td>Family Leisure</td>\n",
              "      <td>Economy Class</td>\n",
              "    </tr>\n",
              "    <tr>\n",
              "      <th>2567</th>\n",
              "      <td>Travis Rodgers</td>\n",
              "      <td>September 2015</td>\n",
              "      <td>NaN</td>\n",
              "      <td>5</td>\n",
              "      <td>Not Verified</td>\n",
              "      <td>seats were extremely small</td>\n",
              "      <td>The British Airways seats were extremely small...</td>\n",
              "      <td>Couple Leisure</td>\n",
              "      <td>Economy Class</td>\n",
              "    </tr>\n",
              "  </tbody>\n",
              "</table>\n",
              "</div>"
            ],
            "text/plain": [
              "         Passanger_Name     Flying_Date Route  Rating       Verified  \\\n",
              "42       Nicholas Felty        May 2023   NaN       1  Trip Verified   \n",
              "234          Paul Mayer       June 2022   NaN       1   Not Verified   \n",
              "419   barbara ciereszko       July 2021   NaN       1   Not Verified   \n",
              "2552       Steve Purkis   February 2015   NaN       1   Not Verified   \n",
              "2567     Travis Rodgers  September 2015   NaN       5   Not Verified   \n",
              "\n",
              "                           Review_title  \\\n",
              "42        I had to reschedule my flight   \n",
              "234    do not allow free seat selection   \n",
              "419                no refund issued yet   \n",
              "2552  Fawlty Towers of customer service   \n",
              "2567         seats were extremely small   \n",
              "\n",
              "                                         Review_content  Traveller_Type  \\\n",
              "42    I booked business class tickets for my fiancé ...  Couple Leisure   \n",
              "234   Second time getting poor service from BA. 1st,...  Family Leisure   \n",
              "419   Booked flight six months before travel, then m...  Family Leisure   \n",
              "2552  My issue is the very poor British Airways cust...  Family Leisure   \n",
              "2567  The British Airways seats were extremely small...  Couple Leisure   \n",
              "\n",
              "               Class  \n",
              "42    Business Class  \n",
              "234   Business Class  \n",
              "419    Economy Class  \n",
              "2552   Economy Class  \n",
              "2567   Economy Class  "
            ]
          },
          "execution_count": 34,
          "metadata": {},
          "output_type": "execute_result"
        }
      ],
      "source": [
        "# Based on the above output, there were a few date values found in the 'Route' column. 'Flying_Date' is null in this range\n",
        "\n",
        "# Updating 'Flying_Date' records to the 'Route' values based on the mask filter\n",
        "df.loc[mask, 'Flying_Date'] = df.loc[mask, 'Route']\n",
        "\n",
        "# Setting 'Route' records to null based on the mask filter\n",
        "df.loc[mask, 'Route'] = np.nan\n",
        "\n",
        "# Confirming the changes are correct\n",
        "df[mask]"
      ]
    },
    {
      "cell_type": "code",
      "execution_count": null,
      "id": "c52e52b7",
      "metadata": {
        "execution": {
          "iopub.execute_input": "2024-01-02T13:03:05.935875Z",
          "iopub.status.busy": "2024-01-02T13:03:05.935458Z",
          "iopub.status.idle": "2024-01-02T13:03:05.954832Z",
          "shell.execute_reply": "2024-01-02T13:03:05.953752Z"
        },
        "papermill": {
          "duration": 0.056477,
          "end_time": "2024-01-02T13:03:05.957282",
          "exception": false,
          "start_time": "2024-01-02T13:03:05.900805",
          "status": "completed"
        },
        "tags": [],
        "id": "c52e52b7",
        "outputId": "4b3138d2-3fa5-4136-e82c-db789d0bd282"
      },
      "outputs": [
        {
          "data": {
            "text/html": [
              "<div>\n",
              "<style scoped>\n",
              "    .dataframe tbody tr th:only-of-type {\n",
              "        vertical-align: middle;\n",
              "    }\n",
              "\n",
              "    .dataframe tbody tr th {\n",
              "        vertical-align: top;\n",
              "    }\n",
              "\n",
              "    .dataframe thead th {\n",
              "        text-align: right;\n",
              "    }\n",
              "</style>\n",
              "<table border=\"1\" class=\"dataframe\">\n",
              "  <thead>\n",
              "    <tr style=\"text-align: right;\">\n",
              "      <th></th>\n",
              "      <th>Passanger_Name</th>\n",
              "      <th>Flying_Date</th>\n",
              "      <th>Route</th>\n",
              "      <th>Rating</th>\n",
              "      <th>Verified</th>\n",
              "      <th>Review_title</th>\n",
              "      <th>Review_content</th>\n",
              "      <th>Traveller_Type</th>\n",
              "      <th>Class</th>\n",
              "    </tr>\n",
              "  </thead>\n",
              "  <tbody>\n",
              "    <tr>\n",
              "      <th>0</th>\n",
              "      <td>Paige Boet</td>\n",
              "      <td>June 2023</td>\n",
              "      <td>New Orleans to London</td>\n",
              "      <td>1</td>\n",
              "      <td>Trip Verified</td>\n",
              "      <td>The airline lost my luggage</td>\n",
              "      <td>The airline lost my luggage and was absolutely...</td>\n",
              "      <td>Solo Leisure</td>\n",
              "      <td>Economy Class</td>\n",
              "    </tr>\n",
              "    <tr>\n",
              "      <th>1</th>\n",
              "      <td>S Layne</td>\n",
              "      <td>March 2023</td>\n",
              "      <td>London to Amman</td>\n",
              "      <td>1</td>\n",
              "      <td>Trip Verified</td>\n",
              "      <td>fully refunded by our travel insurance</td>\n",
              "      <td>We booked on the BA website, round trip flight...</td>\n",
              "      <td>Couple Leisure</td>\n",
              "      <td>Business Class</td>\n",
              "    </tr>\n",
              "    <tr>\n",
              "      <th>2</th>\n",
              "      <td>E Lanewoski</td>\n",
              "      <td>NaN</td>\n",
              "      <td>Heathrow to Bodrum</td>\n",
              "      <td>2</td>\n",
              "      <td>Trip Verified</td>\n",
              "      <td>no boarding drinks provided</td>\n",
              "      <td>First time flying with BA business class, neve...</td>\n",
              "      <td>Solo Leisure</td>\n",
              "      <td>Business Class</td>\n",
              "    </tr>\n",
              "    <tr>\n",
              "      <th>3</th>\n",
              "      <td>Joel Burman</td>\n",
              "      <td>June 2023</td>\n",
              "      <td>Amman to London</td>\n",
              "      <td>4</td>\n",
              "      <td>Not Verified</td>\n",
              "      <td>WiFi didn't work</td>\n",
              "      <td>You can buy sandwiches and crisps but don't ex...</td>\n",
              "      <td>Solo Leisure</td>\n",
              "      <td>Economy Class</td>\n",
              "    </tr>\n",
              "    <tr>\n",
              "      <th>4</th>\n",
              "      <td>R Vines</td>\n",
              "      <td>NaN</td>\n",
              "      <td>London City to Ibiza</td>\n",
              "      <td>7</td>\n",
              "      <td>Trip Verified</td>\n",
              "      <td>stick with economy</td>\n",
              "      <td>This is a two-for-one review covering economy ...</td>\n",
              "      <td>Family Leisure</td>\n",
              "      <td>Business Class</td>\n",
              "    </tr>\n",
              "    <tr>\n",
              "      <th>...</th>\n",
              "      <td>...</td>\n",
              "      <td>...</td>\n",
              "      <td>...</td>\n",
              "      <td>...</td>\n",
              "      <td>...</td>\n",
              "      <td>...</td>\n",
              "      <td>...</td>\n",
              "      <td>...</td>\n",
              "      <td>...</td>\n",
              "    </tr>\n",
              "    <tr>\n",
              "      <th>195</th>\n",
              "      <td>Elizabeth Vaughan</td>\n",
              "      <td>September 2022</td>\n",
              "      <td>Sydney to London via Singapore</td>\n",
              "      <td>4</td>\n",
              "      <td>Not Verified</td>\n",
              "      <td>Should be more snacks on board</td>\n",
              "      <td>Good flight apart from my seat fabric was comi...</td>\n",
              "      <td>Solo Leisure</td>\n",
              "      <td>Economy Class</td>\n",
              "    </tr>\n",
              "    <tr>\n",
              "      <th>196</th>\n",
              "      <td>S Hearne</td>\n",
              "      <td>NaN</td>\n",
              "      <td>London to Lisbon</td>\n",
              "      <td>5</td>\n",
              "      <td>Trip Verified</td>\n",
              "      <td>Crew were friendly</td>\n",
              "      <td>Flight was 1 hour late leaving gate. Crew were...</td>\n",
              "      <td>Couple Leisure</td>\n",
              "      <td>Economy Class</td>\n",
              "    </tr>\n",
              "    <tr>\n",
              "      <th>197</th>\n",
              "      <td>Shahid Habib</td>\n",
              "      <td>September 2022</td>\n",
              "      <td>London to Istanbul</td>\n",
              "      <td>1</td>\n",
              "      <td>Trip Verified</td>\n",
              "      <td>very short leg space</td>\n",
              "      <td>London to Istanbul. British Airways Business C...</td>\n",
              "      <td>Business</td>\n",
              "      <td>Business Class</td>\n",
              "    </tr>\n",
              "    <tr>\n",
              "      <th>198</th>\n",
              "      <td>Delphi Haigh</td>\n",
              "      <td>September 2022</td>\n",
              "      <td>London to Manchester</td>\n",
              "      <td>2</td>\n",
              "      <td>Not Verified</td>\n",
              "      <td>staff were no help and frankly rude</td>\n",
              "      <td>London to Manchester. British Airways is proba...</td>\n",
              "      <td>Couple Leisure</td>\n",
              "      <td>Economy Class</td>\n",
              "    </tr>\n",
              "    <tr>\n",
              "      <th>199</th>\n",
              "      <td>Carlo Bell</td>\n",
              "      <td>NaN</td>\n",
              "      <td>London to Rome</td>\n",
              "      <td>2</td>\n",
              "      <td>Not Verified</td>\n",
              "      <td>Flight was cancelled at the last minute</td>\n",
              "      <td>Flight was cancelled at the last minute due to...</td>\n",
              "      <td>Family Leisure</td>\n",
              "      <td>Economy Class</td>\n",
              "    </tr>\n",
              "  </tbody>\n",
              "</table>\n",
              "<p>200 rows × 9 columns</p>\n",
              "</div>"
            ],
            "text/plain": [
              "        Passanger_Name     Flying_Date                           Route  \\\n",
              "0           Paige Boet       June 2023           New Orleans to London   \n",
              "1              S Layne      March 2023                 London to Amman   \n",
              "2          E Lanewoski             NaN              Heathrow to Bodrum   \n",
              "3          Joel Burman       June 2023                 Amman to London   \n",
              "4              R Vines             NaN            London City to Ibiza   \n",
              "..                 ...             ...                             ...   \n",
              "195  Elizabeth Vaughan  September 2022  Sydney to London via Singapore   \n",
              "196           S Hearne             NaN                London to Lisbon   \n",
              "197       Shahid Habib  September 2022              London to Istanbul   \n",
              "198       Delphi Haigh  September 2022            London to Manchester   \n",
              "199         Carlo Bell             NaN                  London to Rome   \n",
              "\n",
              "     Rating       Verified                             Review_title  \\\n",
              "0         1  Trip Verified              The airline lost my luggage   \n",
              "1         1  Trip Verified   fully refunded by our travel insurance   \n",
              "2         2  Trip Verified              no boarding drinks provided   \n",
              "3         4   Not Verified                        WiFi didn't work    \n",
              "4         7  Trip Verified                       stick with economy   \n",
              "..      ...            ...                                      ...   \n",
              "195       4   Not Verified           Should be more snacks on board   \n",
              "196       5  Trip Verified                       Crew were friendly   \n",
              "197       1  Trip Verified                     very short leg space   \n",
              "198       2   Not Verified      staff were no help and frankly rude   \n",
              "199       2   Not Verified  Flight was cancelled at the last minute   \n",
              "\n",
              "                                        Review_content  Traveller_Type  \\\n",
              "0    The airline lost my luggage and was absolutely...    Solo Leisure   \n",
              "1    We booked on the BA website, round trip flight...  Couple Leisure   \n",
              "2    First time flying with BA business class, neve...    Solo Leisure   \n",
              "3    You can buy sandwiches and crisps but don't ex...    Solo Leisure   \n",
              "4    This is a two-for-one review covering economy ...  Family Leisure   \n",
              "..                                                 ...             ...   \n",
              "195  Good flight apart from my seat fabric was comi...    Solo Leisure   \n",
              "196  Flight was 1 hour late leaving gate. Crew were...  Couple Leisure   \n",
              "197  London to Istanbul. British Airways Business C...        Business   \n",
              "198  London to Manchester. British Airways is proba...  Couple Leisure   \n",
              "199  Flight was cancelled at the last minute due to...  Family Leisure   \n",
              "\n",
              "              Class  \n",
              "0     Economy Class  \n",
              "1    Business Class  \n",
              "2    Business Class  \n",
              "3     Economy Class  \n",
              "4    Business Class  \n",
              "..              ...  \n",
              "195   Economy Class  \n",
              "196   Economy Class  \n",
              "197  Business Class  \n",
              "198   Economy Class  \n",
              "199   Economy Class  \n",
              "\n",
              "[200 rows x 9 columns]"
            ]
          },
          "execution_count": 35,
          "metadata": {},
          "output_type": "execute_result"
        }
      ],
      "source": [
        "# Reviewing a sampling of the data to confirm if the data looks correct now\n",
        "df.head(200)"
      ]
    },
    {
      "cell_type": "code",
      "execution_count": null,
      "id": "574a7665",
      "metadata": {
        "execution": {
          "iopub.execute_input": "2024-01-02T13:03:06.029827Z",
          "iopub.status.busy": "2024-01-02T13:03:06.029412Z",
          "iopub.status.idle": "2024-01-02T13:03:06.076980Z",
          "shell.execute_reply": "2024-01-02T13:03:06.075711Z"
        },
        "papermill": {
          "duration": 0.086843,
          "end_time": "2024-01-02T13:03:06.079636",
          "exception": false,
          "start_time": "2024-01-02T13:03:05.992793",
          "status": "completed"
        },
        "tags": [],
        "id": "574a7665",
        "outputId": "7f5792ca-4a80-4cde-be5b-e724b8963208"
      },
      "outputs": [
        {
          "data": {
            "text/html": [
              "<div>\n",
              "<style scoped>\n",
              "    .dataframe tbody tr th:only-of-type {\n",
              "        vertical-align: middle;\n",
              "    }\n",
              "\n",
              "    .dataframe tbody tr th {\n",
              "        vertical-align: top;\n",
              "    }\n",
              "\n",
              "    .dataframe thead th {\n",
              "        text-align: right;\n",
              "    }\n",
              "</style>\n",
              "<table border=\"1\" class=\"dataframe\">\n",
              "  <thead>\n",
              "    <tr style=\"text-align: right;\">\n",
              "      <th></th>\n",
              "      <th>Route</th>\n",
              "      <th>Start_Location</th>\n",
              "      <th>End_Location</th>\n",
              "      <th>Layover_Route</th>\n",
              "    </tr>\n",
              "  </thead>\n",
              "  <tbody>\n",
              "    <tr>\n",
              "      <th>0</th>\n",
              "      <td>New Orleans to London</td>\n",
              "      <td>New Orleans</td>\n",
              "      <td>London</td>\n",
              "      <td>NaN</td>\n",
              "    </tr>\n",
              "    <tr>\n",
              "      <th>1</th>\n",
              "      <td>London to Amman</td>\n",
              "      <td>London</td>\n",
              "      <td>Amman</td>\n",
              "      <td>NaN</td>\n",
              "    </tr>\n",
              "    <tr>\n",
              "      <th>2</th>\n",
              "      <td>Heathrow to Bodrum</td>\n",
              "      <td>Heathrow</td>\n",
              "      <td>Bodrum</td>\n",
              "      <td>NaN</td>\n",
              "    </tr>\n",
              "    <tr>\n",
              "      <th>3</th>\n",
              "      <td>Amman to London</td>\n",
              "      <td>Amman</td>\n",
              "      <td>London</td>\n",
              "      <td>NaN</td>\n",
              "    </tr>\n",
              "    <tr>\n",
              "      <th>4</th>\n",
              "      <td>London City to Ibiza</td>\n",
              "      <td>London City</td>\n",
              "      <td>Ibiza</td>\n",
              "      <td>NaN</td>\n",
              "    </tr>\n",
              "    <tr>\n",
              "      <th>...</th>\n",
              "      <td>...</td>\n",
              "      <td>...</td>\n",
              "      <td>...</td>\n",
              "      <td>...</td>\n",
              "    </tr>\n",
              "    <tr>\n",
              "      <th>3575</th>\n",
              "      <td>NaN</td>\n",
              "      <td>NaN</td>\n",
              "      <td>NaN</td>\n",
              "      <td>NaN</td>\n",
              "    </tr>\n",
              "    <tr>\n",
              "      <th>3576</th>\n",
              "      <td>NaN</td>\n",
              "      <td>NaN</td>\n",
              "      <td>NaN</td>\n",
              "      <td>NaN</td>\n",
              "    </tr>\n",
              "    <tr>\n",
              "      <th>3577</th>\n",
              "      <td>NaN</td>\n",
              "      <td>NaN</td>\n",
              "      <td>NaN</td>\n",
              "      <td>NaN</td>\n",
              "    </tr>\n",
              "    <tr>\n",
              "      <th>3578</th>\n",
              "      <td>NaN</td>\n",
              "      <td>NaN</td>\n",
              "      <td>NaN</td>\n",
              "      <td>NaN</td>\n",
              "    </tr>\n",
              "    <tr>\n",
              "      <th>3579</th>\n",
              "      <td>NaN</td>\n",
              "      <td>NaN</td>\n",
              "      <td>NaN</td>\n",
              "      <td>NaN</td>\n",
              "    </tr>\n",
              "  </tbody>\n",
              "</table>\n",
              "<p>3575 rows × 4 columns</p>\n",
              "</div>"
            ],
            "text/plain": [
              "                      Route Start_Location End_Location Layover_Route\n",
              "0     New Orleans to London    New Orleans       London           NaN\n",
              "1           London to Amman         London        Amman           NaN\n",
              "2        Heathrow to Bodrum       Heathrow       Bodrum           NaN\n",
              "3           Amman to London          Amman       London           NaN\n",
              "4      London City to Ibiza    London City        Ibiza           NaN\n",
              "...                     ...            ...          ...           ...\n",
              "3575                    NaN            NaN          NaN           NaN\n",
              "3576                    NaN            NaN          NaN           NaN\n",
              "3577                    NaN            NaN          NaN           NaN\n",
              "3578                    NaN            NaN          NaN           NaN\n",
              "3579                    NaN            NaN          NaN           NaN\n",
              "\n",
              "[3575 rows x 4 columns]"
            ]
          },
          "execution_count": 36,
          "metadata": {},
          "output_type": "execute_result"
        }
      ],
      "source": [
        "# Creating a column for 'Start_Location' by parsing 'Route' before the string ' to '\n",
        "df['Start_Location'] = df['Route'].str.split(' to ').str[0]\n",
        "\n",
        "# Creating a column for 'End_Location' by parsing 'Route' after the string ' to ' and removing 'via' and trailing characters\n",
        "df['End_Location'] = df['Route'].str.split(' to ').str[1].str.replace(r'\\s*via.*$', '', regex=True)\n",
        "\n",
        "# Creating a column for 'Layover_Route' by parsing 'Route' after the string ' via '\n",
        "df['Layover_Route'] = df['Route'].str.split(' via ').str[1]\n",
        "\n",
        "# Printing the results\n",
        "df[['Route', 'Start_Location', 'End_Location', 'Layover_Route']]"
      ]
    },
    {
      "cell_type": "code",
      "execution_count": null,
      "id": "1a4363a7",
      "metadata": {
        "execution": {
          "iopub.execute_input": "2024-01-02T13:03:06.150983Z",
          "iopub.status.busy": "2024-01-02T13:03:06.150496Z",
          "iopub.status.idle": "2024-01-02T13:03:06.155421Z",
          "shell.execute_reply": "2024-01-02T13:03:06.154301Z"
        },
        "papermill": {
          "duration": 0.043897,
          "end_time": "2024-01-02T13:03:06.157885",
          "exception": false,
          "start_time": "2024-01-02T13:03:06.113988",
          "status": "completed"
        },
        "tags": [],
        "id": "1a4363a7"
      },
      "outputs": [],
      "source": [
        "# Data cleaning steps now complete"
      ]
    },
    {
      "cell_type": "markdown",
      "id": "9b6f656d",
      "metadata": {
        "papermill": {
          "duration": 0.034029,
          "end_time": "2024-01-02T13:03:06.225826",
          "exception": false,
          "start_time": "2024-01-02T13:03:06.191797",
          "status": "completed"
        },
        "tags": [],
        "id": "9b6f656d"
      },
      "source": [
        "## Data Transformation\n",
        "\n",
        "During my analysis of the route data, I noticed that while most of the records contained location names, other records contained airport codes instead of location names. I decided that the data could benefit from having a consistent format, so I opted to convert the airport codes to location names.\n",
        "\n",
        "The challenge with this decision is the dataset did not provide a way to identify the corresponding location for each airport code.\n",
        "\n",
        "To accomplish this task, I found a website that contained a table of airport codes and city names. I used Pandas built in web scrapping tool to extract this list into a dataframe and used indexing to update the values in my original dataframe.\n",
        "\n",
        "My source for this task is nationsonline.org.\n",
        "[Click here to view the source](https://www.nationsonline.org/oneworld/IATA_Codes/airport_code_list.htm)"
      ]
    },
    {
      "cell_type": "code",
      "execution_count": null,
      "id": "117bca5b",
      "metadata": {
        "execution": {
          "iopub.execute_input": "2024-01-02T13:03:06.295364Z",
          "iopub.status.busy": "2024-01-02T13:03:06.294893Z",
          "iopub.status.idle": "2024-01-02T13:03:07.153159Z",
          "shell.execute_reply": "2024-01-02T13:03:07.151839Z"
        },
        "papermill": {
          "duration": 0.896284,
          "end_time": "2024-01-02T13:03:07.155850",
          "exception": false,
          "start_time": "2024-01-02T13:03:06.259566",
          "status": "completed"
        },
        "tags": [],
        "id": "117bca5b",
        "outputId": "fc73cf0f-7f63-43d0-a3b1-a2978c61dc4a"
      },
      "outputs": [
        {
          "name": "stdout",
          "output_type": "stream",
          "text": [
            "Complete\n"
          ]
        }
      ],
      "source": [
        "# Importing Libraries for web scrapping\n",
        "import requests\n",
        "\n",
        "# Connecting to website\n",
        "url = 'https://www.nationsonline.org/oneworld/IATA_Codes/airport_code_list.htm'\n",
        "hdr = {'User-Agent': 'Mozilla/5.0'}\n",
        "response = requests.get(url, headers=hdr)\n",
        "\n",
        "# Reading the html file to create a dataframe from each table\n",
        "dfs = pd.read_html(response.text)\n",
        "\n",
        "# Merging the dataframes created into one\n",
        "airport_df = pd.concat(dfs, ignore_index=True)\n",
        "\n",
        "# Assiging column names to the dataframe\n",
        "airport_df.columns = ['City', 'Country', 'Airport_Code']\n",
        "\n",
        "print('Complete')"
      ]
    },
    {
      "cell_type": "code",
      "execution_count": null,
      "id": "5000883e",
      "metadata": {
        "execution": {
          "iopub.execute_input": "2024-01-02T13:03:07.226987Z",
          "iopub.status.busy": "2024-01-02T13:03:07.226400Z",
          "iopub.status.idle": "2024-01-02T13:03:07.238367Z",
          "shell.execute_reply": "2024-01-02T13:03:07.237149Z"
        },
        "papermill": {
          "duration": 0.050234,
          "end_time": "2024-01-02T13:03:07.240732",
          "exception": false,
          "start_time": "2024-01-02T13:03:07.190498",
          "status": "completed"
        },
        "tags": [],
        "id": "5000883e",
        "outputId": "82345e31-ee63-4c1d-9e53-85b098aefdac"
      },
      "outputs": [
        {
          "data": {
            "text/html": [
              "<div>\n",
              "<style scoped>\n",
              "    .dataframe tbody tr th:only-of-type {\n",
              "        vertical-align: middle;\n",
              "    }\n",
              "\n",
              "    .dataframe tbody tr th {\n",
              "        vertical-align: top;\n",
              "    }\n",
              "\n",
              "    .dataframe thead th {\n",
              "        text-align: right;\n",
              "    }\n",
              "</style>\n",
              "<table border=\"1\" class=\"dataframe\">\n",
              "  <thead>\n",
              "    <tr style=\"text-align: right;\">\n",
              "      <th></th>\n",
              "      <th>City</th>\n",
              "      <th>Country</th>\n",
              "      <th>Airport_Code</th>\n",
              "    </tr>\n",
              "  </thead>\n",
              "  <tbody>\n",
              "    <tr>\n",
              "      <th>0</th>\n",
              "      <td>A</td>\n",
              "      <td>A</td>\n",
              "      <td>A</td>\n",
              "    </tr>\n",
              "    <tr>\n",
              "      <th>1</th>\n",
              "      <td>Aarhus</td>\n",
              "      <td>Denmark</td>\n",
              "      <td>AAR</td>\n",
              "    </tr>\n",
              "    <tr>\n",
              "      <th>2</th>\n",
              "      <td>Abadan</td>\n",
              "      <td>Iran</td>\n",
              "      <td>ABD</td>\n",
              "    </tr>\n",
              "    <tr>\n",
              "      <th>3</th>\n",
              "      <td>Abeche</td>\n",
              "      <td>Chad</td>\n",
              "      <td>AEH</td>\n",
              "    </tr>\n",
              "    <tr>\n",
              "      <th>4</th>\n",
              "      <td>Aberdeen</td>\n",
              "      <td>United Kingdom</td>\n",
              "      <td>ABZ</td>\n",
              "    </tr>\n",
              "  </tbody>\n",
              "</table>\n",
              "</div>"
            ],
            "text/plain": [
              "       City         Country Airport_Code\n",
              "0         A               A            A\n",
              "1    Aarhus         Denmark          AAR\n",
              "2    Abadan            Iran          ABD\n",
              "3    Abeche            Chad          AEH\n",
              "4  Aberdeen  United Kingdom          ABZ"
            ]
          },
          "execution_count": 39,
          "metadata": {},
          "output_type": "execute_result"
        }
      ],
      "source": [
        "# Checking the airport dataframe\n",
        "airport_df.head()"
      ]
    },
    {
      "cell_type": "code",
      "execution_count": null,
      "id": "05a27905",
      "metadata": {
        "execution": {
          "iopub.execute_input": "2024-01-02T13:03:07.312610Z",
          "iopub.status.busy": "2024-01-02T13:03:07.312177Z",
          "iopub.status.idle": "2024-01-02T13:03:07.325998Z",
          "shell.execute_reply": "2024-01-02T13:03:07.324767Z"
        },
        "papermill": {
          "duration": 0.052832,
          "end_time": "2024-01-02T13:03:07.328682",
          "exception": false,
          "start_time": "2024-01-02T13:03:07.275850",
          "status": "completed"
        },
        "tags": [],
        "id": "05a27905",
        "outputId": "72a9ebc0-cc48-44cd-9f27-7aeca4778ae0"
      },
      "outputs": [
        {
          "data": {
            "text/html": [
              "<div>\n",
              "<style scoped>\n",
              "    .dataframe tbody tr th:only-of-type {\n",
              "        vertical-align: middle;\n",
              "    }\n",
              "\n",
              "    .dataframe tbody tr th {\n",
              "        vertical-align: top;\n",
              "    }\n",
              "\n",
              "    .dataframe thead th {\n",
              "        text-align: right;\n",
              "    }\n",
              "</style>\n",
              "<table border=\"1\" class=\"dataframe\">\n",
              "  <thead>\n",
              "    <tr style=\"text-align: right;\">\n",
              "      <th></th>\n",
              "      <th>City</th>\n",
              "      <th>Country</th>\n",
              "      <th>Airport_Code</th>\n",
              "    </tr>\n",
              "  </thead>\n",
              "  <tbody>\n",
              "    <tr>\n",
              "      <th>0</th>\n",
              "      <td>Aarhus</td>\n",
              "      <td>Denmark</td>\n",
              "      <td>AAR</td>\n",
              "    </tr>\n",
              "    <tr>\n",
              "      <th>1</th>\n",
              "      <td>Abadan</td>\n",
              "      <td>Iran</td>\n",
              "      <td>ABD</td>\n",
              "    </tr>\n",
              "    <tr>\n",
              "      <th>2</th>\n",
              "      <td>Abeche</td>\n",
              "      <td>Chad</td>\n",
              "      <td>AEH</td>\n",
              "    </tr>\n",
              "    <tr>\n",
              "      <th>3</th>\n",
              "      <td>Aberdeen</td>\n",
              "      <td>United Kingdom</td>\n",
              "      <td>ABZ</td>\n",
              "    </tr>\n",
              "    <tr>\n",
              "      <th>4</th>\n",
              "      <td>Aberdeen (SD)</td>\n",
              "      <td>USA</td>\n",
              "      <td>ABR</td>\n",
              "    </tr>\n",
              "  </tbody>\n",
              "</table>\n",
              "</div>"
            ],
            "text/plain": [
              "            City         Country Airport_Code\n",
              "0         Aarhus         Denmark          AAR\n",
              "1         Abadan            Iran          ABD\n",
              "2         Abeche            Chad          AEH\n",
              "3       Aberdeen  United Kingdom          ABZ\n",
              "4  Aberdeen (SD)             USA          ABR"
            ]
          },
          "execution_count": 40,
          "metadata": {},
          "output_type": "execute_result"
        }
      ],
      "source": [
        "# Removing the first row and checking the output\n",
        "airport_df = airport_df.drop(0, axis=0).reset_index(drop=True)\n",
        "airport_df.head()"
      ]
    },
    {
      "cell_type": "code",
      "execution_count": null,
      "id": "5e6dada0",
      "metadata": {
        "execution": {
          "iopub.execute_input": "2024-01-02T13:03:07.400326Z",
          "iopub.status.busy": "2024-01-02T13:03:07.399883Z",
          "iopub.status.idle": "2024-01-02T13:03:08.585578Z",
          "shell.execute_reply": "2024-01-02T13:03:08.584356Z"
        },
        "papermill": {
          "duration": 1.224473,
          "end_time": "2024-01-02T13:03:08.588391",
          "exception": false,
          "start_time": "2024-01-02T13:03:07.363918",
          "status": "completed"
        },
        "tags": [],
        "id": "5e6dada0",
        "outputId": "a64bece0-48ed-4754-8867-f402b527ad05"
      },
      "outputs": [
        {
          "data": {
            "text/html": [
              "<div>\n",
              "<style scoped>\n",
              "    .dataframe tbody tr th:only-of-type {\n",
              "        vertical-align: middle;\n",
              "    }\n",
              "\n",
              "    .dataframe tbody tr th {\n",
              "        vertical-align: top;\n",
              "    }\n",
              "\n",
              "    .dataframe thead th {\n",
              "        text-align: right;\n",
              "    }\n",
              "</style>\n",
              "<table border=\"1\" class=\"dataframe\">\n",
              "  <thead>\n",
              "    <tr style=\"text-align: right;\">\n",
              "      <th></th>\n",
              "      <th>Route</th>\n",
              "      <th>Start_Location</th>\n",
              "      <th>End_Location</th>\n",
              "      <th>Layover_Route</th>\n",
              "    </tr>\n",
              "  </thead>\n",
              "  <tbody>\n",
              "    <tr>\n",
              "      <th>0</th>\n",
              "      <td>New Orleans to London</td>\n",
              "      <td>New Orleans</td>\n",
              "      <td>London</td>\n",
              "      <td>NaN</td>\n",
              "    </tr>\n",
              "    <tr>\n",
              "      <th>1</th>\n",
              "      <td>London to Amman</td>\n",
              "      <td>London</td>\n",
              "      <td>Amman</td>\n",
              "      <td>NaN</td>\n",
              "    </tr>\n",
              "    <tr>\n",
              "      <th>2</th>\n",
              "      <td>Heathrow to Bodrum</td>\n",
              "      <td>Heathrow</td>\n",
              "      <td>Bodrum</td>\n",
              "      <td>NaN</td>\n",
              "    </tr>\n",
              "    <tr>\n",
              "      <th>3</th>\n",
              "      <td>Amman to London</td>\n",
              "      <td>Amman</td>\n",
              "      <td>London</td>\n",
              "      <td>NaN</td>\n",
              "    </tr>\n",
              "    <tr>\n",
              "      <th>4</th>\n",
              "      <td>London City to Ibiza</td>\n",
              "      <td>London City</td>\n",
              "      <td>Ibiza</td>\n",
              "      <td>NaN</td>\n",
              "    </tr>\n",
              "    <tr>\n",
              "      <th>...</th>\n",
              "      <td>...</td>\n",
              "      <td>...</td>\n",
              "      <td>...</td>\n",
              "      <td>...</td>\n",
              "    </tr>\n",
              "    <tr>\n",
              "      <th>3575</th>\n",
              "      <td>NaN</td>\n",
              "      <td>NaN</td>\n",
              "      <td>NaN</td>\n",
              "      <td>NaN</td>\n",
              "    </tr>\n",
              "    <tr>\n",
              "      <th>3576</th>\n",
              "      <td>NaN</td>\n",
              "      <td>NaN</td>\n",
              "      <td>NaN</td>\n",
              "      <td>NaN</td>\n",
              "    </tr>\n",
              "    <tr>\n",
              "      <th>3577</th>\n",
              "      <td>NaN</td>\n",
              "      <td>NaN</td>\n",
              "      <td>NaN</td>\n",
              "      <td>NaN</td>\n",
              "    </tr>\n",
              "    <tr>\n",
              "      <th>3578</th>\n",
              "      <td>NaN</td>\n",
              "      <td>NaN</td>\n",
              "      <td>NaN</td>\n",
              "      <td>NaN</td>\n",
              "    </tr>\n",
              "    <tr>\n",
              "      <th>3579</th>\n",
              "      <td>NaN</td>\n",
              "      <td>NaN</td>\n",
              "      <td>NaN</td>\n",
              "      <td>NaN</td>\n",
              "    </tr>\n",
              "  </tbody>\n",
              "</table>\n",
              "<p>3575 rows × 4 columns</p>\n",
              "</div>"
            ],
            "text/plain": [
              "                      Route Start_Location End_Location Layover_Route\n",
              "0     New Orleans to London    New Orleans       London           NaN\n",
              "1           London to Amman         London        Amman           NaN\n",
              "2        Heathrow to Bodrum       Heathrow       Bodrum           NaN\n",
              "3           Amman to London          Amman       London           NaN\n",
              "4      London City to Ibiza    London City        Ibiza           NaN\n",
              "...                     ...            ...          ...           ...\n",
              "3575                    NaN            NaN          NaN           NaN\n",
              "3576                    NaN            NaN          NaN           NaN\n",
              "3577                    NaN            NaN          NaN           NaN\n",
              "3578                    NaN            NaN          NaN           NaN\n",
              "3579                    NaN            NaN          NaN           NaN\n",
              "\n",
              "[3575 rows x 4 columns]"
            ]
          },
          "execution_count": 41,
          "metadata": {},
          "output_type": "execute_result"
        }
      ],
      "source": [
        "# Creating a dictionary to store Airport Code as the key and City as the value\n",
        "mapping_dict = airport_df.set_index('Airport_Code')['City'].to_dict()\n",
        "\n",
        "# Using the dictionary to replace Airport Code to City in each parsed location\n",
        "df['Start_Location'] = df['Start_Location'].replace(mapping_dict)\n",
        "df['End_Location'] = df['End_Location'].replace(mapping_dict)\n",
        "df['Layover_Route'] = df['Layover_Route'].replace(mapping_dict)\n",
        "\n",
        "# Confirming the change took effect\n",
        "df[['Route', 'Start_Location', 'End_Location', 'Layover_Route']]"
      ]
    },
    {
      "cell_type": "code",
      "execution_count": null,
      "id": "6385a7b3",
      "metadata": {
        "execution": {
          "iopub.execute_input": "2024-01-02T13:03:08.663345Z",
          "iopub.status.busy": "2024-01-02T13:03:08.662920Z",
          "iopub.status.idle": "2024-01-02T13:03:08.682231Z",
          "shell.execute_reply": "2024-01-02T13:03:08.680899Z"
        },
        "papermill": {
          "duration": 0.060447,
          "end_time": "2024-01-02T13:03:08.684996",
          "exception": false,
          "start_time": "2024-01-02T13:03:08.624549",
          "status": "completed"
        },
        "tags": [],
        "id": "6385a7b3",
        "outputId": "c603d059-9791-4d77-dfc5-aba3c09139d6"
      },
      "outputs": [
        {
          "data": {
            "text/html": [
              "<div>\n",
              "<style scoped>\n",
              "    .dataframe tbody tr th:only-of-type {\n",
              "        vertical-align: middle;\n",
              "    }\n",
              "\n",
              "    .dataframe tbody tr th {\n",
              "        vertical-align: top;\n",
              "    }\n",
              "\n",
              "    .dataframe thead th {\n",
              "        text-align: right;\n",
              "    }\n",
              "</style>\n",
              "<table border=\"1\" class=\"dataframe\">\n",
              "  <thead>\n",
              "    <tr style=\"text-align: right;\">\n",
              "      <th></th>\n",
              "      <th>Route</th>\n",
              "      <th>Start_Location</th>\n",
              "      <th>End_Location</th>\n",
              "      <th>Layover_Route</th>\n",
              "    </tr>\n",
              "  </thead>\n",
              "  <tbody>\n",
              "    <tr>\n",
              "      <th>103</th>\n",
              "      <td>London Singapore</td>\n",
              "      <td>London Singapore</td>\n",
              "      <td>NaN</td>\n",
              "      <td>NaN</td>\n",
              "    </tr>\n",
              "    <tr>\n",
              "      <th>1031</th>\n",
              "      <td>Edinburgh-Florence</td>\n",
              "      <td>Edinburgh-Florence</td>\n",
              "      <td>NaN</td>\n",
              "      <td>NaN</td>\n",
              "    </tr>\n",
              "    <tr>\n",
              "      <th>2359</th>\n",
              "      <td>YVR-LIS via LHR</td>\n",
              "      <td>YVR-LIS via LHR</td>\n",
              "      <td>NaN</td>\n",
              "      <td>London - Heathrow</td>\n",
              "    </tr>\n",
              "    <tr>\n",
              "      <th>2719</th>\n",
              "      <td>MAN-LHR</td>\n",
              "      <td>MAN-LHR</td>\n",
              "      <td>NaN</td>\n",
              "      <td>NaN</td>\n",
              "    </tr>\n",
              "    <tr>\n",
              "      <th>2731</th>\n",
              "      <td>LHR-BOM</td>\n",
              "      <td>LHR-BOM</td>\n",
              "      <td>NaN</td>\n",
              "      <td>NaN</td>\n",
              "    </tr>\n",
              "    <tr>\n",
              "      <th>2803</th>\n",
              "      <td>LHR-DEN</td>\n",
              "      <td>LHR-DEN</td>\n",
              "      <td>NaN</td>\n",
              "      <td>NaN</td>\n",
              "    </tr>\n",
              "    <tr>\n",
              "      <th>2804</th>\n",
              "      <td>ORD-LHR</td>\n",
              "      <td>ORD-LHR</td>\n",
              "      <td>NaN</td>\n",
              "      <td>NaN</td>\n",
              "    </tr>\n",
              "    <tr>\n",
              "      <th>2805</th>\n",
              "      <td>LHR-GLA</td>\n",
              "      <td>LHR-GLA</td>\n",
              "      <td>NaN</td>\n",
              "      <td>NaN</td>\n",
              "    </tr>\n",
              "    <tr>\n",
              "      <th>2806</th>\n",
              "      <td>GLA-LHR</td>\n",
              "      <td>GLA-LHR</td>\n",
              "      <td>NaN</td>\n",
              "      <td>NaN</td>\n",
              "    </tr>\n",
              "    <tr>\n",
              "      <th>2807</th>\n",
              "      <td>FRA-LHR</td>\n",
              "      <td>FRA-LHR</td>\n",
              "      <td>NaN</td>\n",
              "      <td>NaN</td>\n",
              "    </tr>\n",
              "    <tr>\n",
              "      <th>2811</th>\n",
              "      <td>London-Vancouver return</td>\n",
              "      <td>London-Vancouver return</td>\n",
              "      <td>NaN</td>\n",
              "      <td>NaN</td>\n",
              "    </tr>\n",
              "    <tr>\n",
              "      <th>2812</th>\n",
              "      <td>LHR-ORD</td>\n",
              "      <td>LHR-ORD</td>\n",
              "      <td>NaN</td>\n",
              "      <td>NaN</td>\n",
              "    </tr>\n",
              "    <tr>\n",
              "      <th>2813</th>\n",
              "      <td>BOM-LHR</td>\n",
              "      <td>BOM-LHR</td>\n",
              "      <td>NaN</td>\n",
              "      <td>NaN</td>\n",
              "    </tr>\n",
              "    <tr>\n",
              "      <th>2814</th>\n",
              "      <td>LHR-BOM</td>\n",
              "      <td>LHR-BOM</td>\n",
              "      <td>NaN</td>\n",
              "      <td>NaN</td>\n",
              "    </tr>\n",
              "  </tbody>\n",
              "</table>\n",
              "</div>"
            ],
            "text/plain": [
              "                        Route           Start_Location End_Location  \\\n",
              "103         London Singapore         London Singapore           NaN   \n",
              "1031      Edinburgh-Florence       Edinburgh-Florence           NaN   \n",
              "2359          YVR-LIS via LHR          YVR-LIS via LHR          NaN   \n",
              "2719                 MAN-LHR                  MAN-LHR           NaN   \n",
              "2731                  LHR-BOM                  LHR-BOM          NaN   \n",
              "2803                  LHR-DEN                  LHR-DEN          NaN   \n",
              "2804                  ORD-LHR                  ORD-LHR          NaN   \n",
              "2805                  LHR-GLA                  LHR-GLA          NaN   \n",
              "2806                  GLA-LHR                  GLA-LHR          NaN   \n",
              "2807                 FRA-LHR                  FRA-LHR           NaN   \n",
              "2811  London-Vancouver return  London-Vancouver return          NaN   \n",
              "2812                  LHR-ORD                  LHR-ORD          NaN   \n",
              "2813                  BOM-LHR                  BOM-LHR          NaN   \n",
              "2814                  LHR-BOM                  LHR-BOM          NaN   \n",
              "\n",
              "          Layover_Route  \n",
              "103                 NaN  \n",
              "1031                NaN  \n",
              "2359  London - Heathrow  \n",
              "2719                NaN  \n",
              "2731                NaN  \n",
              "2803                NaN  \n",
              "2804                NaN  \n",
              "2805                NaN  \n",
              "2806                NaN  \n",
              "2807                NaN  \n",
              "2811                NaN  \n",
              "2812                NaN  \n",
              "2813                NaN  \n",
              "2814                NaN  "
            ]
          },
          "execution_count": 42,
          "metadata": {},
          "output_type": "execute_result"
        }
      ],
      "source": [
        "# Applying a mask to check if any null end cities exist where Start City is not null\n",
        "mask = df[df['End_Location'].isnull() & df['Start_Location'].notnull()]\n",
        "\n",
        "# Viewing the output for only specific columns\n",
        "mask[['Route', 'Start_Location', 'End_Location', 'Layover_Route']]"
      ]
    },
    {
      "cell_type": "code",
      "execution_count": null,
      "id": "5c24f894",
      "metadata": {
        "execution": {
          "iopub.execute_input": "2024-01-02T13:03:08.759843Z",
          "iopub.status.busy": "2024-01-02T13:03:08.759396Z",
          "iopub.status.idle": "2024-01-02T13:03:08.777238Z",
          "shell.execute_reply": "2024-01-02T13:03:08.775705Z"
        },
        "papermill": {
          "duration": 0.059213,
          "end_time": "2024-01-02T13:03:08.780356",
          "exception": false,
          "start_time": "2024-01-02T13:03:08.721143",
          "status": "completed"
        },
        "tags": [],
        "id": "5c24f894",
        "outputId": "bc48a836-acf4-4910-a5cc-658532e9ad53"
      },
      "outputs": [
        {
          "name": "stdout",
          "output_type": "stream",
          "text": [
            "        Passanger_Name Flying_Date                Route  Rating  \\\n",
            "103     Janeks Volkovs         NaN    London Singapore        8   \n",
            "1031         R Johnson   July 2018  Edinburgh-Florence       10   \n",
            "2359     Alan Kurimura         NaN      YVR-LIS via LHR       6   \n",
            "2719          A Gibson         NaN             MAN-LHR       10   \n",
            "2731   Aadheer Warriar         NaN              LHR-BOM       3   \n",
            "2803  James Williamson         NaN              LHR-DEN       8   \n",
            "2804  James Williamson         NaN              ORD-LHR       9   \n",
            "2805  James Williamson         NaN              LHR-GLA       9   \n",
            "2806  James Williamson         NaN              GLA-LHR      10   \n",
            "2807         Colin Pay         NaN             FRA-LHR        4   \n",
            "2811            D Ross         NaN     London-Vancouver       7   \n",
            "2812           J Brown         NaN              LHR-ORD       5   \n",
            "2813    Kevin Barrance         NaN              BOM-LHR       3   \n",
            "2814    Kevin Barrance         NaN              LHR-BOM       7   \n",
            "\n",
            "           Verified                     Review_title  \\\n",
            "103   Trip Verified       nice and professional crew   \n",
            "1031  Trip Verified                Wonderful service   \n",
            "2359   Not Verified          experience was adequate   \n",
            "2719   Not Verified  British Airways customer review   \n",
            "2731   Not Verified  British Airways customer review   \n",
            "2803   Not Verified  British Airways customer review   \n",
            "2804   Not Verified  British Airways customer review   \n",
            "2805   Not Verified  British Airways customer review   \n",
            "2806   Not Verified  British Airways customer review   \n",
            "2807   Not Verified  British Airways customer review   \n",
            "2811   Not Verified  British Airways customer review   \n",
            "2812   Not Verified  British Airways customer review   \n",
            "2813   Not Verified  British Airways customer review   \n",
            "2814   Not Verified  British Airways customer review   \n",
            "\n",
            "                                         Review_content  Traveller_Type  \\\n",
            "103   Although it was a bit uncomfortable flight in ...    Solo Leisure   \n",
            "1031  Wonderful service on the flight from Edinburgh...  Couple Leisure   \n",
            "2359  I usually fly on Asian airlines (ANA, EVA, Kor...    Solo Leisure   \n",
            "2719  Quick online check-in and boarding passes with...        Business   \n",
            "2731  The baggage check in took forever, it was 45-5...  Couple Leisure   \n",
            "2803  28th May 2015, LHR-DEN, B747, Seat 29A.  Paid ...    Solo Leisure   \n",
            "2804  9/6/15, ORD-LHR, 777-300, Club World, Seat 13b...    Solo Leisure   \n",
            "2805  10/6/15, LHR-GLA, A321, Seat 9A.  Was able to ...    Solo Leisure   \n",
            "2806  28 May 2015, GLA-LHR. A321 (new Seating) Seat ...    Solo Leisure   \n",
            "2807  FRA-LHR on A319, We sat on the plane at the ga...        Business   \n",
            "2811  LHR to YVR return. Hard earned Avios points tr...        Business   \n",
            "2812  Club World from LHR-ORD. Busy flight on the ag...        Business   \n",
            "2813  This review refers to a return trip from India...        Business   \n",
            "2814  This review concerns LHR-BOM in Business Class...        Business   \n",
            "\n",
            "                Class       Start_Location End_Location      Layover_Route  \n",
            "103     Economy Class    London Singapore           NaN                NaN  \n",
            "1031   Business Class  Edinburgh-Florence           NaN                NaN  \n",
            "2359    Economy Class      YVR-LIS via LHR          NaN  London - Heathrow  \n",
            "2719    Economy Class             MAN-LHR           NaN                NaN  \n",
            "2731    Economy Class              LHR-BOM          NaN                NaN  \n",
            "2803    Economy Class              LHR-DEN          NaN                NaN  \n",
            "2804   Business Class              ORD-LHR          NaN                NaN  \n",
            "2805    Economy Class              LHR-GLA          NaN                NaN  \n",
            "2806    Economy Class              GLA-LHR          NaN                NaN  \n",
            "2807   Business Class             FRA-LHR           NaN                NaN  \n",
            "2811   Business Class     London-Vancouver          NaN                NaN  \n",
            "2812   Business Class              LHR-ORD          NaN                NaN  \n",
            "2813  Premium Economy              BOM-LHR          NaN                NaN  \n",
            "2814   Business Class              LHR-BOM          NaN                NaN  \n"
          ]
        }
      ],
      "source": [
        "# Removing ' return' from record 2811 for Route and Start City\n",
        "df.loc[2811, 'Route'] = df.loc[2811, 'Route'].replace(' return', '').split()[0]\n",
        "df.loc[2811, 'Start_Location'] = df.loc[2811, 'Start_Location'].replace(' return', '').split()[0]\n",
        "\n",
        "print(df.loc[mask.index])"
      ]
    },
    {
      "cell_type": "code",
      "execution_count": null,
      "id": "1d7da1e3",
      "metadata": {
        "execution": {
          "iopub.execute_input": "2024-01-02T13:03:08.856387Z",
          "iopub.status.busy": "2024-01-02T13:03:08.855950Z",
          "iopub.status.idle": "2024-01-02T13:03:08.875614Z",
          "shell.execute_reply": "2024-01-02T13:03:08.874149Z"
        },
        "papermill": {
          "duration": 0.06043,
          "end_time": "2024-01-02T13:03:08.878741",
          "exception": false,
          "start_time": "2024-01-02T13:03:08.818311",
          "status": "completed"
        },
        "tags": [],
        "id": "1d7da1e3",
        "outputId": "6aa6c298-5b67-4ac5-b73a-8af842ea4f4b"
      },
      "outputs": [
        {
          "name": "stdout",
          "output_type": "stream",
          "text": [
            "        Passanger_Name Flying_Date                Route  Rating  \\\n",
            "103     Janeks Volkovs         NaN    London Singapore        8   \n",
            "1031         R Johnson   July 2018  Edinburgh-Florence       10   \n",
            "2359     Alan Kurimura         NaN      YVR-LIS via LHR       6   \n",
            "2719          A Gibson         NaN             MAN-LHR       10   \n",
            "2731   Aadheer Warriar         NaN              LHR-BOM       3   \n",
            "2803  James Williamson         NaN              LHR-DEN       8   \n",
            "2804  James Williamson         NaN              ORD-LHR       9   \n",
            "2805  James Williamson         NaN              LHR-GLA       9   \n",
            "2806  James Williamson         NaN              GLA-LHR      10   \n",
            "2807         Colin Pay         NaN             FRA-LHR        4   \n",
            "2811            D Ross         NaN     London-Vancouver       7   \n",
            "2812           J Brown         NaN              LHR-ORD       5   \n",
            "2813    Kevin Barrance         NaN              BOM-LHR       3   \n",
            "2814    Kevin Barrance         NaN              LHR-BOM       7   \n",
            "\n",
            "           Verified                     Review_title  \\\n",
            "103   Trip Verified       nice and professional crew   \n",
            "1031  Trip Verified                Wonderful service   \n",
            "2359   Not Verified          experience was adequate   \n",
            "2719   Not Verified  British Airways customer review   \n",
            "2731   Not Verified  British Airways customer review   \n",
            "2803   Not Verified  British Airways customer review   \n",
            "2804   Not Verified  British Airways customer review   \n",
            "2805   Not Verified  British Airways customer review   \n",
            "2806   Not Verified  British Airways customer review   \n",
            "2807   Not Verified  British Airways customer review   \n",
            "2811   Not Verified  British Airways customer review   \n",
            "2812   Not Verified  British Airways customer review   \n",
            "2813   Not Verified  British Airways customer review   \n",
            "2814   Not Verified  British Airways customer review   \n",
            "\n",
            "                                         Review_content  Traveller_Type  \\\n",
            "103   Although it was a bit uncomfortable flight in ...    Solo Leisure   \n",
            "1031  Wonderful service on the flight from Edinburgh...  Couple Leisure   \n",
            "2359  I usually fly on Asian airlines (ANA, EVA, Kor...    Solo Leisure   \n",
            "2719  Quick online check-in and boarding passes with...        Business   \n",
            "2731  The baggage check in took forever, it was 45-5...  Couple Leisure   \n",
            "2803  28th May 2015, LHR-DEN, B747, Seat 29A.  Paid ...    Solo Leisure   \n",
            "2804  9/6/15, ORD-LHR, 777-300, Club World, Seat 13b...    Solo Leisure   \n",
            "2805  10/6/15, LHR-GLA, A321, Seat 9A.  Was able to ...    Solo Leisure   \n",
            "2806  28 May 2015, GLA-LHR. A321 (new Seating) Seat ...    Solo Leisure   \n",
            "2807  FRA-LHR on A319, We sat on the plane at the ga...        Business   \n",
            "2811  LHR to YVR return. Hard earned Avios points tr...        Business   \n",
            "2812  Club World from LHR-ORD. Busy flight on the ag...        Business   \n",
            "2813  This review refers to a return trip from India...        Business   \n",
            "2814  This review concerns LHR-BOM in Business Class...        Business   \n",
            "\n",
            "                Class     Start_Location End_Location      Layover_Route  \n",
            "103     Economy Class  London Singapore           NaN                NaN  \n",
            "1031   Business Class          Edinburgh    Florence                 NaN  \n",
            "2359    Economy Class                YVR          LIS  London - Heathrow  \n",
            "2719    Economy Class                MAN         LHR                 NaN  \n",
            "2731    Economy Class                LHR          BOM                NaN  \n",
            "2803    Economy Class                LHR          DEN                NaN  \n",
            "2804   Business Class                ORD          LHR                NaN  \n",
            "2805    Economy Class                LHR          GLA                NaN  \n",
            "2806    Economy Class                GLA          LHR                NaN  \n",
            "2807   Business Class                FRA         LHR                 NaN  \n",
            "2811   Business Class             London    Vancouver                NaN  \n",
            "2812   Business Class                LHR          ORD                NaN  \n",
            "2813  Premium Economy                BOM          LHR                NaN  \n",
            "2814   Business Class                LHR          BOM                NaN  \n"
          ]
        }
      ],
      "source": [
        "# Updating 'Start_Location' and 'End_Location' based on 'Route' where '-' exists\n",
        "df.loc[mask.index, 'Start_Location'] = df.loc[mask.index, 'Route'].str.split('-').str[0]\n",
        "\n",
        "# Removing ' via' and trailing text from 'End_Location'\n",
        "df.loc[mask.index, 'End_Location'] = df.loc[mask.index, 'Route'].str.split('-').str[1].str.replace(r'\\s*via.*$', '', regex=True)\n",
        "\n",
        "# Checking results to confirm changes are correct\n",
        "print(df.loc[mask.index])"
      ]
    },
    {
      "cell_type": "code",
      "execution_count": null,
      "id": "628f4715",
      "metadata": {
        "execution": {
          "iopub.execute_input": "2024-01-02T13:03:08.952748Z",
          "iopub.status.busy": "2024-01-02T13:03:08.952308Z",
          "iopub.status.idle": "2024-01-02T13:03:08.963715Z",
          "shell.execute_reply": "2024-01-02T13:03:08.962499Z"
        },
        "papermill": {
          "duration": 0.051385,
          "end_time": "2024-01-02T13:03:08.966054",
          "exception": false,
          "start_time": "2024-01-02T13:03:08.914669",
          "status": "completed"
        },
        "tags": [],
        "id": "628f4715",
        "outputId": "5a75bd62-a60a-44e5-a303-7fda79604f4d"
      },
      "outputs": [
        {
          "data": {
            "text/plain": [
              "Passanger_Name                                       Janeks Volkovs\n",
              "Flying_Date                                                     NaN\n",
              "Route                                             London Singapore \n",
              "Rating                                                            8\n",
              "Verified                                              Trip Verified\n",
              "Review_title                             nice and professional crew\n",
              "Review_content    Although it was a bit uncomfortable flight in ...\n",
              "Traveller_Type                                         Solo Leisure\n",
              "Class                                                 Economy Class\n",
              "Start_Location                                               London\n",
              "End_Location                                              Singapore\n",
              "Layover_Route                                                   NaN\n",
              "Name: 103, dtype: object"
            ]
          },
          "execution_count": 45,
          "metadata": {},
          "output_type": "execute_result"
        }
      ],
      "source": [
        "# Cleaning an isolated issue in the above output at row 103\n",
        "\n",
        "# Splitting 'Start_Location' and 'End_Location' where a space exist at row 103\n",
        "df.loc[103, 'Start_Location'] = df.loc[103, 'Route'].split(' ')[0]\n",
        "df.loc[103, 'End_Location'] = df.loc[103, 'Route'].split(' ')[1]\n",
        "\n",
        "# Checking to confirm the record has been cleaned\n",
        "df.iloc[103]"
      ]
    },
    {
      "cell_type": "code",
      "execution_count": null,
      "id": "5448cbf3",
      "metadata": {
        "execution": {
          "iopub.execute_input": "2024-01-02T13:03:09.044073Z",
          "iopub.status.busy": "2024-01-02T13:03:09.043661Z",
          "iopub.status.idle": "2024-01-02T13:03:09.057560Z",
          "shell.execute_reply": "2024-01-02T13:03:09.056475Z"
        },
        "papermill": {
          "duration": 0.055907,
          "end_time": "2024-01-02T13:03:09.060104",
          "exception": false,
          "start_time": "2024-01-02T13:03:09.004197",
          "status": "completed"
        },
        "tags": [],
        "id": "5448cbf3",
        "outputId": "18db21b1-3ed8-49ec-c088-475429c8a95d"
      },
      "outputs": [
        {
          "data": {
            "text/html": [
              "<div>\n",
              "<style scoped>\n",
              "    .dataframe tbody tr th:only-of-type {\n",
              "        vertical-align: middle;\n",
              "    }\n",
              "\n",
              "    .dataframe tbody tr th {\n",
              "        vertical-align: top;\n",
              "    }\n",
              "\n",
              "    .dataframe thead th {\n",
              "        text-align: right;\n",
              "    }\n",
              "</style>\n",
              "<table border=\"1\" class=\"dataframe\">\n",
              "  <thead>\n",
              "    <tr style=\"text-align: right;\">\n",
              "      <th></th>\n",
              "      <th>Route</th>\n",
              "      <th>Start_Location</th>\n",
              "      <th>End_Location</th>\n",
              "      <th>Layover_Route</th>\n",
              "    </tr>\n",
              "  </thead>\n",
              "  <tbody>\n",
              "  </tbody>\n",
              "</table>\n",
              "</div>"
            ],
            "text/plain": [
              "Empty DataFrame\n",
              "Columns: [Route, Start_Location, End_Location, Layover_Route]\n",
              "Index: []"
            ]
          },
          "execution_count": 46,
          "metadata": {},
          "output_type": "execute_result"
        }
      ],
      "source": [
        "# Applying a mask to check if any null 'End_Location's remain where 'Start_Location' is not null\n",
        "mask = df[df['End_Location'].isnull() & df['Start_Location'].notnull()]\n",
        "\n",
        "# Viewing the output for only specific columns\n",
        "mask[['Route', 'Start_Location', 'End_Location', 'Layover_Route']]"
      ]
    },
    {
      "cell_type": "code",
      "execution_count": null,
      "id": "be69cb82",
      "metadata": {
        "execution": {
          "iopub.execute_input": "2024-01-02T13:03:09.135763Z",
          "iopub.status.busy": "2024-01-02T13:03:09.135344Z",
          "iopub.status.idle": "2024-01-02T13:03:09.151864Z",
          "shell.execute_reply": "2024-01-02T13:03:09.150904Z"
        },
        "papermill": {
          "duration": 0.057472,
          "end_time": "2024-01-02T13:03:09.154301",
          "exception": false,
          "start_time": "2024-01-02T13:03:09.096829",
          "status": "completed"
        },
        "tags": [],
        "id": "be69cb82",
        "outputId": "abd408f3-dc00-474e-8412-0e7019517edd"
      },
      "outputs": [
        {
          "data": {
            "text/html": [
              "<div>\n",
              "<style scoped>\n",
              "    .dataframe tbody tr th:only-of-type {\n",
              "        vertical-align: middle;\n",
              "    }\n",
              "\n",
              "    .dataframe tbody tr th {\n",
              "        vertical-align: top;\n",
              "    }\n",
              "\n",
              "    .dataframe thead th {\n",
              "        text-align: right;\n",
              "    }\n",
              "</style>\n",
              "<table border=\"1\" class=\"dataframe\">\n",
              "  <thead>\n",
              "    <tr style=\"text-align: right;\">\n",
              "      <th></th>\n",
              "      <th>Route</th>\n",
              "      <th>Start_Location</th>\n",
              "      <th>End_Location</th>\n",
              "      <th>Layover_Route</th>\n",
              "    </tr>\n",
              "  </thead>\n",
              "  <tbody>\n",
              "    <tr>\n",
              "      <th>0</th>\n",
              "      <td>New Orleans to London</td>\n",
              "      <td>New Orleans</td>\n",
              "      <td>London</td>\n",
              "      <td>NaN</td>\n",
              "    </tr>\n",
              "    <tr>\n",
              "      <th>1</th>\n",
              "      <td>London to Amman</td>\n",
              "      <td>London</td>\n",
              "      <td>Amman</td>\n",
              "      <td>NaN</td>\n",
              "    </tr>\n",
              "    <tr>\n",
              "      <th>2</th>\n",
              "      <td>Heathrow to Bodrum</td>\n",
              "      <td>Heathrow</td>\n",
              "      <td>Bodrum</td>\n",
              "      <td>NaN</td>\n",
              "    </tr>\n",
              "    <tr>\n",
              "      <th>3</th>\n",
              "      <td>Amman to London</td>\n",
              "      <td>Amman</td>\n",
              "      <td>London</td>\n",
              "      <td>NaN</td>\n",
              "    </tr>\n",
              "    <tr>\n",
              "      <th>4</th>\n",
              "      <td>London City to Ibiza</td>\n",
              "      <td>London City</td>\n",
              "      <td>Ibiza</td>\n",
              "      <td>NaN</td>\n",
              "    </tr>\n",
              "    <tr>\n",
              "      <th>...</th>\n",
              "      <td>...</td>\n",
              "      <td>...</td>\n",
              "      <td>...</td>\n",
              "      <td>...</td>\n",
              "    </tr>\n",
              "    <tr>\n",
              "      <th>3575</th>\n",
              "      <td>NaN</td>\n",
              "      <td>NaN</td>\n",
              "      <td>NaN</td>\n",
              "      <td>NaN</td>\n",
              "    </tr>\n",
              "    <tr>\n",
              "      <th>3576</th>\n",
              "      <td>NaN</td>\n",
              "      <td>NaN</td>\n",
              "      <td>NaN</td>\n",
              "      <td>NaN</td>\n",
              "    </tr>\n",
              "    <tr>\n",
              "      <th>3577</th>\n",
              "      <td>NaN</td>\n",
              "      <td>NaN</td>\n",
              "      <td>NaN</td>\n",
              "      <td>NaN</td>\n",
              "    </tr>\n",
              "    <tr>\n",
              "      <th>3578</th>\n",
              "      <td>NaN</td>\n",
              "      <td>NaN</td>\n",
              "      <td>NaN</td>\n",
              "      <td>NaN</td>\n",
              "    </tr>\n",
              "    <tr>\n",
              "      <th>3579</th>\n",
              "      <td>NaN</td>\n",
              "      <td>NaN</td>\n",
              "      <td>NaN</td>\n",
              "      <td>NaN</td>\n",
              "    </tr>\n",
              "  </tbody>\n",
              "</table>\n",
              "<p>3575 rows × 4 columns</p>\n",
              "</div>"
            ],
            "text/plain": [
              "                      Route Start_Location End_Location Layover_Route\n",
              "0     New Orleans to London    New Orleans       London           NaN\n",
              "1           London to Amman         London        Amman           NaN\n",
              "2        Heathrow to Bodrum       Heathrow       Bodrum           NaN\n",
              "3           Amman to London          Amman       London           NaN\n",
              "4      London City to Ibiza    London City        Ibiza           NaN\n",
              "...                     ...            ...          ...           ...\n",
              "3575                    NaN            NaN          NaN           NaN\n",
              "3576                    NaN            NaN          NaN           NaN\n",
              "3577                    NaN            NaN          NaN           NaN\n",
              "3578                    NaN            NaN          NaN           NaN\n",
              "3579                    NaN            NaN          NaN           NaN\n",
              "\n",
              "[3575 rows x 4 columns]"
            ]
          },
          "execution_count": 47,
          "metadata": {},
          "output_type": "execute_result"
        }
      ],
      "source": [
        "df[['Route', 'Start_Location', 'End_Location', 'Layover_Route']]"
      ]
    },
    {
      "cell_type": "code",
      "execution_count": null,
      "id": "6e9d685b",
      "metadata": {
        "execution": {
          "iopub.execute_input": "2024-01-02T13:03:09.229751Z",
          "iopub.status.busy": "2024-01-02T13:03:09.229329Z",
          "iopub.status.idle": "2024-01-02T13:03:09.241604Z",
          "shell.execute_reply": "2024-01-02T13:03:09.240477Z"
        },
        "papermill": {
          "duration": 0.052642,
          "end_time": "2024-01-02T13:03:09.243870",
          "exception": false,
          "start_time": "2024-01-02T13:03:09.191228",
          "status": "completed"
        },
        "tags": [],
        "id": "6e9d685b",
        "outputId": "f55f81a8-2c87-4276-a8ed-91a3ca7a6fc6"
      },
      "outputs": [
        {
          "data": {
            "text/plain": [
              "Passanger_Name                                            M Johnson\n",
              "Flying_Date                                              March 2023\n",
              "Route                      Sydney via Singapore to London Heathrow \n",
              "Rating                                                            4\n",
              "Verified                                              Trip Verified\n",
              "Review_title                          All in all very disappointing\n",
              "Review_content    My husband and I booked seats within our premi...\n",
              "Traveller_Type                                       Couple Leisure\n",
              "Class                                               Premium Economy\n",
              "Start_Location                                            Singapore\n",
              "End_Location                                                 Sydney\n",
              "Layover_Route                                      London Heathrow \n",
              "Name: 18, dtype: object"
            ]
          },
          "execution_count": 48,
          "metadata": {},
          "output_type": "execute_result"
        }
      ],
      "source": [
        "# Addressing an isolated formatting issue with the 'Route' identified in row 18\n",
        "\n",
        "# Updating 'Start_Location', 'End_Location', and 'Layover_Route'\n",
        "df.loc[18, 'Start_Location'] = df.loc[18, 'Start_Location'].split(' via ')[1]\n",
        "df.loc[18, 'End_Location'] = df.loc[18, 'Route'].split(' ')[0]\n",
        "df.loc[18, 'Layover_Route'] = df.loc[18, 'Route'].split(' to ')[1]\n",
        "\n",
        "# Checking to confirm the record has been cleaned\n",
        "df.iloc[18]"
      ]
    },
    {
      "cell_type": "code",
      "execution_count": null,
      "id": "70180bbc",
      "metadata": {
        "execution": {
          "iopub.execute_input": "2024-01-02T13:03:09.319804Z",
          "iopub.status.busy": "2024-01-02T13:03:09.319423Z",
          "iopub.status.idle": "2024-01-02T13:03:10.364196Z",
          "shell.execute_reply": "2024-01-02T13:03:10.363159Z"
        },
        "papermill": {
          "duration": 1.086801,
          "end_time": "2024-01-02T13:03:10.367263",
          "exception": false,
          "start_time": "2024-01-02T13:03:09.280462",
          "status": "completed"
        },
        "tags": [],
        "id": "70180bbc"
      },
      "outputs": [],
      "source": [
        "# Rerunning the location updates to update any remaining airport codes cleaned after the initial run\n",
        "df['Start_Location'] = df['Start_Location'].replace(mapping_dict)\n",
        "df['End_Location'] = df['End_Location'].replace(mapping_dict)\n",
        "df['Layover_Route'] = df['Layover_Route'].replace(mapping_dict)"
      ]
    },
    {
      "cell_type": "code",
      "execution_count": null,
      "id": "204dcede",
      "metadata": {
        "execution": {
          "iopub.execute_input": "2024-01-02T13:03:10.445693Z",
          "iopub.status.busy": "2024-01-02T13:03:10.444361Z",
          "iopub.status.idle": "2024-01-02T13:03:10.462134Z",
          "shell.execute_reply": "2024-01-02T13:03:10.461173Z"
        },
        "papermill": {
          "duration": 0.058567,
          "end_time": "2024-01-02T13:03:10.464510",
          "exception": false,
          "start_time": "2024-01-02T13:03:10.405943",
          "status": "completed"
        },
        "tags": [],
        "id": "204dcede",
        "outputId": "3ded1a35-ebc6-4d05-ecb6-493a723ccec2"
      },
      "outputs": [
        {
          "data": {
            "text/html": [
              "<div>\n",
              "<style scoped>\n",
              "    .dataframe tbody tr th:only-of-type {\n",
              "        vertical-align: middle;\n",
              "    }\n",
              "\n",
              "    .dataframe tbody tr th {\n",
              "        vertical-align: top;\n",
              "    }\n",
              "\n",
              "    .dataframe thead th {\n",
              "        text-align: right;\n",
              "    }\n",
              "</style>\n",
              "<table border=\"1\" class=\"dataframe\">\n",
              "  <thead>\n",
              "    <tr style=\"text-align: right;\">\n",
              "      <th></th>\n",
              "      <th>Route</th>\n",
              "      <th>Start_Location</th>\n",
              "      <th>End_Location</th>\n",
              "      <th>Layover_Route</th>\n",
              "    </tr>\n",
              "  </thead>\n",
              "  <tbody>\n",
              "    <tr>\n",
              "      <th>0</th>\n",
              "      <td>New Orleans to London</td>\n",
              "      <td>New Orleans</td>\n",
              "      <td>London</td>\n",
              "      <td>NaN</td>\n",
              "    </tr>\n",
              "    <tr>\n",
              "      <th>1</th>\n",
              "      <td>London to Amman</td>\n",
              "      <td>London</td>\n",
              "      <td>Amman</td>\n",
              "      <td>NaN</td>\n",
              "    </tr>\n",
              "    <tr>\n",
              "      <th>2</th>\n",
              "      <td>Heathrow to Bodrum</td>\n",
              "      <td>Heathrow</td>\n",
              "      <td>Bodrum</td>\n",
              "      <td>NaN</td>\n",
              "    </tr>\n",
              "    <tr>\n",
              "      <th>3</th>\n",
              "      <td>Amman to London</td>\n",
              "      <td>Amman</td>\n",
              "      <td>London</td>\n",
              "      <td>NaN</td>\n",
              "    </tr>\n",
              "    <tr>\n",
              "      <th>4</th>\n",
              "      <td>London City to Ibiza</td>\n",
              "      <td>London City</td>\n",
              "      <td>Ibiza</td>\n",
              "      <td>NaN</td>\n",
              "    </tr>\n",
              "    <tr>\n",
              "      <th>...</th>\n",
              "      <td>...</td>\n",
              "      <td>...</td>\n",
              "      <td>...</td>\n",
              "      <td>...</td>\n",
              "    </tr>\n",
              "    <tr>\n",
              "      <th>3575</th>\n",
              "      <td>NaN</td>\n",
              "      <td>NaN</td>\n",
              "      <td>NaN</td>\n",
              "      <td>NaN</td>\n",
              "    </tr>\n",
              "    <tr>\n",
              "      <th>3576</th>\n",
              "      <td>NaN</td>\n",
              "      <td>NaN</td>\n",
              "      <td>NaN</td>\n",
              "      <td>NaN</td>\n",
              "    </tr>\n",
              "    <tr>\n",
              "      <th>3577</th>\n",
              "      <td>NaN</td>\n",
              "      <td>NaN</td>\n",
              "      <td>NaN</td>\n",
              "      <td>NaN</td>\n",
              "    </tr>\n",
              "    <tr>\n",
              "      <th>3578</th>\n",
              "      <td>NaN</td>\n",
              "      <td>NaN</td>\n",
              "      <td>NaN</td>\n",
              "      <td>NaN</td>\n",
              "    </tr>\n",
              "    <tr>\n",
              "      <th>3579</th>\n",
              "      <td>NaN</td>\n",
              "      <td>NaN</td>\n",
              "      <td>NaN</td>\n",
              "      <td>NaN</td>\n",
              "    </tr>\n",
              "  </tbody>\n",
              "</table>\n",
              "<p>3575 rows × 4 columns</p>\n",
              "</div>"
            ],
            "text/plain": [
              "                      Route Start_Location End_Location Layover_Route\n",
              "0     New Orleans to London    New Orleans       London           NaN\n",
              "1           London to Amman         London        Amman           NaN\n",
              "2        Heathrow to Bodrum       Heathrow       Bodrum           NaN\n",
              "3           Amman to London          Amman       London           NaN\n",
              "4      London City to Ibiza    London City        Ibiza           NaN\n",
              "...                     ...            ...          ...           ...\n",
              "3575                    NaN            NaN          NaN           NaN\n",
              "3576                    NaN            NaN          NaN           NaN\n",
              "3577                    NaN            NaN          NaN           NaN\n",
              "3578                    NaN            NaN          NaN           NaN\n",
              "3579                    NaN            NaN          NaN           NaN\n",
              "\n",
              "[3575 rows x 4 columns]"
            ]
          },
          "execution_count": 50,
          "metadata": {},
          "output_type": "execute_result"
        }
      ],
      "source": [
        "df[['Route', 'Start_Location', 'End_Location', 'Layover_Route']]"
      ]
    },
    {
      "cell_type": "code",
      "execution_count": null,
      "id": "03dc734a",
      "metadata": {
        "execution": {
          "iopub.execute_input": "2024-01-02T13:03:10.543576Z",
          "iopub.status.busy": "2024-01-02T13:03:10.542808Z",
          "iopub.status.idle": "2024-01-02T13:03:10.552286Z",
          "shell.execute_reply": "2024-01-02T13:03:10.551459Z"
        },
        "papermill": {
          "duration": 0.050848,
          "end_time": "2024-01-02T13:03:10.554627",
          "exception": false,
          "start_time": "2024-01-02T13:03:10.503779",
          "status": "completed"
        },
        "tags": [],
        "id": "03dc734a",
        "outputId": "8f808d5f-1453-4f56-a400-22f8c0c56c3d"
      },
      "outputs": [
        {
          "data": {
            "text/plain": [
              "Start_Location\n",
              "London                                                 498\n",
              "London - Heathrow                                      326\n",
              "London Heathrow                                        194\n",
              "Gatwick                                                100\n",
              "London - Gatwick                                        73\n",
              "                                                      ... \n",
              "Paphos                                                   1\n",
              "Seville                                                  1\n",
              "Houston, TX - George Bush Intercontinental Airport       1\n",
              "Fuerteventura                                            1\n",
              "Bombay (Mumbai) - Chhatrapati Shivaji International      1\n",
              "Name: count, Length: 340, dtype: int64"
            ]
          },
          "execution_count": 51,
          "metadata": {},
          "output_type": "execute_result"
        }
      ],
      "source": [
        "df['Start_Location'].value_counts()"
      ]
    },
    {
      "cell_type": "code",
      "execution_count": null,
      "id": "e63bcca6",
      "metadata": {
        "execution": {
          "iopub.execute_input": "2024-01-02T13:03:10.633378Z",
          "iopub.status.busy": "2024-01-02T13:03:10.632715Z",
          "iopub.status.idle": "2024-01-02T13:03:10.660707Z",
          "shell.execute_reply": "2024-01-02T13:03:10.659869Z"
        },
        "papermill": {
          "duration": 0.069669,
          "end_time": "2024-01-02T13:03:10.662960",
          "exception": false,
          "start_time": "2024-01-02T13:03:10.593291",
          "status": "completed"
        },
        "tags": [],
        "id": "e63bcca6",
        "outputId": "bce55749-1bdf-4e85-acbd-a8b07470b298"
      },
      "outputs": [
        {
          "data": {
            "text/plain": [
              "Start_Location\n",
              "London Heathrow                                        583\n",
              "London                                                 498\n",
              "London Gatwick                                         205\n",
              "Glasgow                                                 30\n",
              "Manchester                                              29\n",
              "                                                      ... \n",
              "Brindisi                                                 1\n",
              "Paphos                                                   1\n",
              "Seville                                                  1\n",
              "Delhi                                                    1\n",
              "Bombay (Mumbai) - Chhatrapati Shivaji International      1\n",
              "Name: count, Length: 332, dtype: int64"
            ]
          },
          "execution_count": 52,
          "metadata": {},
          "output_type": "execute_result"
        }
      ],
      "source": [
        "# Updating values containing London airports 'Heathrow' or 'Gatwick' to a consistent format\n",
        "df.loc[df['Start_Location'].str.contains('Heathrow', case=False, na=False), 'Start_Location'] = 'London Heathrow'\n",
        "df.loc[df['Start_Location'].str.contains('Gatwick', case=False, na=False), 'Start_Location'] = 'London Gatwick'\n",
        "\n",
        "\n",
        "df.loc[df['End_Location'].str.contains('Heathrow', case=False, na=False), 'End_Location'] = 'London Heathrow'\n",
        "df.loc[df['End_Location'].str.contains('Gatwick', case=False, na=False), 'End_Location'] = 'London Gatwick'\n",
        "\n",
        "# Rechecking the 'Start_Location' value counts\n",
        "df['Start_Location'].value_counts()"
      ]
    },
    {
      "cell_type": "code",
      "execution_count": null,
      "id": "5dcc2f92",
      "metadata": {
        "execution": {
          "iopub.execute_input": "2024-01-02T13:03:10.741870Z",
          "iopub.status.busy": "2024-01-02T13:03:10.741218Z",
          "iopub.status.idle": "2024-01-02T13:03:10.751642Z",
          "shell.execute_reply": "2024-01-02T13:03:10.750322Z"
        },
        "papermill": {
          "duration": 0.053019,
          "end_time": "2024-01-02T13:03:10.754304",
          "exception": false,
          "start_time": "2024-01-02T13:03:10.701285",
          "status": "completed"
        },
        "tags": [],
        "id": "5dcc2f92",
        "outputId": "5c923b1c-3761-48d9-a747-27d5b050d937"
      },
      "outputs": [
        {
          "data": {
            "text/plain": [
              "End_Location\n",
              "London Heathrow       437\n",
              "London                394\n",
              "London Gatwick        145\n",
              "Cape Town              30\n",
              "Johannesburg           25\n",
              "                     ... \n",
              "Casablanca              1\n",
              "Fort Lauderdale         1\n",
              "Helsinki                1\n",
              "Delhi Airport           1\n",
              "Sofia - Vrazhdebna      1\n",
              "Name: count, Length: 411, dtype: int64"
            ]
          },
          "execution_count": 53,
          "metadata": {},
          "output_type": "execute_result"
        }
      ],
      "source": [
        "# Checking value counts for 'End_Location'\n",
        "df['End_Location'].value_counts()"
      ]
    },
    {
      "cell_type": "code",
      "execution_count": null,
      "id": "c06f5593",
      "metadata": {
        "execution": {
          "iopub.execute_input": "2024-01-02T13:03:10.833212Z",
          "iopub.status.busy": "2024-01-02T13:03:10.832817Z",
          "iopub.status.idle": "2024-01-02T13:03:10.842886Z",
          "shell.execute_reply": "2024-01-02T13:03:10.841772Z"
        },
        "papermill": {
          "duration": 0.051665,
          "end_time": "2024-01-02T13:03:10.845661",
          "exception": false,
          "start_time": "2024-01-02T13:03:10.793996",
          "status": "completed"
        },
        "tags": [],
        "id": "c06f5593",
        "outputId": "d5f2f386-5c5e-4431-d9e3-16ea0c5133cb"
      },
      "outputs": [
        {
          "data": {
            "text/plain": [
              "Layover_Route\n",
              "London                                           197\n",
              "London - Heathrow                                151\n",
              "Heathrow                                          31\n",
              "London Heathrow                                   21\n",
              "Singapore                                         17\n",
              "Singapore - Changi                                 9\n",
              "Gatwick                                            6\n",
              "London                                             5\n",
              "Bahrain - Bahrain International Airport            3\n",
              "London - Gatwick                                   2\n",
              "London Heathrow                                    2\n",
              "Johannesburg - OR Tambo International Airport      2\n",
              "Miami                                              1\n",
              "BAH / LHR                                          1\n",
              "Shannon                                            1\n",
              "Bangkok, Suvarnabhumi International                1\n",
              "London - City Airport                              1\n",
              "Sydney - Sydney Airport                            1\n",
              "Philadelphia (PA) - International                  1\n",
              "Chicago (IL), O'Hare International Airport         1\n",
              "Kuala Lumpur - International Airport               1\n",
              "LGW / LHR                                          1\n",
              "Helsinki - Vantaa                                  1\n",
              "Madrid - Barajas Airport                           1\n",
              "Miami (FL)                                         1\n",
              "Madrid                                             1\n",
              "Antigua                                            1\n",
              "Shannon (Limerick)                                 1\n",
              "Edinburgh - Edinburgh Airport                      1\n",
              "london                                             1\n",
              "LAD & ABV                                          1\n",
              "London / Johannesburg                              1\n",
              "London,                                            1\n",
              "Doha                                               1\n",
              "Los Angeles                                        1\n",
              "Toronto / London                                   1\n",
              "Chicago / London                                   1\n",
              "Dublin                                             1\n",
              "London / Seattle                                   1\n",
              "Miami / Madrid                                     1\n",
              "Chicago                                            1\n",
              "London / Singapore                                 1\n",
              "Copenhagen                                         1\n",
              "Singapore / London                                 1\n",
              "Barcelona                                          1\n",
              "Johannesburg / Heathrow                            1\n",
              "Geneva                                             1\n",
              "Heathrow/Gatwick                                   1\n",
              "St. Lucia                                          1\n",
              "Nassau                                             1\n",
              "Name: count, dtype: int64"
            ]
          },
          "execution_count": 54,
          "metadata": {},
          "output_type": "execute_result"
        }
      ],
      "source": [
        "# Checking value counts for 'Layover_Route'\n",
        "df['Layover_Route'].value_counts()"
      ]
    },
    {
      "cell_type": "markdown",
      "id": "28265a3a",
      "metadata": {
        "papermill": {
          "duration": 0.039957,
          "end_time": "2024-01-02T13:03:10.923351",
          "exception": false,
          "start_time": "2024-01-02T13:03:10.883394",
          "status": "completed"
        },
        "tags": [],
        "id": "28265a3a"
      },
      "source": [
        "#### Geocoding Locations\n",
        "\n",
        "With most formatting now complete on 'Start_Location', 'End_Location', and 'Layover_Route' I decided I was at a point where I was satisfied with the formatting of the route information. To further enhance the usability of this data, I created new columns to include geocoding data for the 'Start_Location' and 'End_Location'. Since I do not have experience with geocoding and I do not possess a Google API key, I chose to utilize ChatGPT for assistance creating the script below for importing geocodes into the dataframe.\n",
        "\n",
        "The benefit of including geocode data in the dataset is it allowed me to create an interactable Tableau chart showing travel routes and customer sentiment based on location."
      ]
    },
    {
      "cell_type": "code",
      "execution_count": null,
      "id": "f5cf6b3f",
      "metadata": {
        "execution": {
          "iopub.execute_input": "2024-01-02T13:03:11.002905Z",
          "iopub.status.busy": "2024-01-02T13:03:11.002509Z",
          "iopub.status.idle": "2024-01-02T13:09:35.012451Z",
          "shell.execute_reply": "2024-01-02T13:09:35.011558Z"
        },
        "papermill": {
          "duration": 384.053676,
          "end_time": "2024-01-02T13:09:35.014984",
          "exception": false,
          "start_time": "2024-01-02T13:03:10.961308",
          "status": "completed"
        },
        "tags": [],
        "id": "f5cf6b3f",
        "outputId": "a8fcd3bf-ae94-4d8e-aa97-8480d20c67b8"
      },
      "outputs": [
        {
          "name": "stdout",
          "output_type": "stream",
          "text": [
            "Geocode information not found for Hong Kong - International Airport (HKIA)\n",
            "Geocode information not found for Edimbourgh\n",
            "Geocode information not found for Zakinthos\n",
            "Geocode information not found for Washington DC - Dulles International\n",
            "Geocode information not found for San Francisco - International Airport, SA\n",
            "Geocode information not found for Frankfurt/Main - Frankfurt Airport (Rhein-Main-Flughafen)\n",
            "Geocode information not found for Washington DC - Baltimore Washington International\n",
            "Geocode information not found for San Diego - Lindberg Field International (CA)\n",
            "Geocode information not found for Fort Worth (TX) - Dallas/Fort Worth International Airport\n",
            "Geocode information not found for Madras (Chennai) - Chennai International Airport\n",
            "Geocode information not found for Mauritius - S.Seewoosagur Ram International\n",
            "Geocode information not found for Boston (MA) - General Edward Lawrence Logan\n",
            "Geocode information not found for Prague - Václav Havel Airport (formerly Ruzyne)\n",
            "Geocode information not found for Geneva - Geneva-Cointrin International Airport\n",
            "Geocode information not found for Bridgetown - Grantley Adams International\n",
            "Geocode information not found for Rome - Fuimicino\n",
            "Geocode information not found for Riyadh - King Khaled International\n",
            "Geocode information not found for LHR - EDI\n",
            "Geocode information not found for Bucharest - Henri Coandă International Airport\n",
            "Geocode information not found for Fuereventura\n",
            "Geocode information not found for London Heaathrow\n",
            "Geocode information not found for londonDoha\n",
            "Geocode information not found for London Cuty\n",
            "Geocode information not found for Zakinthos\n",
            "Geocode information not found for Geneva - Geneva-Cointrin International Airport\n",
            "Geocode information not found for SFO/PHX\n",
            "Geocode information not found for San Francisco - International Airport, SA\n",
            "Geocode information not found for Washington DC - Dulles International\n",
            "Geocode information not found for Hong Kong - International Airport (HKIA)\n",
            "Geocode information not found for Bridgetown - Grantley Adams International\n",
            "Geocode information not found for Fort Worth (TX) - Dallas/Fort Worth International Airport\n",
            "Geocode information not found for Prague - Václav Havel Airport (formerly Ruzyne)\n",
            "Geocode information not found for Rome - Fuimicino\n",
            "Geocode information not found for Lima - J Chavez International\n",
            "Geocode information not found for San Diego - Lindberg Field International (CA)\n",
            "Geocode information not found for Mauritius - S.Seewoosagur Ram International\n",
            "Geocode information not found for Boston (MA) - General Edward Lawrence Logan\n",
            "Geocode information not found for Washington DC - Baltimore Washington International\n",
            "Geocode information not found for Bucharest - Henri Coandă International Airport\n",
            "Geocode information not found for Krakow (Cracow) - John Paul II International Airport\n",
            "Geocode information not found for Seoul - Kimpo\n",
            "Geocode information not found for Madras (Chennai) - Chennai International Airport\n",
            "Geocode information not found for VIE return\n",
            "Geocode information not found for Singapire\n",
            "Geocode information not found for Los Angesles\n",
            "Process Completed\n"
          ]
        }
      ],
      "source": [
        "# Importing Libraries for creating geocode columns\n",
        "import certifi\n",
        "import ssl\n",
        "from geopy.geocoders import Nominatim\n",
        "\n",
        "# Set the CA file in the SSL context\n",
        "ctx = ssl.create_default_context(cafile=certifi.where())\n",
        "\n",
        "# Create a Nominatim geolocator with the custom SSL context\n",
        "geolocator = Nominatim(user_agent=\"geocoder\", ssl_context=ctx)\n",
        "\n",
        "# Your existing code for geocoding Start_Location\n",
        "start_locations = df['Start_Location'].unique()\n",
        "\n",
        "geocode_data_start = {}\n",
        "\n",
        "for location in start_locations:\n",
        "    try:\n",
        "        location_data = geolocator.geocode(location)\n",
        "\n",
        "        if location_data:\n",
        "            geocode_data_start[location] = {\n",
        "                'Latitude': location_data.latitude,\n",
        "                'Longitude': location_data.longitude,\n",
        "                'Address': location_data.address\n",
        "            }\n",
        "        else:\n",
        "            print(f\"Geocode information not found for {location}\")\n",
        "\n",
        "    except Exception as e:\n",
        "        print(f\"Error geocoding {location}: {str(e)}\")\n",
        "\n",
        "# Convert the geocode data to a DataFrame\n",
        "geocode_df_start = pd.DataFrame.from_dict(geocode_data_start, orient='index').reset_index()\n",
        "geocode_df_start.columns = ['Start_Location', 'Start_Latitude', 'Start_Longitude', 'Start_Address']\n",
        "\n",
        "# Merge the original DataFrame with the geocode DataFrame for Start_Location\n",
        "df = pd.merge(df, geocode_df_start, on='Start_Location', how='left')\n",
        "\n",
        "# Now, df contains the geocode data as new columns for Start_Location\n",
        "\n",
        "# Your new code for geocoding End_Location\n",
        "end_locations = df['End_Location'].unique()\n",
        "\n",
        "geocode_data_end = {}\n",
        "\n",
        "for location in end_locations:\n",
        "    try:\n",
        "        location_data = geolocator.geocode(location)\n",
        "\n",
        "        if location_data:\n",
        "            geocode_data_end[location] = {\n",
        "                'End_Latitude': location_data.latitude,\n",
        "                'End_Longitude': location_data.longitude,\n",
        "                'End_Address': location_data.address\n",
        "            }\n",
        "        else:\n",
        "            print(f\"Geocode information not found for {location}\")\n",
        "\n",
        "    except Exception as e:\n",
        "        print(f\"Error geocoding {location}: {str(e)}\")\n",
        "\n",
        "# Convert the geocode data to a DataFrame for End_Location\n",
        "geocode_df_end = pd.DataFrame.from_dict(geocode_data_end, orient='index').reset_index()\n",
        "geocode_df_end.columns = ['End_Location', 'End_Latitude', 'End_Longitude', 'End_Address']\n",
        "\n",
        "# Merge the original DataFrame with the geocode DataFrame for End_Location\n",
        "df = pd.merge(df, geocode_df_end, on='End_Location', how='left')\n",
        "\n",
        "# Now, df contains the geocode data as new columns for both Start_Location and End_Location\n",
        "\n",
        "print('Process Completed')"
      ]
    },
    {
      "cell_type": "code",
      "execution_count": null,
      "id": "247c454d",
      "metadata": {
        "execution": {
          "iopub.execute_input": "2024-01-02T13:09:35.100358Z",
          "iopub.status.busy": "2024-01-02T13:09:35.099930Z",
          "iopub.status.idle": "2024-01-02T13:09:35.121216Z",
          "shell.execute_reply": "2024-01-02T13:09:35.119490Z"
        },
        "papermill": {
          "duration": 0.067083,
          "end_time": "2024-01-02T13:09:35.123969",
          "exception": false,
          "start_time": "2024-01-02T13:09:35.056886",
          "status": "completed"
        },
        "tags": [],
        "id": "247c454d",
        "outputId": "ff00150e-590e-4b0a-e7ce-14ca8da22867"
      },
      "outputs": [
        {
          "name": "stdout",
          "output_type": "stream",
          "text": [
            "<class 'pandas.core.frame.DataFrame'>\n",
            "RangeIndex: 3575 entries, 0 to 3574\n",
            "Data columns (total 18 columns):\n",
            " #   Column           Non-Null Count  Dtype  \n",
            "---  ------           --------------  -----  \n",
            " 0   Passanger_Name   3574 non-null   object \n",
            " 1   Flying_Date      955 non-null    object \n",
            " 2   Route            2809 non-null   object \n",
            " 3   Rating           3575 non-null   int64  \n",
            " 4   Verified         3575 non-null   object \n",
            " 5   Review_title     3575 non-null   object \n",
            " 6   Review_content   3575 non-null   object \n",
            " 7   Traveller_Type   2815 non-null   object \n",
            " 8   Class            3573 non-null   object \n",
            " 9   Start_Location   2809 non-null   object \n",
            " 10  End_Location     2809 non-null   object \n",
            " 11  Layover_Route    484 non-null    object \n",
            " 12  Start_Latitude   3515 non-null   float64\n",
            " 13  Start_Longitude  3515 non-null   float64\n",
            " 14  Start_Address    3515 non-null   object \n",
            " 15  End_Latitude     3476 non-null   float64\n",
            " 16  End_Longitude    3476 non-null   float64\n",
            " 17  End_Address      3476 non-null   object \n",
            "dtypes: float64(4), int64(1), object(13)\n",
            "memory usage: 502.9+ KB\n"
          ]
        }
      ],
      "source": [
        "# Checking how many null values exist since there were some errors in the above output\n",
        "df.info()"
      ]
    },
    {
      "cell_type": "code",
      "execution_count": null,
      "id": "37c71b6e",
      "metadata": {
        "execution": {
          "iopub.execute_input": "2024-01-02T13:09:35.210272Z",
          "iopub.status.busy": "2024-01-02T13:09:35.209464Z",
          "iopub.status.idle": "2024-01-02T13:09:35.214155Z",
          "shell.execute_reply": "2024-01-02T13:09:35.213362Z"
        },
        "papermill": {
          "duration": 0.050981,
          "end_time": "2024-01-02T13:09:35.216553",
          "exception": false,
          "start_time": "2024-01-02T13:09:35.165572",
          "status": "completed"
        },
        "tags": [],
        "id": "37c71b6e"
      },
      "outputs": [],
      "source": [
        "# Data transformation complete"
      ]
    },
    {
      "cell_type": "markdown",
      "id": "21f8dedd",
      "metadata": {
        "papermill": {
          "duration": 0.043114,
          "end_time": "2024-01-02T13:09:35.304789",
          "exception": false,
          "start_time": "2024-01-02T13:09:35.261675",
          "status": "completed"
        },
        "tags": [],
        "id": "21f8dedd"
      },
      "source": [
        "## Data Exploration\n",
        "\n",
        "With all of the data cleaning steps and data validations complete, I began to explore the data to look for trends and insights that could be used to understand the data better. To accomplish this goal, I conducted Sentiment Analysis on review content to understand customer sentiment towards the airline in this data sampling. I used the Vader library to conduct natural language processing and both Matplotlib and Seaborn to help create data visualizations to aid me with my analysis."
      ]
    },
    {
      "cell_type": "code",
      "execution_count": null,
      "id": "635902e2",
      "metadata": {
        "execution": {
          "iopub.execute_input": "2024-01-02T13:09:35.390774Z",
          "iopub.status.busy": "2024-01-02T13:09:35.390391Z",
          "iopub.status.idle": "2024-01-02T13:09:35.395453Z",
          "shell.execute_reply": "2024-01-02T13:09:35.394627Z"
        },
        "papermill": {
          "duration": 0.051321,
          "end_time": "2024-01-02T13:09:35.398342",
          "exception": false,
          "start_time": "2024-01-02T13:09:35.347021",
          "status": "completed"
        },
        "tags": [],
        "id": "635902e2",
        "outputId": "01826835-0fb3-4422-b751-0ea4bcc060b0"
      },
      "outputs": [
        {
          "name": "stdout",
          "output_type": "stream",
          "text": [
            "Had the worst experience. The flight from London to Toronto got delayed and we missed the connecting flight to Halifax. We were four including an infant and a toddler aged 4 years, despite being delayed and missed the connecting flight the ground staff were not at all helpful. We waited for an hour to get them to talk to us and at 12 am they told us they have not booked any hotel for us to stay that night and asked to go search for a hotel on your own, very nice of you British Airways. At least you guys should have given some consideration to the travelers who travel with children and booked some accommodation. We will NOT to travel on this airline again.\n"
          ]
        }
      ],
      "source": [
        "# Assigning a random review to a variable to use for sentiment testing.\n",
        "example = df['Review_content'][50]\n",
        "print(example)"
      ]
    },
    {
      "cell_type": "code",
      "execution_count": null,
      "id": "d265f76b",
      "metadata": {
        "execution": {
          "iopub.execute_input": "2024-01-02T13:09:35.486870Z",
          "iopub.status.busy": "2024-01-02T13:09:35.485811Z",
          "iopub.status.idle": "2024-01-02T13:09:35.517385Z",
          "shell.execute_reply": "2024-01-02T13:09:35.516122Z"
        },
        "papermill": {
          "duration": 0.078696,
          "end_time": "2024-01-02T13:09:35.520106",
          "exception": false,
          "start_time": "2024-01-02T13:09:35.441410",
          "status": "completed"
        },
        "tags": [],
        "colab": {
          "base_uri": "https://localhost:8080/",
          "height": 211
        },
        "id": "d265f76b",
        "outputId": "8bc60cc1-9a00-4d1c-f809-09fd0fd63bbe"
      },
      "outputs": [
        {
          "output_type": "error",
          "ename": "NameError",
          "evalue": "name 'SentimentIntensityAnalyzer' is not defined",
          "traceback": [
            "\u001b[0;31m---------------------------------------------------------------------------\u001b[0m",
            "\u001b[0;31mNameError\u001b[0m                                 Traceback (most recent call last)",
            "\u001b[0;32m<ipython-input-1-e957cd0eb591>\u001b[0m in \u001b[0;36m<cell line: 2>\u001b[0;34m()\u001b[0m\n\u001b[1;32m      1\u001b[0m \u001b[0;31m# Setting a variable to run sentiment analysis using Vader library.\u001b[0m\u001b[0;34m\u001b[0m\u001b[0;34m\u001b[0m\u001b[0m\n\u001b[0;32m----> 2\u001b[0;31m \u001b[0manalyzer\u001b[0m \u001b[0;34m=\u001b[0m \u001b[0mSentimentIntensityAnalyzer\u001b[0m\u001b[0;34m(\u001b[0m\u001b[0;34m)\u001b[0m\u001b[0;34m\u001b[0m\u001b[0;34m\u001b[0m\u001b[0m\n\u001b[0m\u001b[1;32m      3\u001b[0m \u001b[0;34m\u001b[0m\u001b[0m\n\u001b[1;32m      4\u001b[0m \u001b[0;31m# Checking the polarity of the example review.\u001b[0m\u001b[0;34m\u001b[0m\u001b[0;34m\u001b[0m\u001b[0m\n\u001b[1;32m      5\u001b[0m \u001b[0manalyzer\u001b[0m\u001b[0;34m.\u001b[0m\u001b[0mpolarity_scores\u001b[0m\u001b[0;34m(\u001b[0m\u001b[0mexample\u001b[0m\u001b[0;34m)\u001b[0m\u001b[0;34m\u001b[0m\u001b[0;34m\u001b[0m\u001b[0m\n",
            "\u001b[0;31mNameError\u001b[0m: name 'SentimentIntensityAnalyzer' is not defined"
          ]
        }
      ],
      "source": [
        "# Setting a variable to run sentiment analysis using Vader library.\n",
        "analyzer = SentimentIntensityAnalyzer()\n",
        "\n",
        "# Checking the polarity of the example review.\n",
        "analyzer.polarity_scores(example)"
      ]
    },
    {
      "cell_type": "code",
      "execution_count": null,
      "id": "720be24c",
      "metadata": {
        "execution": {
          "iopub.execute_input": "2024-01-02T13:09:35.610507Z",
          "iopub.status.busy": "2024-01-02T13:09:35.610017Z",
          "iopub.status.idle": "2024-01-02T13:09:44.759926Z",
          "shell.execute_reply": "2024-01-02T13:09:44.758729Z"
        },
        "papermill": {
          "duration": 9.198719,
          "end_time": "2024-01-02T13:09:44.762928",
          "exception": false,
          "start_time": "2024-01-02T13:09:35.564209",
          "status": "completed"
        },
        "tags": [],
        "id": "720be24c"
      },
      "outputs": [],
      "source": [
        "# Creating a new column to store the sentiment scores.\n",
        "df['Sentiment_Scores'] = df['Review_content'].apply(lambda row: analyzer.polarity_scores(row)['compound'])\n",
        "\n",
        "# Assigning variables to identify positive, negative, and neutral sentiment scores.\n",
        "positive_comments = df[df['Sentiment_Scores'] > 0.1].shape[0]\n",
        "negative_comments = df[df['Sentiment_Scores'] < -0.1].shape[0]\n",
        "neutral_comments = df[df['Sentiment_Scores'] == 0].shape[0]"
      ]
    },
    {
      "cell_type": "code",
      "execution_count": null,
      "id": "252b5786",
      "metadata": {
        "execution": {
          "iopub.execute_input": "2024-01-02T13:09:44.849403Z",
          "iopub.status.busy": "2024-01-02T13:09:44.848945Z",
          "iopub.status.idle": "2024-01-02T13:09:45.224113Z",
          "shell.execute_reply": "2024-01-02T13:09:45.223068Z"
        },
        "papermill": {
          "duration": 0.421767,
          "end_time": "2024-01-02T13:09:45.226928",
          "exception": false,
          "start_time": "2024-01-02T13:09:44.805161",
          "status": "completed"
        },
        "tags": [],
        "id": "252b5786",
        "outputId": "b7da58fe-168b-44b7-febe-228e58486303"
      },
      "outputs": [
        {
          "data": {
            "image/png": "[encoded data removed]",
            "text/plain": [
              "<Figure size 800x600 with 1 Axes>"
            ]
          },
          "metadata": {},
          "output_type": "display_data"
        }
      ],
      "source": [
        "# Creating a bar chart to compare the total count of positive, negative, and neutral sentiment scores.\n",
        "sns.set(style=\"whitegrid\")\n",
        "plt.figure(figsize=(8, 6))\n",
        "sentiment_counts = pd.DataFrame({'Sentiment': ['Positive', 'Negative', 'Neutral'],\n",
        "                                 'Count': [positive_comments, negative_comments, neutral_comments]})\n",
        "\n",
        "barplot = sns.barplot(x='Sentiment', y='Count', data=sentiment_counts, palette=['green', 'red', 'grey'])\n",
        "barplot.set(xlabel='Sentiment', ylabel='Number of Comments', title='Sentiment Distribution')\n",
        "plt.show()"
      ]
    },
    {
      "cell_type": "code",
      "execution_count": null,
      "id": "26716f63",
      "metadata": {
        "execution": {
          "iopub.execute_input": "2024-01-02T13:09:45.316119Z",
          "iopub.status.busy": "2024-01-02T13:09:45.315716Z",
          "iopub.status.idle": "2024-01-02T13:09:45.347905Z",
          "shell.execute_reply": "2024-01-02T13:09:45.346991Z"
        },
        "papermill": {
          "duration": 0.080826,
          "end_time": "2024-01-02T13:09:45.350373",
          "exception": false,
          "start_time": "2024-01-02T13:09:45.269547",
          "status": "completed"
        },
        "tags": [],
        "id": "26716f63",
        "outputId": "3a243896-f748-456d-e6f6-885cc33c26a5"
      },
      "outputs": [
        {
          "data": {
            "text/html": [
              "<div>\n",
              "<style scoped>\n",
              "    .dataframe tbody tr th:only-of-type {\n",
              "        vertical-align: middle;\n",
              "    }\n",
              "\n",
              "    .dataframe tbody tr th {\n",
              "        vertical-align: top;\n",
              "    }\n",
              "\n",
              "    .dataframe thead th {\n",
              "        text-align: right;\n",
              "    }\n",
              "</style>\n",
              "<table border=\"1\" class=\"dataframe\">\n",
              "  <thead>\n",
              "    <tr style=\"text-align: right;\">\n",
              "      <th></th>\n",
              "      <th>Rating</th>\n",
              "      <th>Start_Latitude</th>\n",
              "      <th>Start_Longitude</th>\n",
              "      <th>End_Latitude</th>\n",
              "      <th>End_Longitude</th>\n",
              "      <th>Sentiment_Scores</th>\n",
              "    </tr>\n",
              "  </thead>\n",
              "  <tbody>\n",
              "    <tr>\n",
              "      <th>count</th>\n",
              "      <td>3575.000000</td>\n",
              "      <td>3515.000000</td>\n",
              "      <td>3515.000000</td>\n",
              "      <td>3476.000000</td>\n",
              "      <td>3476.000000</td>\n",
              "      <td>3575.000000</td>\n",
              "    </tr>\n",
              "    <tr>\n",
              "      <th>mean</th>\n",
              "      <td>4.790490</td>\n",
              "      <td>42.639473</td>\n",
              "      <td>-2.164986</td>\n",
              "      <td>40.550399</td>\n",
              "      <td>-1.118816</td>\n",
              "      <td>0.187389</td>\n",
              "    </tr>\n",
              "    <tr>\n",
              "      <th>std</th>\n",
              "      <td>3.170323</td>\n",
              "      <td>17.022014</td>\n",
              "      <td>44.576587</td>\n",
              "      <td>18.723619</td>\n",
              "      <td>46.045735</td>\n",
              "      <td>0.772714</td>\n",
              "    </tr>\n",
              "    <tr>\n",
              "      <th>min</th>\n",
              "      <td>1.000000</td>\n",
              "      <td>-37.666951</td>\n",
              "      <td>-123.182909</td>\n",
              "      <td>-37.814245</td>\n",
              "      <td>-123.179234</td>\n",
              "      <td>-0.997400</td>\n",
              "    </tr>\n",
              "    <tr>\n",
              "      <th>25%</th>\n",
              "      <td>2.000000</td>\n",
              "      <td>41.893320</td>\n",
              "      <td>-0.458780</td>\n",
              "      <td>39.739236</td>\n",
              "      <td>-0.458780</td>\n",
              "      <td>-0.706400</td>\n",
              "    </tr>\n",
              "    <tr>\n",
              "      <th>50%</th>\n",
              "      <td>4.000000</td>\n",
              "      <td>46.314475</td>\n",
              "      <td>-0.127765</td>\n",
              "      <td>46.314475</td>\n",
              "      <td>-0.127765</td>\n",
              "      <td>0.526200</td>\n",
              "    </tr>\n",
              "    <tr>\n",
              "      <th>75%</th>\n",
              "      <td>8.000000</td>\n",
              "      <td>51.467739</td>\n",
              "      <td>11.048029</td>\n",
              "      <td>51.467739</td>\n",
              "      <td>11.048029</td>\n",
              "      <td>0.930750</td>\n",
              "    </tr>\n",
              "    <tr>\n",
              "      <th>max</th>\n",
              "      <td>10.000000</td>\n",
              "      <td>65.011873</td>\n",
              "      <td>151.208285</td>\n",
              "      <td>64.145981</td>\n",
              "      <td>174.550610</td>\n",
              "      <td>0.999200</td>\n",
              "    </tr>\n",
              "  </tbody>\n",
              "</table>\n",
              "</div>"
            ],
            "text/plain": [
              "            Rating  Start_Latitude  Start_Longitude  End_Latitude  \\\n",
              "count  3575.000000     3515.000000      3515.000000   3476.000000   \n",
              "mean      4.790490       42.639473        -2.164986     40.550399   \n",
              "std       3.170323       17.022014        44.576587     18.723619   \n",
              "min       1.000000      -37.666951      -123.182909    -37.814245   \n",
              "25%       2.000000       41.893320        -0.458780     39.739236   \n",
              "50%       4.000000       46.314475        -0.127765     46.314475   \n",
              "75%       8.000000       51.467739        11.048029     51.467739   \n",
              "max      10.000000       65.011873       151.208285     64.145981   \n",
              "\n",
              "       End_Longitude  Sentiment_Scores  \n",
              "count    3476.000000       3575.000000  \n",
              "mean       -1.118816          0.187389  \n",
              "std        46.045735          0.772714  \n",
              "min      -123.179234         -0.997400  \n",
              "25%        -0.458780         -0.706400  \n",
              "50%        -0.127765          0.526200  \n",
              "75%        11.048029          0.930750  \n",
              "max       174.550610          0.999200  "
            ]
          },
          "execution_count": 62,
          "metadata": {},
          "output_type": "execute_result"
        }
      ],
      "source": [
        "# Checking summary statistics\n",
        "df.describe()"
      ]
    },
    {
      "cell_type": "code",
      "execution_count": null,
      "id": "242ced19",
      "metadata": {
        "execution": {
          "iopub.execute_input": "2024-01-02T13:09:45.440946Z",
          "iopub.status.busy": "2024-01-02T13:09:45.440282Z",
          "iopub.status.idle": "2024-01-02T13:09:45.472439Z",
          "shell.execute_reply": "2024-01-02T13:09:45.471215Z"
        },
        "papermill": {
          "duration": 0.079449,
          "end_time": "2024-01-02T13:09:45.475060",
          "exception": false,
          "start_time": "2024-01-02T13:09:45.395611",
          "status": "completed"
        },
        "tags": [],
        "id": "242ced19",
        "outputId": "5ed4a7b9-4016-4493-a6d1-6c4f8ab4a627"
      },
      "outputs": [
        {
          "data": {
            "text/html": [
              "<div>\n",
              "<style scoped>\n",
              "    .dataframe tbody tr th:only-of-type {\n",
              "        vertical-align: middle;\n",
              "    }\n",
              "\n",
              "    .dataframe tbody tr th {\n",
              "        vertical-align: top;\n",
              "    }\n",
              "\n",
              "    .dataframe thead th {\n",
              "        text-align: right;\n",
              "    }\n",
              "</style>\n",
              "<table border=\"1\" class=\"dataframe\">\n",
              "  <thead>\n",
              "    <tr style=\"text-align: right;\">\n",
              "      <th></th>\n",
              "      <th>Rating</th>\n",
              "      <th>Start_Latitude</th>\n",
              "      <th>Start_Longitude</th>\n",
              "      <th>End_Latitude</th>\n",
              "      <th>End_Longitude</th>\n",
              "      <th>Sentiment_Scores</th>\n",
              "    </tr>\n",
              "  </thead>\n",
              "  <tbody>\n",
              "    <tr>\n",
              "      <th>count</th>\n",
              "      <td>1067.000000</td>\n",
              "      <td>1065.000000</td>\n",
              "      <td>1065.000000</td>\n",
              "      <td>1064.000000</td>\n",
              "      <td>1064.000000</td>\n",
              "      <td>1067.000000</td>\n",
              "    </tr>\n",
              "    <tr>\n",
              "      <th>mean</th>\n",
              "      <td>4.354264</td>\n",
              "      <td>40.485296</td>\n",
              "      <td>-8.693791</td>\n",
              "      <td>39.488025</td>\n",
              "      <td>-3.638234</td>\n",
              "      <td>0.087055</td>\n",
              "    </tr>\n",
              "    <tr>\n",
              "      <th>std</th>\n",
              "      <td>3.250644</td>\n",
              "      <td>19.575821</td>\n",
              "      <td>52.071466</td>\n",
              "      <td>20.381650</td>\n",
              "      <td>50.073698</td>\n",
              "      <td>0.786221</td>\n",
              "    </tr>\n",
              "    <tr>\n",
              "      <th>min</th>\n",
              "      <td>1.000000</td>\n",
              "      <td>-34.603716</td>\n",
              "      <td>-123.113952</td>\n",
              "      <td>-37.814245</td>\n",
              "      <td>-123.113952</td>\n",
              "      <td>-0.997400</td>\n",
              "    </tr>\n",
              "    <tr>\n",
              "      <th>25%</th>\n",
              "      <td>1.000000</td>\n",
              "      <td>36.721303</td>\n",
              "      <td>-4.250169</td>\n",
              "      <td>35.391861</td>\n",
              "      <td>-3.703582</td>\n",
              "      <td>-0.771800</td>\n",
              "    </tr>\n",
              "    <tr>\n",
              "      <th>50%</th>\n",
              "      <td>3.000000</td>\n",
              "      <td>51.154108</td>\n",
              "      <td>-0.127765</td>\n",
              "      <td>49.260872</td>\n",
              "      <td>-0.127765</td>\n",
              "      <td>0.224200</td>\n",
              "    </tr>\n",
              "    <tr>\n",
              "      <th>75%</th>\n",
              "      <td>7.000000</td>\n",
              "      <td>51.507446</td>\n",
              "      <td>4.832011</td>\n",
              "      <td>51.507446</td>\n",
              "      <td>9.804078</td>\n",
              "      <td>0.915350</td>\n",
              "    </tr>\n",
              "    <tr>\n",
              "      <th>max</th>\n",
              "      <td>10.000000</td>\n",
              "      <td>64.145981</td>\n",
              "      <td>151.208285</td>\n",
              "      <td>64.145981</td>\n",
              "      <td>174.550610</td>\n",
              "      <td>0.999200</td>\n",
              "    </tr>\n",
              "  </tbody>\n",
              "</table>\n",
              "</div>"
            ],
            "text/plain": [
              "            Rating  Start_Latitude  Start_Longitude  End_Latitude  \\\n",
              "count  1067.000000     1065.000000      1065.000000   1064.000000   \n",
              "mean      4.354264       40.485296        -8.693791     39.488025   \n",
              "std       3.250644       19.575821        52.071466     20.381650   \n",
              "min       1.000000      -34.603716      -123.113952    -37.814245   \n",
              "25%       1.000000       36.721303        -4.250169     35.391861   \n",
              "50%       3.000000       51.154108        -0.127765     49.260872   \n",
              "75%       7.000000       51.507446         4.832011     51.507446   \n",
              "max      10.000000       64.145981       151.208285     64.145981   \n",
              "\n",
              "       End_Longitude  Sentiment_Scores  \n",
              "count    1064.000000       1067.000000  \n",
              "mean       -3.638234          0.087055  \n",
              "std        50.073698          0.786221  \n",
              "min      -123.113952         -0.997400  \n",
              "25%        -3.703582         -0.771800  \n",
              "50%        -0.127765          0.224200  \n",
              "75%         9.804078          0.915350  \n",
              "max       174.550610          0.999200  "
            ]
          },
          "execution_count": 63,
          "metadata": {},
          "output_type": "execute_result"
        }
      ],
      "source": [
        "# Checking summary statistics on Verified reviews only\n",
        "verified_mask = df[df['Verified'] == 'Trip Verified']\n",
        "verified_mask.describe()"
      ]
    },
    {
      "cell_type": "code",
      "execution_count": null,
      "id": "7f7905b4",
      "metadata": {
        "execution": {
          "iopub.execute_input": "2024-01-02T13:09:45.564592Z",
          "iopub.status.busy": "2024-01-02T13:09:45.564159Z",
          "iopub.status.idle": "2024-01-02T13:09:46.114578Z",
          "shell.execute_reply": "2024-01-02T13:09:46.113336Z"
        },
        "papermill": {
          "duration": 0.599681,
          "end_time": "2024-01-02T13:09:46.118053",
          "exception": false,
          "start_time": "2024-01-02T13:09:45.518372",
          "status": "completed"
        },
        "tags": [],
        "id": "7f7905b4",
        "outputId": "e1adf2ec-2b94-4844-caf4-76f91140f9e7"
      },
      "outputs": [
        {
          "data": {
            "image/png": "[encoded data removed]",
            "text/plain": [
              "<Figure size 640x480 with 1 Axes>"
            ]
          },
          "metadata": {},
          "output_type": "display_data"
        }
      ],
      "source": [
        "# Assuming 'df' is your DataFrame\n",
        "# Checking distribution of Rating counts using a bar chart for visualization\n",
        "values = df['Rating'].value_counts().sort_index()\n",
        "plt.bar(values.index, values, align='center', alpha=0.6, color='red')\n",
        "plt.title('Rating Distribution')\n",
        "plt.xlabel('Rating')\n",
        "plt.ylabel('Count')\n",
        "\n",
        "# Adding a dashed line to the bar chart to show Average Rating count\n",
        "avg_count = df['Rating'].value_counts().mean()\n",
        "plt.axhline(y=avg_count, color='black', linestyle='--', label='Avg Rating Count')\n",
        "\n",
        "# Adding a dot at the average rating value on the x-axis\n",
        "avg_rating = df['Rating'].mean()\n",
        "plt.scatter([avg_rating], [avg_count], color='red', marker='o', label='Avg Rating Dot', zorder=5)  # zorder ensures the dot is on top\n",
        "\n",
        "# Set x-axis ticks to iterate by 1\n",
        "plt.xticks(range(int(min(values.index)), int(max(values.index)) + 1))\n",
        "\n",
        "plt.legend()\n",
        "plt.show()"
      ]
    },
    {
      "cell_type": "code",
      "execution_count": null,
      "id": "39f799ef",
      "metadata": {
        "execution": {
          "iopub.execute_input": "2024-01-02T13:09:46.208475Z",
          "iopub.status.busy": "2024-01-02T13:09:46.208019Z",
          "iopub.status.idle": "2024-01-02T13:09:46.728976Z",
          "shell.execute_reply": "2024-01-02T13:09:46.727636Z"
        },
        "papermill": {
          "duration": 0.569849,
          "end_time": "2024-01-02T13:09:46.731905",
          "exception": false,
          "start_time": "2024-01-02T13:09:46.162056",
          "status": "completed"
        },
        "tags": [],
        "id": "39f799ef",
        "outputId": "f7bc6158-9af5-419e-ff8d-ff8dc5781e24"
      },
      "outputs": [
        {
          "data": {
            "image/png": "[encoded data removed]",
            "text/plain": [
              "<Figure size 640x480 with 1 Axes>"
            ]
          },
          "metadata": {},
          "output_type": "display_data"
        }
      ],
      "source": [
        "# Assuming 'df' is your DataFrame\n",
        "# Checking distribution of 'Rating' counts using a bar chart for visualization\n",
        "values = verified_mask['Rating'].value_counts().sort_index()\n",
        "plt.bar(values.index, values, align='center', alpha=0.6, color='red')\n",
        "plt.title('Rating Distribution')\n",
        "plt.xlabel('Rating')\n",
        "plt.ylabel('Count')\n",
        "\n",
        "# Adding a dashed line to the bar chart to show Average Rating count\n",
        "avg_count = verified_mask['Rating'].value_counts().mean()\n",
        "plt.axhline(y=avg_count, color='black', linestyle='--', label='Avg Rating Count')\n",
        "\n",
        "\n",
        "# Adding a dot at the average rating value on the x-axis\n",
        "avg_rating = verified_mask['Rating'].mean()\n",
        "plt.scatter([avg_rating], [avg_count], color='red', marker='o', label='Avg Rating Dot', zorder=5)  # zorder ensures the dot is on top\n",
        "\n",
        "\n",
        "# Set x-axis ticks to iterate by 1\n",
        "plt.xticks(range(int(min(values.index)), int(max(values.index)) + 1))\n",
        "\n",
        "plt.legend()\n",
        "plt.show()"
      ]
    },
    {
      "cell_type": "markdown",
      "id": "22708eb7",
      "metadata": {
        "papermill": {
          "duration": 0.04602,
          "end_time": "2024-01-02T13:09:46.824618",
          "exception": false,
          "start_time": "2024-01-02T13:09:46.778598",
          "status": "completed"
        },
        "tags": [],
        "id": "22708eb7"
      },
      "source": [
        "### Rating and Sentiment Score Correlation Testing\n",
        "\n",
        "The rating scale (1-10) provided in this dataset provides the perfect reference point to test the validity of the sentiment score analysis I conducted earlier in this project. Based on my interpretation of the rating scale, I believe that sentiment scores should have correlation with the ratings.\n",
        "\n",
        "To test this theory, first I grouped each rating and reviewed the average sentiment score at each rating. The results showed that average sentiment scores were trending positive with each increase in rating. Since this result showed there may be some founding to my claim, I created a scatter plot to visualize the distribution of sentiment scores across each rating and included a trend line to compare the results.\n",
        "\n",
        "The scatter plot results further reinforced my theory that correlation exists between rating and sentiment score. To substantiate this claim, I chose to calculate the correlation coefficient using the Pearson methodology and also calculated the Spearman coefficient to compare results.\n",
        "\n",
        "#### Null Hypothesis\n",
        "There is no correlation between customer sentiment and rating.\n",
        "\n",
        "#### Alternate Hypothesis\n",
        "There is correlation present between customer sentiment and rating.\n",
        "\n",
        "#### Testing Results\n",
        "The results of both correlation coefficient tests were very similar with a correlation coefficient of approximately 0.68 and a p-value of 0.0 for both results. These results confirm that there is sufficient evidence to reject the null hypothesis and accept the alternate hypothesis that there is correlation present between customer sentiment and rating. A correlation coefficient of 0.68 indicates that the correlation is moderate. While the results of this test confirm my theory, it is also important to note that this result is only based on the sample data in this dataset and may not be indicitive of the entire population. Additionally, due to the complexity of human language, natural language processing is still a nuanced topic and the sentiment scores calculated in this dataset may not always be true to the tone of the review."
      ]
    },
    {
      "cell_type": "code",
      "execution_count": null,
      "id": "8a239c14",
      "metadata": {
        "execution": {
          "iopub.execute_input": "2024-01-02T13:09:46.921967Z",
          "iopub.status.busy": "2024-01-02T13:09:46.920956Z",
          "iopub.status.idle": "2024-01-02T13:09:46.933021Z",
          "shell.execute_reply": "2024-01-02T13:09:46.931747Z"
        },
        "papermill": {
          "duration": 0.064109,
          "end_time": "2024-01-02T13:09:46.935491",
          "exception": false,
          "start_time": "2024-01-02T13:09:46.871382",
          "status": "completed"
        },
        "tags": [],
        "id": "8a239c14",
        "outputId": "0d6e5fdc-a3b6-4ef3-d2b6-2a761ff25855"
      },
      "outputs": [
        {
          "data": {
            "text/plain": [
              "Rating\n",
              "1    -0.454784\n",
              "2    -0.257600\n",
              "3    -0.135060\n",
              "4     0.044920\n",
              "5     0.266884\n",
              "6     0.391646\n",
              "7     0.673534\n",
              "8     0.813642\n",
              "9     0.860186\n",
              "10    0.874427\n",
              "Name: Sentiment_Scores, dtype: float64"
            ]
          },
          "execution_count": 66,
          "metadata": {},
          "output_type": "execute_result"
        }
      ],
      "source": [
        "# Checking average Sentiment Score per rating.\n",
        "df.groupby(['Rating'])['Sentiment_Scores'].mean()"
      ]
    },
    {
      "cell_type": "code",
      "execution_count": null,
      "id": "48a711ea",
      "metadata": {
        "execution": {
          "iopub.execute_input": "2024-01-02T13:09:47.033154Z",
          "iopub.status.busy": "2024-01-02T13:09:47.031810Z",
          "iopub.status.idle": "2024-01-02T13:09:47.876226Z",
          "shell.execute_reply": "2024-01-02T13:09:47.875152Z"
        },
        "papermill": {
          "duration": 0.89967,
          "end_time": "2024-01-02T13:09:47.880565",
          "exception": false,
          "start_time": "2024-01-02T13:09:46.980895",
          "status": "completed"
        },
        "tags": [],
        "id": "48a711ea",
        "outputId": "70b6432c-298b-48a4-c829-a53030eae238"
      },
      "outputs": [
        {
          "data": {
            "image/png": "[encoded data removed]",
            "text/plain": [
              "<Figure size 1000x600 with 1 Axes>"
            ]
          },
          "metadata": {},
          "output_type": "display_data"
        },
        {
          "data": {
            "text/plain": [
              "'\\nThe output of this scatter plot indicates that there is a positive trend between Rating and Sentiment Scores.\\n\\nThere also appears to be a lot clustering for negative review scores skewing towards both the positive and \\nnegative on the Sentiment Scores axis. This skewing is less apparent when Ratings become more positive.\\nThis indicates there may be some biases in the Vader Natural Language Processing package used in this analysis\\nor the package has trouble interpreting the tone of the review. \\n\\nThis may also explain why the average Sentiment Score in this dataset is slightly positive while the average \\nRating is negative. \\n'"
            ]
          },
          "execution_count": 67,
          "metadata": {},
          "output_type": "execute_result"
        }
      ],
      "source": [
        "# Creating a scatter plot to view the Sentiment Score distribution for each Rating with a regression line.\n",
        "plt.figure(figsize=(10, 6))\n",
        "sns.regplot(x='Sentiment_Scores', y='Rating', data=df, scatter_kws={'alpha':0.5})\n",
        "plt.title('Scatter Plot with Regression Line: Sentiment Scores vs. Rating')\n",
        "plt.xlabel('Sentiment Scores')\n",
        "plt.ylabel('Rating')\n",
        "plt.show()\n",
        "\n",
        "'''\n",
        "The output of this scatter plot indicates that there is a positive trend between Rating and Sentiment Scores.\n",
        "\n",
        "There also appears to be a lot clustering for negative review scores skewing towards both the positive and\n",
        "negative on the Sentiment Scores axis. This skewing is less apparent when Ratings become more positive.\n",
        "This indicates there may be some biases in the Vader Natural Language Processing package used in this analysis\n",
        "or the package has trouble interpreting the tone of the review.\n",
        "\n",
        "This may also explain why the average Sentiment Score in this dataset is slightly positive while the average\n",
        "Rating is negative.\n",
        "'''"
      ]
    },
    {
      "cell_type": "code",
      "execution_count": null,
      "id": "b1c5ca7e",
      "metadata": {
        "execution": {
          "iopub.execute_input": "2024-01-02T13:09:47.978322Z",
          "iopub.status.busy": "2024-01-02T13:09:47.977152Z",
          "iopub.status.idle": "2024-01-02T13:09:47.993216Z",
          "shell.execute_reply": "2024-01-02T13:09:47.992277Z"
        },
        "papermill": {
          "duration": 0.067907,
          "end_time": "2024-01-02T13:09:47.995969",
          "exception": false,
          "start_time": "2024-01-02T13:09:47.928062",
          "status": "completed"
        },
        "tags": [],
        "id": "b1c5ca7e",
        "outputId": "ca1b7d3c-1e0c-48df-984e-4875ce22c41e"
      },
      "outputs": [
        {
          "name": "stdout",
          "output_type": "stream",
          "text": [
            "Pearson Correlation Coefficient: 0.6692421498466098\n",
            "Pearson p-value: 0.0\n",
            "\n",
            "\n",
            "Spearman Rank Correlation Coefficient: 0.6835690362786957\n",
            "Spearman p-value: 0.0\n"
          ]
        }
      ],
      "source": [
        "from scipy.stats import pearsonr, spearmanr\n",
        "\n",
        "# Example data (replace with your actual data)\n",
        "rating_scores = df['Rating']\n",
        "sentiment_scores = df['Sentiment_Scores']\n",
        "\n",
        "# Calculate Pearson correlation coefficient and p-value\n",
        "pearson_corr, pearson_p_value = pearsonr(df['Rating'], df['Sentiment_Scores'])\n",
        "\n",
        "# Calculate Spearman rank correlation coefficient and p-value\n",
        "spearman_corr, spearman_p_value = spearmanr(df['Rating'], df['Sentiment_Scores'])\n",
        "\n",
        "# Print the results\n",
        "print(f\"Pearson Correlation Coefficient: {pearson_corr}\")\n",
        "print(f\"Pearson p-value: {pearson_p_value}\")\n",
        "print(\"\\n\")\n",
        "print(f\"Spearman Rank Correlation Coefficient: {spearman_corr}\")\n",
        "print(f\"Spearman p-value: {spearman_p_value}\")"
      ]
    },
    {
      "cell_type": "markdown",
      "id": "7d5b5fc2",
      "metadata": {
        "papermill": {
          "duration": 0.048017,
          "end_time": "2024-01-02T13:09:48.091819",
          "exception": false,
          "start_time": "2024-01-02T13:09:48.043802",
          "status": "completed"
        },
        "tags": [],
        "id": "7d5b5fc2"
      },
      "source": [
        "#### Exploring Sentiment Across Categories"
      ]
    },
    {
      "cell_type": "code",
      "execution_count": null,
      "id": "23fc06db",
      "metadata": {
        "execution": {
          "iopub.execute_input": "2024-01-02T13:09:48.191060Z",
          "iopub.status.busy": "2024-01-02T13:09:48.190278Z",
          "iopub.status.idle": "2024-01-02T13:09:48.202217Z",
          "shell.execute_reply": "2024-01-02T13:09:48.201112Z"
        },
        "papermill": {
          "duration": 0.064074,
          "end_time": "2024-01-02T13:09:48.204782",
          "exception": false,
          "start_time": "2024-01-02T13:09:48.140708",
          "status": "completed"
        },
        "tags": [],
        "id": "23fc06db",
        "outputId": "596f97af-7b29-48ad-ae24-2625a7dea194"
      },
      "outputs": [
        {
          "data": {
            "text/plain": [
              "Class\n",
              "Business Class     0.257172\n",
              "Economy Class      0.100962\n",
              "First Class        0.466353\n",
              "Premium Economy    0.246089\n",
              "Unknown           -0.172500\n",
              "Name: Sentiment_Scores, dtype: float64"
            ]
          },
          "execution_count": 69,
          "metadata": {},
          "output_type": "execute_result"
        }
      ],
      "source": [
        "# Setting null values to 'Uknown' in 'Class' column for visualization\n",
        "df['Class'].fillna(\"Unknown\", inplace = True)\n",
        "\n",
        "# Grouping 'Class' to check mean\n",
        "class_group = df.groupby('Class')\n",
        "\n",
        "# Checking mean of each 'Class'\n",
        "class_group['Sentiment_Scores'].mean()"
      ]
    },
    {
      "cell_type": "code",
      "execution_count": null,
      "id": "e9c2753d",
      "metadata": {
        "execution": {
          "iopub.execute_input": "2024-01-02T13:09:48.303073Z",
          "iopub.status.busy": "2024-01-02T13:09:48.302184Z",
          "iopub.status.idle": "2024-01-02T13:09:48.885220Z",
          "shell.execute_reply": "2024-01-02T13:09:48.883879Z"
        },
        "papermill": {
          "duration": 0.635831,
          "end_time": "2024-01-02T13:09:48.887664",
          "exception": false,
          "start_time": "2024-01-02T13:09:48.251833",
          "status": "completed"
        },
        "tags": [],
        "id": "e9c2753d",
        "outputId": "f75cf57b-3654-4323-d7b6-d83446fcfac6"
      },
      "outputs": [
        {
          "data": {
            "image/png": "[encoded data removed]",
            "text/plain": [
              "<Figure size 1000x800 with 1 Axes>"
            ]
          },
          "metadata": {},
          "output_type": "display_data"
        },
        {
          "data": {
            "text/plain": [
              "'\\nThe output of this chart indicates that there may be a relationship between class and sentiment scores. First Class\\nhas the most positive distribution of sentiment while sentiment decreases with each lower tier of class. Economy has\\nthe most negative distribution of scores with average sentiment still positive.\\n'"
            ]
          },
          "execution_count": 70,
          "metadata": {},
          "output_type": "execute_result"
        }
      ],
      "source": [
        "# Creating a violin plot to view the distribution of Sentiment Scores across each class\n",
        "plt.figure(figsize=(10, 8))\n",
        "sns.violinplot(x='Class', y='Sentiment_Scores', data=df, palette='tab10', inner='box', cut=0)\n",
        "plt.ylim(-1, 1)  # Set the desired y-axis limits\n",
        "plt.title('Violin Plot of Sentiment Scores Across Classes')\n",
        "plt.show()\n",
        "\n",
        "'''\n",
        "The output of this chart indicates that there may be a relationship between class and sentiment scores. First Class\n",
        "has the most positive distribution of sentiment while sentiment decreases with each lower tier of class. Economy has\n",
        "the most negative distribution of scores with average sentiment still positive.\n",
        "'''"
      ]
    },
    {
      "cell_type": "code",
      "execution_count": null,
      "id": "1c04f751",
      "metadata": {
        "execution": {
          "iopub.execute_input": "2024-01-02T13:09:48.988597Z",
          "iopub.status.busy": "2024-01-02T13:09:48.987893Z",
          "iopub.status.idle": "2024-01-02T13:09:49.001169Z",
          "shell.execute_reply": "2024-01-02T13:09:48.999613Z"
        },
        "papermill": {
          "duration": 0.06659,
          "end_time": "2024-01-02T13:09:49.003695",
          "exception": false,
          "start_time": "2024-01-02T13:09:48.937105",
          "status": "completed"
        },
        "tags": [],
        "id": "1c04f751",
        "outputId": "05f4abca-9572-4d69-c6d5-d1354bbfc6b2"
      },
      "outputs": [
        {
          "data": {
            "text/plain": [
              "Traveller_Type\n",
              "Business          0.021533\n",
              "Couple Leisure    0.134613\n",
              "Family Leisure    0.048805\n",
              "Solo Leisure      0.249426\n",
              "Unknown           0.390243\n",
              "Various          -0.980400\n",
              "Name: Sentiment_Scores, dtype: float64"
            ]
          },
          "execution_count": 71,
          "metadata": {},
          "output_type": "execute_result"
        }
      ],
      "source": [
        "# Setting null values to 'Uknown' in 'Traveller_Type' column for visualization\n",
        "df['Traveller_Type'].fillna(\"Unknown\", inplace = True)\n",
        "\n",
        "# Grouping 'Traveller_Type' to check mean\n",
        "traveller_group = df.groupby('Traveller_Type')\n",
        "\n",
        "# Checking mean\n",
        "traveller_group['Sentiment_Scores'].mean()"
      ]
    },
    {
      "cell_type": "code",
      "execution_count": null,
      "id": "e7c865d6",
      "metadata": {
        "execution": {
          "iopub.execute_input": "2024-01-02T13:09:49.105788Z",
          "iopub.status.busy": "2024-01-02T13:09:49.105294Z",
          "iopub.status.idle": "2024-01-02T13:09:49.694316Z",
          "shell.execute_reply": "2024-01-02T13:09:49.693095Z"
        },
        "papermill": {
          "duration": 0.643678,
          "end_time": "2024-01-02T13:09:49.697039",
          "exception": false,
          "start_time": "2024-01-02T13:09:49.053361",
          "status": "completed"
        },
        "tags": [],
        "id": "e7c865d6",
        "outputId": "8ec68652-7796-4827-fa11-15ca39253502"
      },
      "outputs": [
        {
          "data": {
            "image/png": "[encoded data removed]",
            "text/plain": [
              "<Figure size 1000x800 with 1 Axes>"
            ]
          },
          "metadata": {},
          "output_type": "display_data"
        },
        {
          "data": {
            "text/plain": [
              "'\\nThe output of this chart indicates that there may be a relationship between traveller type and sentiment scores.\\nSolo Leisure has the most positive distribution of sentiment while sentiment decreases for Couple Leisure, Family\\nLeisure and Business travel respectively.\\n'"
            ]
          },
          "execution_count": 72,
          "metadata": {},
          "output_type": "execute_result"
        }
      ],
      "source": [
        "# Creating a violin plot to view the distribution of Sentiment Scores across each traveller type\n",
        "plt.figure(figsize=(10, 8))\n",
        "sns.violinplot(x='Traveller_Type', y='Sentiment_Scores', data=df, palette='tab10', cut=0)\n",
        "plt.ylim(-1,1)\n",
        "plt.title('Violin Plot of Sentiment Scores Across Traveller Types')\n",
        "plt.show()\n",
        "\n",
        "'''\n",
        "The output of this chart indicates that there may be a relationship between traveller type and sentiment scores.\n",
        "Solo Leisure has the most positive distribution of sentiment while sentiment decreases for Couple Leisure, Family\n",
        "Leisure and Business travel respectively.\n",
        "'''"
      ]
    },
    {
      "cell_type": "code",
      "execution_count": null,
      "id": "c2a64e84",
      "metadata": {
        "execution": {
          "iopub.execute_input": "2024-01-02T13:09:49.801510Z",
          "iopub.status.busy": "2024-01-02T13:09:49.801065Z",
          "iopub.status.idle": "2024-01-02T13:09:49.812802Z",
          "shell.execute_reply": "2024-01-02T13:09:49.811657Z"
        },
        "papermill": {
          "duration": 0.066927,
          "end_time": "2024-01-02T13:09:49.815275",
          "exception": false,
          "start_time": "2024-01-02T13:09:49.748348",
          "status": "completed"
        },
        "tags": [],
        "id": "c2a64e84",
        "outputId": "b1ca2f8b-3dad-4c40-9618-41648507010a"
      },
      "outputs": [
        {
          "data": {
            "text/plain": [
              "Flying_Date\n",
              "April 2016        0.166550\n",
              "April 2017       -0.381933\n",
              "April 2018       -0.461857\n",
              "April 2019       -0.124770\n",
              "April 2020       -0.444233\n",
              "                    ...   \n",
              "September 2018   -0.193650\n",
              "September 2019   -0.313245\n",
              "September 2020    0.533000\n",
              "September 2021   -0.488833\n",
              "September 2022    0.110514\n",
              "Name: Sentiment_Scores, Length: 100, dtype: float64"
            ]
          },
          "execution_count": 73,
          "metadata": {},
          "output_type": "execute_result"
        }
      ],
      "source": [
        "# Grouping travel dates\n",
        "date_travel = df.groupby('Flying_Date')\n",
        "\n",
        "# Checking the averages for each flying date\n",
        "date_travel['Sentiment_Scores'].mean()"
      ]
    },
    {
      "cell_type": "markdown",
      "id": "723d0229",
      "metadata": {
        "papermill": {
          "duration": 0.050587,
          "end_time": "2024-01-02T13:09:49.916627",
          "exception": false,
          "start_time": "2024-01-02T13:09:49.866040",
          "status": "completed"
        },
        "tags": [],
        "id": "723d0229"
      },
      "source": [
        "### Layover Theory Testing\n",
        "\n",
        "As I was cleaning the route data into three separate columns for starting location, ending location, and layover route, I began to reflect on my own travel experiences. One negative experience came to mind where I was flying home from FL to NC with a layover in Atlanta, GA. There was bad weather that day which caused my starting flight to get delayed an hour. This delay led to me nearly missing my connection flight and led to me making a mad sprint through the Atlanta airport in the hopes that I could make my flight. When I arrived at the terminal, I discovered that my connection flight was cancelled and I had to find a new flight home! This turned into a 10 hour waiting period until I could finally catch a flight home.\n",
        "\n",
        "This reflection into my past experiences led me to theorize that flights with a layover will have more negative sentiment than direct flights. To prove whether my theory has any merit, I decided to perform a one-sided 95% confidence test between review samples with a layover and review samples without a layover.  \n",
        "\n",
        "#### Null Hypothesis\n",
        "There is no difference in customer sentiment between direct flights and layover flights\n",
        "\n",
        "#### Alternate Hypothesis\n",
        "Layover flights have more negative sentiment than direct flights\n",
        "\n",
        "\n",
        "#### Testing Results\n",
        "The results of the confidence test confirmed that there is sufficient evidence in this dataset to reject the null hypothesis. This further substantiates my theory that layovers generally lead to more negative sentiment. It is important to note that the samples used in this dataset do not reflect the population as a whole and more testing may be needed to further substantiate this claim. Additionally, it is important to emphasys that while correlation does exist in this dataset sample, this does not prove causation. There may be additional factors leading to this conclusion such as the duration of the layover or the total distance traveled."
      ]
    },
    {
      "cell_type": "code",
      "execution_count": null,
      "id": "a6fddd17",
      "metadata": {
        "execution": {
          "iopub.execute_input": "2024-01-02T13:09:50.019592Z",
          "iopub.status.busy": "2024-01-02T13:09:50.018991Z",
          "iopub.status.idle": "2024-01-02T13:09:50.036267Z",
          "shell.execute_reply": "2024-01-02T13:09:50.034830Z"
        },
        "papermill": {
          "duration": 0.072227,
          "end_time": "2024-01-02T13:09:50.039104",
          "exception": false,
          "start_time": "2024-01-02T13:09:49.966877",
          "status": "completed"
        },
        "tags": [],
        "id": "a6fddd17",
        "outputId": "d367548d-4246-48aa-f860-72a071dec317"
      },
      "outputs": [
        {
          "name": "stdout",
          "output_type": "stream",
          "text": [
            "p-value:  0.00255 %\n",
            "Reject the null hypothesis: Layover flights have more negative sentiment than direct flights\n"
          ]
        }
      ],
      "source": [
        "# Importing Library for t testing\n",
        "from scipy import stats\n",
        "\n",
        "# Creating dataframes for direct flights and layover flights\n",
        "layover_df = df[df['Layover_Route'].notnull()]\n",
        "direct_df = df[df['Layover_Route'].isnull()]\n",
        "\n",
        "# Assigning variables for the Sentiment Scores\n",
        "layover_sent = layover_df['Sentiment_Scores']\n",
        "direct_sent = direct_df['Sentiment_Scores']\n",
        "\n",
        "# Calculating the mean and std dev for layover flights\n",
        "layover_mean = layover_sent.mean()\n",
        "layover_std = layover_sent.std()\n",
        "\n",
        "# Calculating the mean and std dev for direct flights\n",
        "direct_mean = direct_sent.mean()\n",
        "direct_std = direct_sent.std()\n",
        "\n",
        "alpha = 0.05\n",
        "\n",
        "# Performing independent one-sided t-test\n",
        "t_stat, p_value = stats.ttest_ind(layover_sent, direct_sent, alternative='less')\n",
        "\n",
        "# Printing the p-value in percentage form for better readability\n",
        "print('p-value: ', round(p_value * 100, 5), '%')\n",
        "\n",
        "# Checking the p-value against the adjusted significance level for a one-sided test\n",
        "if p_value < alpha / 2:\n",
        "    print(\"Reject the null hypothesis: Layover flights have more negative sentiment than direct flights\")\n",
        "else:\n",
        "    print(\"Fail to reject the null hypothesis\")"
      ]
    },
    {
      "cell_type": "markdown",
      "id": "4bc1444d",
      "metadata": {
        "papermill": {
          "duration": 0.050512,
          "end_time": "2024-01-02T13:09:50.141068",
          "exception": false,
          "start_time": "2024-01-02T13:09:50.090556",
          "status": "completed"
        },
        "tags": [],
        "id": "4bc1444d"
      },
      "source": [
        "### Insights\n",
        "\n",
        "Through data exploration, I learned a lot of valuable information that can be used to form a cohesive strategy for British Airways to implement changes that will create value for its patrons. I have broken down some of these insights into a list below for ease of readability.\n",
        "\n",
        "1. The average rating is negative with a score of 4.8.\n",
        "2. The average sentiment of reviews is slightly positive at 0.17.\n",
        "   - This appears to be skewed towards the positive due to the complexity of natural language processing\n",
        "3. Ratings and customer sentiment have moderate correlation.\n",
        "4. Customer sentiment is more negative for layover flights than direct flights.\n",
        "5. Customers in Economy Class have the lowest distribution of sentiment scores while customers traveling in first class have the highest distribution of sentiment scores.\n",
        "6. Customers traveling for business purposes have the lowest distribution of sentiment scores while customers traveling for solo leisure purposes have the highest distribution of sentiment scores.\n",
        "\n",
        "By shedding light on these insights, we uncover pain points within the sample customer base, providing a foundation to craft meaningful solutions that enhance the overall experience for all British Airways customers."
      ]
    },
    {
      "cell_type": "markdown",
      "id": "289b4797",
      "metadata": {
        "papermill": {
          "duration": 0.050274,
          "end_time": "2024-01-02T13:09:50.242352",
          "exception": false,
          "start_time": "2024-01-02T13:09:50.192078",
          "status": "completed"
        },
        "tags": [],
        "id": "289b4797"
      },
      "source": [
        "## Conclusion\n",
        "\n",
        "Based on the findings identified in this analysis, it is apparent that British Airways customers represented in this dataset are dissatisfied with the service. While acknowledging that this dataset is a sample and may not fully represent the entire customer population, the data suggests a need for British Airways to explore strategies to enhance customer sentiment and ensure customer retention.\n",
        "\n",
        "By utilizing sentiment analysis to analyze reviews, I learned that customer sentiment is lowest amongst economy class customers and customers traveling for business purposes. Customer sentiment further decreases for flights that have a layover. Based on these discoveries, the most meaningful impacts will likely come from making improvements to the experience of customers traveling in economy class, customers traveling for business purposes, and customers experiencing layovers. To help guide British Airways on how to begin tackling these pain points, I have outlined some recommendations below.\n",
        "\n",
        "#### Recommendations for Enhancing Customer Experience\n",
        "\n",
        "Understanding areas of negative customer sentiment can provide valuable insights for British Airways. With a clear understanding of where problems exist, British Airways can implement several plans to begin to understand why its customers are dissatisfied. One method to accomplish this goal would be sending out both random and targeted surveys that aim to understand the cause of customer dissatisfaction.\n",
        "\n",
        "Another suggestion for improvement would be to analyze which travel locations are most popular amongst customers. This analysis may reveal opportunities to create direct flight offerings and thus create more value for the customer base. While direct flights may be ideal, these may not always be feasible. In such cases, British Airways could review the most common causes of flight delays to understand if there is any room to improve internal operating procedures and limit preventable delays.\n",
        "\n",
        "By working to better understand the needs of its customer base and enacting the improvement procedures outlined in this project, British Airways will be able to soar above its competition."
      ]
    },
    {
      "cell_type": "code",
      "execution_count": null,
      "id": "9bf80965",
      "metadata": {
        "execution": {
          "iopub.execute_input": "2024-01-02T13:09:50.347081Z",
          "iopub.status.busy": "2024-01-02T13:09:50.346644Z",
          "iopub.status.idle": "2024-01-02T13:09:50.613970Z",
          "shell.execute_reply": "2024-01-02T13:09:50.612374Z"
        },
        "papermill": {
          "duration": 0.323695,
          "end_time": "2024-01-02T13:09:50.616890",
          "exception": false,
          "start_time": "2024-01-02T13:09:50.293195",
          "status": "completed"
        },
        "tags": [],
        "id": "9bf80965",
        "outputId": "70f797be-6ef0-44b9-f3d2-e40214c90a29"
      },
      "outputs": [
        {
          "name": "stdout",
          "output_type": "stream",
          "text": [
            "The file was saved\n"
          ]
        }
      ],
      "source": [
        "# Saving the transformed dataset\n",
        "df.to_csv(r'/kaggle/working/AirlineScrappedReview_Cleaned.csv')\n",
        "\n",
        "print('The file was saved')"
      ]
    }
  ],
  "metadata": {
    "kaggle": {
      "accelerator": "none",
      "dataSources": [
        {
          "datasetId": 3475962,
          "sourceId": 6727279,
          "sourceType": "datasetVersion"
        }
      ],
      "isGpuEnabled": false,
      "isInternetEnabled": true,
      "language": "python",
      "sourceType": "notebook"
    },
    "kernelspec": {
      "display_name": "Python 3",
      "language": "python",
      "name": "python3"
    },
    "language_info": {
      "codemirror_mode": {
        "name": "ipython",
        "version": 3
      },
      "file_extension": ".py",
      "mimetype": "text/x-python",
      "name": "python",
      "nbconvert_exporter": "python",
      "pygments_lexer": "ipython3",
      "version": "3.10.12"
    },
    "papermill": {
      "default_parameters": {},
      "duration": 421.985945,
      "end_time": "2024-01-02T13:09:51.493166",
      "environment_variables": {},
      "exception": null,
      "input_path": "__notebook__.ipynb",
      "output_path": "__notebook__.ipynb",
      "parameters": {},
      "start_time": "2024-01-02T13:02:49.507221",
      "version": "2.4.0"
    },
    "colab": {
      "provenance": [],
      "include_colab_link": true
    }
  },
  "nbformat": 4,
  "nbformat_minor": 5
}